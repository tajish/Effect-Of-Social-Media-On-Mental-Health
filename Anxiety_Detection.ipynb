{
  "cells": [
    {
      "cell_type": "code",
      "execution_count": null,
      "metadata": {
        "id": "L9oy95WPE7EH"
      },
      "outputs": [],
      "source": [
        "import pandas as pd\n",
        "import numpy as np\n",
        "import seaborn as sns\n",
        "import matplotlib.pyplot as plt"
      ]
    },
    {
      "cell_type": "code",
      "execution_count": null,
      "metadata": {
        "id": "nASFE76mFszN"
      },
      "outputs": [],
      "source": [
        "df = pd.read_excel('anxiety.xlsx')"
      ]
    },
    {
      "cell_type": "code",
      "execution_count": null,
      "metadata": {
        "colab": {
          "base_uri": "https://localhost:8080/"
        },
        "id": "yuUmRvDDGpYo",
        "outputId": "ce59b362-da80-49b2-bab3-c3c8b9a39c79"
      },
      "outputs": [
        {
          "data": {
            "text/html": [
              "\n",
              "  <div id=\"df-a8eb2e90-2a6f-4fc5-942e-7b0bb74de68d\">\n",
              "    <div class=\"colab-df-container\">\n",
              "      <div>\n",
              "<style scoped>\n",
              "    .dataframe tbody tr th:only-of-type {\n",
              "        vertical-align: middle;\n",
              "    }\n",
              "\n",
              "    .dataframe tbody tr th {\n",
              "        vertical-align: top;\n",
              "    }\n",
              "\n",
              "    .dataframe thead th {\n",
              "        text-align: right;\n",
              "    }\n",
              "</style>\n",
              "<table border=\"1\" class=\"dataframe\">\n",
              "  <thead>\n",
              "    <tr style=\"text-align: right;\">\n",
              "      <th></th>\n",
              "      <th>2. Which social media account do you use usually?</th>\n",
              "      <th>3. Which device do you usually use to connect social media?</th>\n",
              "      <th>4. Which type of internet connection do you use?</th>\n",
              "      <th>5. How long have you been using a social media account?</th>\n",
              "      <th>6. How frequently do you post (upload status or add photos/videos) on social media?</th>\n",
              "      <th>7. How much time do you spend daily in social media?</th>\n",
              "      <th>8. When do you usually use social media?</th>\n",
              "      <th>9. How many friends do you have on social media?</th>\n",
              "      <th>10. How many friends do you know personally in social media?</th>\n",
              "      <th>11. How many groups you are tagged in social media?</th>\n",
              "      <th>...</th>\n",
              "      <th>24. Religion</th>\n",
              "      <th>25. Education</th>\n",
              "      <th>26. Profession</th>\n",
              "      <th>27. Monthly income</th>\n",
              "      <th>28. Area of residence</th>\n",
              "      <th>29. Living with-</th>\n",
              "      <th>30. Body weight (Kg)</th>\n",
              "      <th>31. Height (m)</th>\n",
              "      <th>32. Smoking habit</th>\n",
              "      <th>anxiety</th>\n",
              "    </tr>\n",
              "  </thead>\n",
              "  <tbody>\n",
              "    <tr>\n",
              "      <th>0</th>\n",
              "      <td>Facebook</td>\n",
              "      <td>Mobile Phone</td>\n",
              "      <td>Broadband (Wi-Fi)</td>\n",
              "      <td>5-10 years</td>\n",
              "      <td>Less than 1 per day</td>\n",
              "      <td>1-3 hours</td>\n",
              "      <td>Frequently at anytime</td>\n",
              "      <td>Less than 500</td>\n",
              "      <td>All of them</td>\n",
              "      <td>Less than 5</td>\n",
              "      <td>...</td>\n",
              "      <td>Muslim</td>\n",
              "      <td>Graduate Level</td>\n",
              "      <td>Private job</td>\n",
              "      <td>Above 70,000 Tk</td>\n",
              "      <td>Urban Area</td>\n",
              "      <td>With family</td>\n",
              "      <td>34.0</td>\n",
              "      <td>1.4986</td>\n",
              "      <td>Non-smoker</td>\n",
              "      <td>mild anxiety</td>\n",
              "    </tr>\n",
              "    <tr>\n",
              "      <th>1</th>\n",
              "      <td>Facebook</td>\n",
              "      <td>Mobile Phone</td>\n",
              "      <td>Broadband (Wi-Fi)</td>\n",
              "      <td>5-10 years</td>\n",
              "      <td>3-5 per day</td>\n",
              "      <td>More than 5 hours</td>\n",
              "      <td>Frequently at anytime</td>\n",
              "      <td>500-2000</td>\n",
              "      <td>All of them</td>\n",
              "      <td>More than 20</td>\n",
              "      <td>...</td>\n",
              "      <td>Muslim</td>\n",
              "      <td>Graduate Level</td>\n",
              "      <td>Unemployed including students</td>\n",
              "      <td>No income</td>\n",
              "      <td>Urban Area</td>\n",
              "      <td>With family</td>\n",
              "      <td>38.0</td>\n",
              "      <td>1.5748</td>\n",
              "      <td>Non-smoker</td>\n",
              "      <td>moderate anxiety</td>\n",
              "    </tr>\n",
              "    <tr>\n",
              "      <th>2</th>\n",
              "      <td>Facebook</td>\n",
              "      <td>Mobile Phone</td>\n",
              "      <td>Broadband (Wi-Fi)</td>\n",
              "      <td>5-10 years</td>\n",
              "      <td>Less than 1 per day</td>\n",
              "      <td>3-5 hours</td>\n",
              "      <td>Night to late night</td>\n",
              "      <td>Less than 500</td>\n",
              "      <td>Many of them</td>\n",
              "      <td>10-20</td>\n",
              "      <td>...</td>\n",
              "      <td>Muslim</td>\n",
              "      <td>Secondary Level</td>\n",
              "      <td>Unemployed including students</td>\n",
              "      <td>No income</td>\n",
              "      <td>Urban Area</td>\n",
              "      <td>With family</td>\n",
              "      <td>39.0</td>\n",
              "      <td>1.5748</td>\n",
              "      <td>Non-smoker</td>\n",
              "      <td>severe anxiety</td>\n",
              "    </tr>\n",
              "    <tr>\n",
              "      <th>3</th>\n",
              "      <td>Twitter</td>\n",
              "      <td>Mobile Phone</td>\n",
              "      <td>Mobile data</td>\n",
              "      <td>Less than 2-year</td>\n",
              "      <td>Less than 1 per day</td>\n",
              "      <td>3-5 hours</td>\n",
              "      <td>Frequently at anytime</td>\n",
              "      <td>500-2000</td>\n",
              "      <td>Few of them</td>\n",
              "      <td>Less than 5</td>\n",
              "      <td>...</td>\n",
              "      <td>Hindu</td>\n",
              "      <td>Secondary Level</td>\n",
              "      <td>Unemployed including students</td>\n",
              "      <td>No income</td>\n",
              "      <td>Rural Area</td>\n",
              "      <td>Without family</td>\n",
              "      <td>40.0</td>\n",
              "      <td>1.5748</td>\n",
              "      <td>Non-smoker</td>\n",
              "      <td>Minimal anxiety</td>\n",
              "    </tr>\n",
              "    <tr>\n",
              "      <th>4</th>\n",
              "      <td>Twitter</td>\n",
              "      <td>Mobile Phone</td>\n",
              "      <td>Broadband (Wi-Fi)</td>\n",
              "      <td>Less than 2-year</td>\n",
              "      <td>More than 5 per day</td>\n",
              "      <td>More than 5 hours</td>\n",
              "      <td>Night to late night</td>\n",
              "      <td>2000-4000</td>\n",
              "      <td>Most of them</td>\n",
              "      <td>10-20</td>\n",
              "      <td>...</td>\n",
              "      <td>Hindu</td>\n",
              "      <td>Graduate Level</td>\n",
              "      <td>Unemployed including students</td>\n",
              "      <td>No income</td>\n",
              "      <td>Rural Area</td>\n",
              "      <td>With family</td>\n",
              "      <td>40.0</td>\n",
              "      <td>1.5748</td>\n",
              "      <td>Smoker</td>\n",
              "      <td>severe anxiety</td>\n",
              "    </tr>\n",
              "  </tbody>\n",
              "</table>\n",
              "<p>5 rows × 32 columns</p>\n",
              "</div>\n",
              "      <button class=\"colab-df-convert\" onclick=\"convertToInteractive('df-a8eb2e90-2a6f-4fc5-942e-7b0bb74de68d')\"\n",
              "              title=\"Convert this dataframe to an interactive table.\"\n",
              "              style=\"display:none;\">\n",
              "        \n",
              "  <svg xmlns=\"http://www.w3.org/2000/svg\" height=\"24px\"viewBox=\"0 0 24 24\"\n",
              "       width=\"24px\">\n",
              "    <path d=\"M0 0h24v24H0V0z\" fill=\"none\"/>\n",
              "    <path d=\"M18.56 5.44l.94 2.06.94-2.06 2.06-.94-2.06-.94-.94-2.06-.94 2.06-2.06.94zm-11 1L8.5 8.5l.94-2.06 2.06-.94-2.06-.94L8.5 2.5l-.94 2.06-2.06.94zm10 10l.94 2.06.94-2.06 2.06-.94-2.06-.94-.94-2.06-.94 2.06-2.06.94z\"/><path d=\"M17.41 7.96l-1.37-1.37c-.4-.4-.92-.59-1.43-.59-.52 0-1.04.2-1.43.59L10.3 9.45l-7.72 7.72c-.78.78-.78 2.05 0 2.83L4 21.41c.39.39.9.59 1.41.59.51 0 1.02-.2 1.41-.59l7.78-7.78 2.81-2.81c.8-.78.8-2.07 0-2.86zM5.41 20L4 18.59l7.72-7.72 1.47 1.35L5.41 20z\"/>\n",
              "  </svg>\n",
              "      </button>\n",
              "      \n",
              "  <style>\n",
              "    .colab-df-container {\n",
              "      display:flex;\n",
              "      flex-wrap:wrap;\n",
              "      gap: 12px;\n",
              "    }\n",
              "\n",
              "    .colab-df-convert {\n",
              "      background-color: #E8F0FE;\n",
              "      border: none;\n",
              "      border-radius: 50%;\n",
              "      cursor: pointer;\n",
              "      display: none;\n",
              "      fill: #1967D2;\n",
              "      height: 32px;\n",
              "      padding: 0 0 0 0;\n",
              "      width: 32px;\n",
              "    }\n",
              "\n",
              "    .colab-df-convert:hover {\n",
              "      background-color: #E2EBFA;\n",
              "      box-shadow: 0px 1px 2px rgba(60, 64, 67, 0.3), 0px 1px 3px 1px rgba(60, 64, 67, 0.15);\n",
              "      fill: #174EA6;\n",
              "    }\n",
              "\n",
              "    [theme=dark] .colab-df-convert {\n",
              "      background-color: #3B4455;\n",
              "      fill: #D2E3FC;\n",
              "    }\n",
              "\n",
              "    [theme=dark] .colab-df-convert:hover {\n",
              "      background-color: #434B5C;\n",
              "      box-shadow: 0px 1px 3px 1px rgba(0, 0, 0, 0.15);\n",
              "      filter: drop-shadow(0px 1px 2px rgba(0, 0, 0, 0.3));\n",
              "      fill: #FFFFFF;\n",
              "    }\n",
              "  </style>\n",
              "\n",
              "      <script>\n",
              "        const buttonEl =\n",
              "          document.querySelector('#df-a8eb2e90-2a6f-4fc5-942e-7b0bb74de68d button.colab-df-convert');\n",
              "        buttonEl.style.display =\n",
              "          google.colab.kernel.accessAllowed ? 'block' : 'none';\n",
              "\n",
              "        async function convertToInteractive(key) {\n",
              "          const element = document.querySelector('#df-a8eb2e90-2a6f-4fc5-942e-7b0bb74de68d');\n",
              "          const dataTable =\n",
              "            await google.colab.kernel.invokeFunction('convertToInteractive',\n",
              "                                                     [key], {});\n",
              "          if (!dataTable) return;\n",
              "\n",
              "          const docLinkHtml = 'Like what you see? Visit the ' +\n",
              "            '<a target=\"_blank\" href=https://colab.research.google.com/notebooks/data_table.ipynb>data table notebook</a>'\n",
              "            + ' to learn more about interactive tables.';\n",
              "          element.innerHTML = '';\n",
              "          dataTable['output_type'] = 'display_data';\n",
              "          await google.colab.output.renderOutput(dataTable, element);\n",
              "          const docLink = document.createElement('div');\n",
              "          docLink.innerHTML = docLinkHtml;\n",
              "          element.appendChild(docLink);\n",
              "        }\n",
              "      </script>\n",
              "    </div>\n",
              "  </div>\n",
              "  "
            ],
            "text/plain": [
              "  2. Which social media account do you use usually?  \\\n",
              "0                                          Facebook   \n",
              "1                                          Facebook   \n",
              "2                                          Facebook   \n",
              "3                                           Twitter   \n",
              "4                                           Twitter   \n",
              "\n",
              "  3. Which device do you usually use to connect social media?  \\\n",
              "0                                       Mobile Phone            \n",
              "1                                       Mobile Phone            \n",
              "2                                       Mobile Phone            \n",
              "3                                       Mobile Phone            \n",
              "4                                       Mobile Phone            \n",
              "\n",
              "  4. Which type of internet connection do you use?  \\\n",
              "0                                Broadband (Wi-Fi)   \n",
              "1                                Broadband (Wi-Fi)   \n",
              "2                                Broadband (Wi-Fi)   \n",
              "3                                      Mobile data   \n",
              "4                                Broadband (Wi-Fi)   \n",
              "\n",
              "  5. How long have you been using a social media account?  \\\n",
              "0                                         5-10 years        \n",
              "1                                         5-10 years        \n",
              "2                                         5-10 years        \n",
              "3                                   Less than 2-year        \n",
              "4                                   Less than 2-year        \n",
              "\n",
              "  6. How frequently do you post (upload status or add photos/videos) on social media?   \\\n",
              "0                                Less than 1 per day                                     \n",
              "1                                        3-5 per day                                     \n",
              "2                                Less than 1 per day                                     \n",
              "3                                Less than 1 per day                                     \n",
              "4                                More than 5 per day                                     \n",
              "\n",
              "  7. How much time do you spend daily in social media?  \\\n",
              "0                                          1-3 hours     \n",
              "1                                  More than 5 hours     \n",
              "2                                          3-5 hours     \n",
              "3                                          3-5 hours     \n",
              "4                                  More than 5 hours     \n",
              "\n",
              "  8. When do you usually use social media?  \\\n",
              "0                    Frequently at anytime   \n",
              "1                    Frequently at anytime   \n",
              "2                      Night to late night   \n",
              "3                    Frequently at anytime   \n",
              "4                      Night to late night   \n",
              "\n",
              "  9. How many friends do you have on social media?  \\\n",
              "0                                    Less than 500   \n",
              "1                                         500-2000   \n",
              "2                                    Less than 500   \n",
              "3                                         500-2000   \n",
              "4                                        2000-4000   \n",
              "\n",
              "  10. How many friends do you know personally in social media?   \\\n",
              "0                                        All of them              \n",
              "1                                        All of them              \n",
              "2                                       Many of them              \n",
              "3                                        Few of them              \n",
              "4                                       Most of them              \n",
              "\n",
              "  11. How many groups you are tagged in social media?  ... 24. Religion  \\\n",
              "0                                        Less than 5   ...       Muslim   \n",
              "1                                       More than 20   ...       Muslim   \n",
              "2                                              10-20   ...       Muslim   \n",
              "3                                        Less than 5   ...        Hindu   \n",
              "4                                              10-20   ...        Hindu   \n",
              "\n",
              "     25. Education                 26. Profession 27. Monthly income  \\\n",
              "0   Graduate Level                    Private job    Above 70,000 Tk   \n",
              "1   Graduate Level  Unemployed including students          No income   \n",
              "2  Secondary Level  Unemployed including students          No income   \n",
              "3  Secondary Level  Unemployed including students          No income   \n",
              "4   Graduate Level  Unemployed including students          No income   \n",
              "\n",
              "  28. Area of residence 29. Living with- 30. Body weight (Kg) 31. Height (m)  \\\n",
              "0            Urban Area      With family                 34.0         1.4986   \n",
              "1            Urban Area      With family                 38.0         1.5748   \n",
              "2            Urban Area      With family                 39.0         1.5748   \n",
              "3            Rural Area   Without family                 40.0         1.5748   \n",
              "4            Rural Area      With family                 40.0         1.5748   \n",
              "\n",
              "  32. Smoking habit           anxiety  \n",
              "0        Non-smoker      mild anxiety  \n",
              "1        Non-smoker  moderate anxiety  \n",
              "2        Non-smoker    severe anxiety  \n",
              "3        Non-smoker   Minimal anxiety  \n",
              "4            Smoker    severe anxiety  \n",
              "\n",
              "[5 rows x 32 columns]"
            ]
          },
          "execution_count": 3,
          "metadata": {},
          "output_type": "execute_result"
        }
      ],
      "source": [
        "df.head(5)"
      ]
    },
    {
      "cell_type": "code",
      "execution_count": null,
      "metadata": {
        "colab": {
          "base_uri": "https://localhost:8080/"
        },
        "id": "5ruAyrZcHC5K",
        "outputId": "e7434fee-dfbe-4697-e443-b4a137330e5b"
      },
      "outputs": [
        {
          "data": {
            "text/plain": [
              "(791, 32)"
            ]
          },
          "execution_count": 4,
          "metadata": {},
          "output_type": "execute_result"
        }
      ],
      "source": [
        "df.shape"
      ]
    },
    {
      "cell_type": "code",
      "execution_count": null,
      "metadata": {
        "id": "apnRT6peHe-M"
      },
      "outputs": [],
      "source": [
        "sns.set_theme(style=\"darkgrid\")"
      ]
    },
    {
      "cell_type": "code",
      "execution_count": null,
      "metadata": {
        "colab": {
          "base_uri": "https://localhost:8080/"
        },
        "id": "gyOCll6QHGww",
        "outputId": "38b70de5-7054-4475-beb9-d3e5f8d3aff6"
      },
      "outputs": [
        {
          "data": {
            "text/plain": [
              "<matplotlib.axes._subplots.AxesSubplot at 0x7fa9dc6f80a0>"
            ]
          },
          "execution_count": 6,
          "metadata": {},
          "output_type": "execute_result"
        }
      ],
      "source": [
        "plt.figure(figsize=(25,8))\n",
        "sns.countplot(x='21. Please write your age in years (number).',hue='anxiety',data=df)"
      ]
    },
    {
      "cell_type": "code",
      "execution_count": null,
      "metadata": {
        "id": "kdCV4SneBQOn"
      },
      "outputs": [],
      "source": [
        "sns.countplot(x='anxiety',data=df)"
      ]
    },
    {
      "cell_type": "code",
      "execution_count": null,
      "metadata": {
        "id": "6oV58Z00Bde_"
      },
      "outputs": [],
      "source": [
        "sns.countplot(x='32. Smoking habit',hue='anxiety',data=df)"
      ]
    },
    {
      "cell_type": "code",
      "execution_count": null,
      "metadata": {
        "id": "N7NDwGLCChTr"
      },
      "outputs": [],
      "source": [
        "sns.countplot(x='27. Monthly income',hue='anxiety',data=df)"
      ]
    },
    {
      "cell_type": "code",
      "execution_count": null,
      "metadata": {
        "id": "LGtne4exDlzR"
      },
      "outputs": [],
      "source": [
        "sns.countplot(x='7. How much time do you spend daily in social media?',hue='anxiety',data=df)"
      ]
    },
    {
      "cell_type": "markdown",
      "metadata": {
        "id": "ZK8ZDXLeHqk4"
      },
      "source": [
        "**Data Preprocesing**"
      ]
    },
    {
      "cell_type": "code",
      "execution_count": null,
      "metadata": {
        "id": "ZIHcCPlbH3Nl"
      },
      "outputs": [],
      "source": [
        "from sklearn import preprocessing"
      ]
    },
    {
      "cell_type": "code",
      "execution_count": null,
      "metadata": {
        "id": "upxJddnbIG55"
      },
      "outputs": [],
      "source": [
        "label_encoder = preprocessing.LabelEncoder()"
      ]
    },
    {
      "cell_type": "code",
      "execution_count": null,
      "metadata": {
        "id": "fvNrMp-PIjvg"
      },
      "outputs": [],
      "source": [
        "df['2. Which social media account do you use usually?'] = label_encoder.fit_transform(df['2. Which social media account do you use usually?'])\n",
        "df['2. Which social media account do you use usually?'].unique()"
      ]
    },
    {
      "cell_type": "code",
      "execution_count": null,
      "metadata": {
        "id": "IgqOfbk9J7h6"
      },
      "outputs": [],
      "source": [
        "df['3. Which device do you usually use to connect social media?'] = label_encoder.fit_transform(df['3. Which device do you usually use to connect social media?'])\n",
        "df['3. Which device do you usually use to connect social media?'].unique()"
      ]
    },
    {
      "cell_type": "code",
      "execution_count": null,
      "metadata": {
        "id": "jF0twWnLKSw2"
      },
      "outputs": [],
      "source": [
        "df['4. Which type of internet connection do you use?'] = label_encoder.fit_transform(df['4. Which type of internet connection do you use?'])\n",
        "df['4. Which type of internet connection do you use?'].unique()"
      ]
    },
    {
      "cell_type": "code",
      "execution_count": null,
      "metadata": {
        "id": "xECbgxV0Kc17"
      },
      "outputs": [],
      "source": [
        "df['5. How long have you been using a social media account?'] = label_encoder.fit_transform(df['5. How long have you been using a social media account?'])\n",
        "df['5. How long have you been using a social media account?'].unique()"
      ]
    },
    {
      "cell_type": "code",
      "execution_count": null,
      "metadata": {
        "id": "VYOTpAfKKc_S"
      },
      "outputs": [],
      "source": [
        "df['6. How frequently do you post (upload status or add photos/videos) on social media? '] = label_encoder.fit_transform(df['6. How frequently do you post (upload status or add photos/videos) on social media? '])\n",
        "df['6. How frequently do you post (upload status or add photos/videos) on social media? '].unique()"
      ]
    },
    {
      "cell_type": "code",
      "execution_count": null,
      "metadata": {
        "id": "JkbT4yCQKdGC"
      },
      "outputs": [],
      "source": [
        "df['7. How much time do you spend daily in social media?'] = label_encoder.fit_transform(df['7. How much time do you spend daily in social media?'])\n",
        "df['7. How much time do you spend daily in social media?'].unique()"
      ]
    },
    {
      "cell_type": "code",
      "execution_count": null,
      "metadata": {
        "id": "2Tf16tpMKdKr"
      },
      "outputs": [],
      "source": [
        "df['8. When do you usually use social media?'] = label_encoder.fit_transform(df['8. When do you usually use social media?'])\n",
        "df['8. When do you usually use social media?'].unique()"
      ]
    },
    {
      "cell_type": "code",
      "execution_count": null,
      "metadata": {
        "id": "brrMZCq9KdO-"
      },
      "outputs": [],
      "source": [
        "df['9. How many friends do you have on social media?'] = label_encoder.fit_transform(df['9. How many friends do you have on social media?'])\n",
        "df['9. How many friends do you have on social media?'].unique()"
      ]
    },
    {
      "cell_type": "code",
      "execution_count": null,
      "metadata": {
        "id": "lT6B3LFlKdTU"
      },
      "outputs": [],
      "source": [
        "df['10. How many friends do you know personally in social media? '] = label_encoder.fit_transform(df['10. How many friends do you know personally in social media? '])\n",
        "df['10. How many friends do you know personally in social media? '].unique()"
      ]
    },
    {
      "cell_type": "code",
      "execution_count": null,
      "metadata": {
        "id": "eg06muErKdYg"
      },
      "outputs": [],
      "source": [
        "df['11. How many groups you are tagged in social media?'] = label_encoder.fit_transform(df['11. How many groups you are tagged in social media?'])\n",
        "df['11. How many groups you are tagged in social media?'].unique()"
      ]
    },
    {
      "cell_type": "code",
      "execution_count": null,
      "metadata": {
        "id": "42H5Kk7MKdcm"
      },
      "outputs": [],
      "source": [
        "df['12. What is your main purpose for using social media (e.g. Facebook)?'] = label_encoder.fit_transform(df['12. What is your main purpose for using social media (e.g. Facebook)?'])\n",
        "df['12. What is your main purpose for using social media (e.g. Facebook)?'].unique()"
      ]
    },
    {
      "cell_type": "code",
      "execution_count": null,
      "metadata": {
        "id": "UqZhCVq5KdgY"
      },
      "outputs": [],
      "source": [
        "df['13. What contents do you mainly look for in your social media news feed?'] = label_encoder.fit_transform(df['13. What contents do you mainly look for in your social media news feed?'])\n",
        "df['13. What contents do you mainly look for in your social media news feed?'].unique()"
      ]
    },
    {
      "cell_type": "code",
      "execution_count": null,
      "metadata": {
        "id": "vnyo_jdpKdky"
      },
      "outputs": [],
      "source": [
        "df['14.Do you believe social media is a good thing?'] = label_encoder.fit_transform(df['14.Do you believe social media is a good thing?'])\n",
        "df['14.Do you believe social media is a good thing?'].unique()"
      ]
    },
    {
      "cell_type": "code",
      "execution_count": null,
      "metadata": {
        "id": "ix4OjlyqKdoo"
      },
      "outputs": [],
      "source": [
        "df['15. When you see something in social media, do you instantly believe it?'] = label_encoder.fit_transform(df['15. When you see something in social media, do you instantly believe it?'])\n",
        "df['15. When you see something in social media, do you instantly believe it?'].unique()"
      ]
    },
    {
      "cell_type": "code",
      "execution_count": null,
      "metadata": {
        "id": "QYv4A1ckKdsO"
      },
      "outputs": [],
      "source": [
        "df['16. Have you ever experienced peer pressure due to social media?'] = label_encoder.fit_transform(df['16. Have you ever experienced peer pressure due to social media?'])\n",
        "df['16. Have you ever experienced peer pressure due to social media?'].unique()"
      ]
    },
    {
      "cell_type": "code",
      "execution_count": null,
      "metadata": {
        "id": "gAEx7ePdKdv8"
      },
      "outputs": [],
      "source": [
        "df['17. Does your emotion get influenced by others posts (success, failure, loss)? '] = label_encoder.fit_transform(df['17. Does your emotion get influenced by others posts (success, failure, loss)? '])\n",
        "df['17. Does your emotion get influenced by others posts (success, failure, loss)? '].unique()"
      ]
    },
    {
      "cell_type": "code",
      "execution_count": null,
      "metadata": {
        "id": "oYjjzZ1nKdzn"
      },
      "outputs": [],
      "source": [
        "df['18. Have you ever compared yourself with other’s success or luxurious life?'] = label_encoder.fit_transform(df['18. Have you ever compared yourself with other’s success or luxurious life?'])\n",
        "df['18. Have you ever compared yourself with other’s success or luxurious life?'].unique()"
      ]
    },
    {
      "cell_type": "code",
      "execution_count": null,
      "metadata": {
        "id": "U2WBk3_oKd3i"
      },
      "outputs": [],
      "source": [
        "df['19. Do you think, your mental wellbeing would be better if you do not use social media?'] = label_encoder.fit_transform(df['19. Do you think, your mental wellbeing would be better if you do not use social media?'])\n",
        "df['19. Do you think, your mental wellbeing would be better if you do not use social media?'].unique()"
      ]
    },
    {
      "cell_type": "code",
      "execution_count": null,
      "metadata": {
        "id": "ChYZ89uhKd7t"
      },
      "outputs": [],
      "source": [
        "df['20. If answer is yes, are you trying to control that thing and trying to reduce the use of social media?'] = label_encoder.fit_transform(df['20. If answer is yes, are you trying to control that thing and trying to reduce the use of social media?'])\n",
        "df['20. If answer is yes, are you trying to control that thing and trying to reduce the use of social media?'].unique()"
      ]
    },
    {
      "cell_type": "code",
      "execution_count": null,
      "metadata": {
        "id": "SO3x5DF8Kd_2"
      },
      "outputs": [],
      "source": [
        "df['22. Gender'] = label_encoder.fit_transform(df['22. Gender'])\n",
        "df['22. Gender'].unique()"
      ]
    },
    {
      "cell_type": "code",
      "execution_count": null,
      "metadata": {
        "id": "srUGQ9QyKeDj"
      },
      "outputs": [],
      "source": [
        "df['23. Marital Status'] = label_encoder.fit_transform(df['23. Marital Status'])\n",
        "df['23. Marital Status'].unique()"
      ]
    },
    {
      "cell_type": "code",
      "execution_count": null,
      "metadata": {
        "id": "DC4nuojCKeHP"
      },
      "outputs": [],
      "source": [
        "df['24. Religion'] = label_encoder.fit_transform(df['24. Religion'])\n",
        "df['24. Religion'].unique()"
      ]
    },
    {
      "cell_type": "code",
      "execution_count": null,
      "metadata": {
        "id": "guCRR0lWKeKt"
      },
      "outputs": [],
      "source": [
        "df['25. Education'] = label_encoder.fit_transform(df['25. Education'])\n",
        "df['25. Education'].unique()"
      ]
    },
    {
      "cell_type": "code",
      "execution_count": null,
      "metadata": {
        "id": "JXzu4WXvKeOH"
      },
      "outputs": [],
      "source": [
        "df['26. Profession'] = label_encoder.fit_transform(df['26. Profession'])\n",
        "df['26. Profession'].unique()"
      ]
    },
    {
      "cell_type": "code",
      "execution_count": null,
      "metadata": {
        "id": "DmyO4L-cKeRh"
      },
      "outputs": [],
      "source": [
        "df['27. Monthly income'] = label_encoder.fit_transform(df['27. Monthly income'])\n",
        "df['27. Monthly income'].unique()"
      ]
    },
    {
      "cell_type": "code",
      "execution_count": null,
      "metadata": {
        "id": "of2JQWWtKeU2"
      },
      "outputs": [],
      "source": [
        "df['28. Area of residence'] = label_encoder.fit_transform(df['28. Area of residence'])\n",
        "df['28. Area of residence'].unique()"
      ]
    },
    {
      "cell_type": "code",
      "execution_count": null,
      "metadata": {
        "id": "78GLb35FKeX3"
      },
      "outputs": [],
      "source": [
        "df['29. Living with-'] = label_encoder.fit_transform(df['29. Living with-'])\n",
        "df['29. Living with-'].unique()"
      ]
    },
    {
      "cell_type": "code",
      "execution_count": null,
      "metadata": {
        "id": "fSytp3gxKea3"
      },
      "outputs": [],
      "source": [
        "df['32. Smoking habit'] = label_encoder.fit_transform(df['32. Smoking habit'])\n",
        "df['32. Smoking habit'].unique()"
      ]
    },
    {
      "cell_type": "code",
      "execution_count": null,
      "metadata": {
        "id": "WU6yJhZpNaN8"
      },
      "outputs": [],
      "source": [
        "df.head(15)"
      ]
    },
    {
      "cell_type": "markdown",
      "metadata": {
        "id": "C8RNcpO8bZWO"
      },
      "source": [
        "Feature Selection Via **Chi Squire** Test"
      ]
    },
    {
      "cell_type": "code",
      "execution_count": null,
      "metadata": {
        "id": "Z4j3qSi1OyLk"
      },
      "outputs": [],
      "source": [
        "x = df.drop('anxiety',axis=1)"
      ]
    },
    {
      "cell_type": "code",
      "execution_count": null,
      "metadata": {
        "id": "pZ8vNAMeQUrt"
      },
      "outputs": [],
      "source": [
        "x"
      ]
    },
    {
      "cell_type": "code",
      "execution_count": null,
      "metadata": {
        "id": "BlYpq-SwVBzF"
      },
      "outputs": [],
      "source": [
        "y = df['anxiety']"
      ]
    },
    {
      "cell_type": "code",
      "execution_count": null,
      "metadata": {
        "id": "OUDuGNYdVJbI"
      },
      "outputs": [],
      "source": [
        "y"
      ]
    },
    {
      "cell_type": "code",
      "execution_count": null,
      "metadata": {
        "id": "mWcKieaLVPTL"
      },
      "outputs": [],
      "source": [
        "from sklearn.feature_selection import SelectKBest\n",
        "from sklearn.feature_selection import chi2"
      ]
    },
    {
      "cell_type": "code",
      "execution_count": null,
      "metadata": {
        "id": "1jPXAN7LVj3m"
      },
      "outputs": [],
      "source": [
        "FIT_FEATURES = SelectKBest(score_func=chi2)"
      ]
    },
    {
      "cell_type": "code",
      "execution_count": null,
      "metadata": {
        "id": "byKNjOH5Vxzt"
      },
      "outputs": [],
      "source": [
        "FIT_FEATURES.fit(x,y)"
      ]
    },
    {
      "cell_type": "code",
      "execution_count": null,
      "metadata": {
        "id": "PtV53k8CV5tJ"
      },
      "outputs": [],
      "source": [
        "SCORE_COL = pd.DataFrame(FIT_FEATURES.scores_,columns = ['score value'])"
      ]
    },
    {
      "cell_type": "code",
      "execution_count": null,
      "metadata": {
        "id": "Yk9hUcbOWSYL"
      },
      "outputs": [],
      "source": [
        "NAME_COL = pd.DataFrame(x.columns)"
      ]
    },
    {
      "cell_type": "code",
      "execution_count": null,
      "metadata": {
        "id": "xM6dfiVZWd4M"
      },
      "outputs": [],
      "source": [
        "topr_features = pd.concat([NAME_COL,SCORE_COL],axis=1)\n",
        "topr_features.columns = ['Top Features','Score']"
      ]
    },
    {
      "cell_type": "code",
      "execution_count": null,
      "metadata": {
        "id": "6RjRm60VW5rH"
      },
      "outputs": [],
      "source": [
        "topr_features"
      ]
    },
    {
      "cell_type": "code",
      "execution_count": null,
      "metadata": {
        "id": "29oJXHnYXP1k"
      },
      "outputs": [],
      "source": [
        "topr_features.nlargest(33,'Score')"
      ]
    },
    {
      "cell_type": "code",
      "execution_count": null,
      "metadata": {
        "id": "trLM-nyFYzwR"
      },
      "outputs": [],
      "source": [
        "df = df.drop(['20. If answer is yes, are you trying to control that thing and trying to reduce the use of social media?','32. Smoking habit','3. Which device do you usually use to connect social media?','27. Monthly income','6. How frequently do you post (upload status or add photos/videos) on social media? ','23. Marital Status','24. Religion','29. Living with-','31. Height (m)'],axis =1)"
      ]
    },
    {
      "cell_type": "code",
      "execution_count": null,
      "metadata": {
        "id": "nKfHvNKCZmGu"
      },
      "outputs": [],
      "source": [
        "df"
      ]
    },
    {
      "cell_type": "code",
      "execution_count": null,
      "metadata": {
        "id": "F1peTNXOZ4am"
      },
      "outputs": [],
      "source": [
        "x = df.drop('anxiety',axis=1)\n",
        "y = df['anxiety']"
      ]
    },
    {
      "cell_type": "code",
      "execution_count": null,
      "metadata": {
        "id": "3_OrhvZBZ-Qh"
      },
      "outputs": [],
      "source": [
        "from sklearn.model_selection import train_test_split"
      ]
    },
    {
      "cell_type": "code",
      "execution_count": null,
      "metadata": {
        "id": "JEDirm-DaeYB"
      },
      "outputs": [],
      "source": [
        "xtrain,xtest,ytrain,ytest = train_test_split(x,y,test_size=.10,random_state=10)"
      ]
    },
    {
      "cell_type": "code",
      "execution_count": null,
      "metadata": {
        "id": "wx3vRsx9a5Ht"
      },
      "outputs": [],
      "source": [
        "xtest"
      ]
    },
    {
      "cell_type": "code",
      "execution_count": null,
      "metadata": {
        "id": "bbVzZfngbuj5"
      },
      "outputs": [],
      "source": [
        "ytest"
      ]
    },
    {
      "cell_type": "markdown",
      "metadata": {
        "id": "QWYi7djCb5NC"
      },
      "source": [
        "# **MACHINE LEARNING ALGORITHM**"
      ]
    },
    {
      "cell_type": "markdown",
      "metadata": {
        "id": "logsc6pnd26M"
      },
      "source": [
        "# **Decision tree**"
      ]
    },
    {
      "cell_type": "code",
      "execution_count": null,
      "metadata": {
        "id": "bsPt81KTd5Hg"
      },
      "outputs": [],
      "source": [
        "from sklearn.model_selection import train_test_split\n",
        "xtrain,xtest,ytrain,ytest = train_test_split(x,y,test_size=.10,random_state=10)"
      ]
    },
    {
      "cell_type": "code",
      "execution_count": null,
      "metadata": {
        "id": "-D5V1YNpeGn6"
      },
      "outputs": [],
      "source": [
        "from sklearn.tree import DecisionTreeClassifier\n",
        "clf = DecisionTreeClassifier()"
      ]
    },
    {
      "cell_type": "code",
      "execution_count": null,
      "metadata": {
        "id": "nEZj5WMbegcM"
      },
      "outputs": [],
      "source": [
        "clf.fit(xtrain,ytrain)"
      ]
    },
    {
      "cell_type": "code",
      "execution_count": null,
      "metadata": {
        "id": "tP2ONba4ev44"
      },
      "outputs": [],
      "source": [
        "clf.predict(xtest)"
      ]
    },
    {
      "cell_type": "code",
      "execution_count": null,
      "metadata": {
        "id": "1HjUBapHe5Hd"
      },
      "outputs": [],
      "source": [
        "clf.score(xtest,ytest)"
      ]
    },
    {
      "cell_type": "code",
      "execution_count": null,
      "metadata": {
        "id": "KtQ0LW9A-owW"
      },
      "outputs": [],
      "source": [
        "pred_tree = clf.predict(xtest)"
      ]
    },
    {
      "cell_type": "code",
      "execution_count": null,
      "metadata": {
        "id": "2nxCXOCL_HG8"
      },
      "outputs": [],
      "source": [
        "from sklearn.metrics import accuracy_score\n",
        "accuracy_score(ytest,pred_tree)"
      ]
    },
    {
      "cell_type": "code",
      "execution_count": null,
      "metadata": {
        "id": "MrwuhncM_d-e"
      },
      "outputs": [],
      "source": [
        "from sklearn.metrics import confusion_matrix\n",
        "cm = confusion_matrix(ytest,pred_tree)\n",
        "from sklearn.metrics import ConfusionMatrixDisplay\n",
        "cmp = ConfusionMatrixDisplay.from_predictions(ytest,pred_tree)\n",
        "fig, ax = plt.subplots(figsize=(10,10))\n",
        "cmp.plot(ax=ax)"
      ]
    },
    {
      "cell_type": "code",
      "execution_count": null,
      "metadata": {
        "id": "pVemMGh0_6bx"
      },
      "outputs": [],
      "source": [
        "from sklearn.metrics import classification_report\n",
        "print(classification_report(ytest,pred_tree))"
      ]
    },
    {
      "cell_type": "markdown",
      "metadata": {
        "id": "z50dko5qfUTo"
      },
      "source": [
        "# **Random forest**"
      ]
    },
    {
      "cell_type": "code",
      "execution_count": null,
      "metadata": {
        "id": "nhtFbSkQfYGa"
      },
      "outputs": [],
      "source": [
        "from sklearn.model_selection import train_test_split\n",
        "xtrain,xtest,ytrain,ytest = train_test_split(x,y,test_size=.1,random_state=10)"
      ]
    },
    {
      "cell_type": "code",
      "execution_count": null,
      "metadata": {
        "id": "h8mw8O5LfbeB"
      },
      "outputs": [],
      "source": [
        "from sklearn.ensemble import RandomForestClassifier\n",
        "rclf = RandomForestClassifier()"
      ]
    },
    {
      "cell_type": "code",
      "execution_count": null,
      "metadata": {
        "id": "eLTmOCDUuTij"
      },
      "outputs": [],
      "source": [
        "# n_estimators = [5,20,50,100] # number of trees in the random forest\n",
        "# max_features = ['auto'] # number of features in consideration at every split\n",
        "# max_depth = [int(x) for x in np.linspace(10, 120, num = 12)] # maximum number of levels allowed in each decision tree\n",
        "# min_samples_split = [2 ,4 ,6, 10 , 12] # minimum sample number to split a node\n",
        "# min_samples_leaf = [1, 3, 4 , 8 ,10 ] # minimum sample number that can be stored in a leaf node\n",
        "# bootstrap = [True, False] # method used to sample data points\n",
        "# random_grid = {'n_estimators': n_estimators,\n",
        "\n",
        "# 'max_features': max_features,\n",
        "\n",
        "# 'max_depth': max_depth,\n",
        "\n",
        "# 'min_samples_split': min_samples_split,\n",
        "\n",
        "# 'min_samples_leaf': min_samples_leaf,\n",
        "\n",
        "# 'bootstrap': bootstrap }"
      ]
    },
    {
      "cell_type": "code",
      "execution_count": null,
      "metadata": {
        "id": "uKi04ZnbuZ6b"
      },
      "outputs": [],
      "source": [
        "# from sklearn.model_selection import RandomizedSearchCV\n",
        "# rf_random = RandomizedSearchCV ( estimator = rclf,param_distributions = random_grid,\n",
        "#                n_iter = 100, cv = 7, verbose=2, random_state=35, n_jobs = -1)\n",
        "# rclf.fit(xtrain, ytrain)"
      ]
    },
    {
      "cell_type": "code",
      "execution_count": null,
      "metadata": {
        "id": "lUjZFxqYugFC"
      },
      "outputs": [],
      "source": [
        "# print ('Random grid: ', random_grid, '\\n')\n",
        "# # print the best parameters\n",
        "# print ('Best Parameters: ', rf_random.best_params_, ' \\n')"
      ]
    },
    {
      "cell_type": "code",
      "execution_count": null,
      "metadata": {
        "colab": {
          "background_save": true
        },
        "id": "QH7JXK1rfq8S",
        "outputId": "fc40668f-d2a8-4e5d-cda9-9eee45610abf"
      },
      "outputs": [
        {
          "data": {
            "text/plain": [
              "RandomForestClassifier()"
            ]
          },
          "execution_count": 75,
          "metadata": {},
          "output_type": "execute_result"
        }
      ],
      "source": [
        "rclf.fit(xtrain,ytrain)"
      ]
    },
    {
      "cell_type": "code",
      "execution_count": null,
      "metadata": {
        "colab": {
          "background_save": true
        },
        "id": "LyumJ7d8ukP3"
      },
      "outputs": [],
      "source": [
        "# randmf = RandomForestClassifier(n_estimators = 100, min_samples_split = 6, min_samples_leaf= 4, max_features = 'sqrt', max_depth= 120, bootstrap=False) \n",
        "# randmf.fit( xtrain, ytrain) "
      ]
    },
    {
      "cell_type": "code",
      "execution_count": null,
      "metadata": {
        "colab": {
          "background_save": true
        },
        "id": "ZYBC51JnuqFO",
        "outputId": "968a9996-a9c0-4878-d5a8-744f8b53187e"
      },
      "outputs": [
        {
          "data": {
            "text/html": [
              "\n",
              "  <div id=\"df-081b9cef-0f66-4ad5-89b9-61c8e76fd33f\">\n",
              "    <div class=\"colab-df-container\">\n",
              "      <div>\n",
              "<style scoped>\n",
              "    .dataframe tbody tr th:only-of-type {\n",
              "        vertical-align: middle;\n",
              "    }\n",
              "\n",
              "    .dataframe tbody tr th {\n",
              "        vertical-align: top;\n",
              "    }\n",
              "\n",
              "    .dataframe thead th {\n",
              "        text-align: right;\n",
              "    }\n",
              "</style>\n",
              "<table border=\"1\" class=\"dataframe\">\n",
              "  <thead>\n",
              "    <tr style=\"text-align: right;\">\n",
              "      <th></th>\n",
              "      <th>actual</th>\n",
              "      <th>predicted_prob</th>\n",
              "    </tr>\n",
              "  </thead>\n",
              "  <tbody>\n",
              "    <tr>\n",
              "      <th>124</th>\n",
              "      <td>mild anxiety</td>\n",
              "      <td>severe anxiety</td>\n",
              "    </tr>\n",
              "    <tr>\n",
              "      <th>384</th>\n",
              "      <td>Minimal anxiety</td>\n",
              "      <td>Minimal anxiety</td>\n",
              "    </tr>\n",
              "    <tr>\n",
              "      <th>163</th>\n",
              "      <td>moderate anxiety</td>\n",
              "      <td>Minimal anxiety</td>\n",
              "    </tr>\n",
              "    <tr>\n",
              "      <th>52</th>\n",
              "      <td>moderate anxiety</td>\n",
              "      <td>Minimal anxiety</td>\n",
              "    </tr>\n",
              "    <tr>\n",
              "      <th>27</th>\n",
              "      <td>mild anxiety</td>\n",
              "      <td>mild anxiety</td>\n",
              "    </tr>\n",
              "    <tr>\n",
              "      <th>...</th>\n",
              "      <td>...</td>\n",
              "      <td>...</td>\n",
              "    </tr>\n",
              "    <tr>\n",
              "      <th>64</th>\n",
              "      <td>mild anxiety</td>\n",
              "      <td>mild anxiety</td>\n",
              "    </tr>\n",
              "    <tr>\n",
              "      <th>743</th>\n",
              "      <td>severe anxiety</td>\n",
              "      <td>severe anxiety</td>\n",
              "    </tr>\n",
              "    <tr>\n",
              "      <th>511</th>\n",
              "      <td>moderate anxiety</td>\n",
              "      <td>severe anxiety</td>\n",
              "    </tr>\n",
              "    <tr>\n",
              "      <th>771</th>\n",
              "      <td>severe anxiety</td>\n",
              "      <td>severe anxiety</td>\n",
              "    </tr>\n",
              "    <tr>\n",
              "      <th>188</th>\n",
              "      <td>moderate anxiety</td>\n",
              "      <td>mild anxiety</td>\n",
              "    </tr>\n",
              "  </tbody>\n",
              "</table>\n",
              "<p>80 rows × 2 columns</p>\n",
              "</div>\n",
              "      <button class=\"colab-df-convert\" onclick=\"convertToInteractive('df-081b9cef-0f66-4ad5-89b9-61c8e76fd33f')\"\n",
              "              title=\"Convert this dataframe to an interactive table.\"\n",
              "              style=\"display:none;\">\n",
              "        \n",
              "  <svg xmlns=\"http://www.w3.org/2000/svg\" height=\"24px\"viewBox=\"0 0 24 24\"\n",
              "       width=\"24px\">\n",
              "    <path d=\"M0 0h24v24H0V0z\" fill=\"none\"/>\n",
              "    <path d=\"M18.56 5.44l.94 2.06.94-2.06 2.06-.94-2.06-.94-.94-2.06-.94 2.06-2.06.94zm-11 1L8.5 8.5l.94-2.06 2.06-.94-2.06-.94L8.5 2.5l-.94 2.06-2.06.94zm10 10l.94 2.06.94-2.06 2.06-.94-2.06-.94-.94-2.06-.94 2.06-2.06.94z\"/><path d=\"M17.41 7.96l-1.37-1.37c-.4-.4-.92-.59-1.43-.59-.52 0-1.04.2-1.43.59L10.3 9.45l-7.72 7.72c-.78.78-.78 2.05 0 2.83L4 21.41c.39.39.9.59 1.41.59.51 0 1.02-.2 1.41-.59l7.78-7.78 2.81-2.81c.8-.78.8-2.07 0-2.86zM5.41 20L4 18.59l7.72-7.72 1.47 1.35L5.41 20z\"/>\n",
              "  </svg>\n",
              "      </button>\n",
              "      \n",
              "  <style>\n",
              "    .colab-df-container {\n",
              "      display:flex;\n",
              "      flex-wrap:wrap;\n",
              "      gap: 12px;\n",
              "    }\n",
              "\n",
              "    .colab-df-convert {\n",
              "      background-color: #E8F0FE;\n",
              "      border: none;\n",
              "      border-radius: 50%;\n",
              "      cursor: pointer;\n",
              "      display: none;\n",
              "      fill: #1967D2;\n",
              "      height: 32px;\n",
              "      padding: 0 0 0 0;\n",
              "      width: 32px;\n",
              "    }\n",
              "\n",
              "    .colab-df-convert:hover {\n",
              "      background-color: #E2EBFA;\n",
              "      box-shadow: 0px 1px 2px rgba(60, 64, 67, 0.3), 0px 1px 3px 1px rgba(60, 64, 67, 0.15);\n",
              "      fill: #174EA6;\n",
              "    }\n",
              "\n",
              "    [theme=dark] .colab-df-convert {\n",
              "      background-color: #3B4455;\n",
              "      fill: #D2E3FC;\n",
              "    }\n",
              "\n",
              "    [theme=dark] .colab-df-convert:hover {\n",
              "      background-color: #434B5C;\n",
              "      box-shadow: 0px 1px 3px 1px rgba(0, 0, 0, 0.15);\n",
              "      filter: drop-shadow(0px 1px 2px rgba(0, 0, 0, 0.3));\n",
              "      fill: #FFFFFF;\n",
              "    }\n",
              "  </style>\n",
              "\n",
              "      <script>\n",
              "        const buttonEl =\n",
              "          document.querySelector('#df-081b9cef-0f66-4ad5-89b9-61c8e76fd33f button.colab-df-convert');\n",
              "        buttonEl.style.display =\n",
              "          google.colab.kernel.accessAllowed ? 'block' : 'none';\n",
              "\n",
              "        async function convertToInteractive(key) {\n",
              "          const element = document.querySelector('#df-081b9cef-0f66-4ad5-89b9-61c8e76fd33f');\n",
              "          const dataTable =\n",
              "            await google.colab.kernel.invokeFunction('convertToInteractive',\n",
              "                                                     [key], {});\n",
              "          if (!dataTable) return;\n",
              "\n",
              "          const docLinkHtml = 'Like what you see? Visit the ' +\n",
              "            '<a target=\"_blank\" href=https://colab.research.google.com/notebooks/data_table.ipynb>data table notebook</a>'\n",
              "            + ' to learn more about interactive tables.';\n",
              "          element.innerHTML = '';\n",
              "          dataTable['output_type'] = 'display_data';\n",
              "          await google.colab.output.renderOutput(dataTable, element);\n",
              "          const docLink = document.createElement('div');\n",
              "          docLink.innerHTML = docLinkHtml;\n",
              "          element.appendChild(docLink);\n",
              "        }\n",
              "      </script>\n",
              "    </div>\n",
              "  </div>\n",
              "  "
            ],
            "text/plain": [
              "               actual   predicted_prob\n",
              "124      mild anxiety   severe anxiety\n",
              "384   Minimal anxiety  Minimal anxiety\n",
              "163  moderate anxiety  Minimal anxiety\n",
              "52   moderate anxiety  Minimal anxiety\n",
              "27       mild anxiety     mild anxiety\n",
              "..                ...              ...\n",
              "64       mild anxiety     mild anxiety\n",
              "743    severe anxiety   severe anxiety\n",
              "511  moderate anxiety   severe anxiety\n",
              "771    severe anxiety   severe anxiety\n",
              "188  moderate anxiety     mild anxiety\n",
              "\n",
              "[80 rows x 2 columns]"
            ]
          },
          "execution_count": 77,
          "metadata": {},
          "output_type": "execute_result"
        }
      ],
      "source": [
        "y_pred_rf1 = pd.DataFrame( { \"actual\": ytest, \n",
        "\"predicted_prob\": rclf.predict( \n",
        "( xtest ) ) } ) \n",
        "y_pred_rf1 "
      ]
    },
    {
      "cell_type": "code",
      "execution_count": null,
      "metadata": {
        "colab": {
          "background_save": true
        },
        "id": "uEhLDUfNfwqp",
        "outputId": "ec2b6095-b251-410b-f557-65e2ced33c25"
      },
      "outputs": [
        {
          "data": {
            "text/plain": [
              "array(['severe anxiety', 'Minimal anxiety', 'Minimal anxiety',\n",
              "       'Minimal anxiety', 'mild anxiety', 'Minimal anxiety',\n",
              "       'mild anxiety', 'Minimal anxiety', 'mild anxiety',\n",
              "       'severe anxiety', 'Minimal anxiety', 'severe anxiety',\n",
              "       'mild anxiety', 'Minimal anxiety', 'Minimal anxiety',\n",
              "       'Minimal anxiety', 'Minimal anxiety', 'Minimal anxiety',\n",
              "       'Minimal anxiety', 'mild anxiety', 'Minimal anxiety',\n",
              "       'Minimal anxiety', 'severe anxiety', 'mild anxiety',\n",
              "       'mild anxiety', 'mild anxiety', 'mild anxiety', 'Minimal anxiety',\n",
              "       'mild anxiety', 'Minimal anxiety', 'mild anxiety',\n",
              "       'Minimal anxiety', 'Minimal anxiety', 'mild anxiety',\n",
              "       'mild anxiety', 'mild anxiety', 'Minimal anxiety',\n",
              "       'Minimal anxiety', 'severe anxiety', 'Minimal anxiety',\n",
              "       'Minimal anxiety', 'Minimal anxiety', 'Minimal anxiety',\n",
              "       'mild anxiety', 'Minimal anxiety', 'Minimal anxiety',\n",
              "       'mild anxiety', 'mild anxiety', 'mild anxiety', 'mild anxiety',\n",
              "       'Minimal anxiety', 'mild anxiety', 'moderate anxiety',\n",
              "       'mild anxiety', 'mild anxiety', 'Minimal anxiety',\n",
              "       'Minimal anxiety', 'Minimal anxiety', 'Minimal anxiety',\n",
              "       'Minimal anxiety', 'mild anxiety', 'Minimal anxiety',\n",
              "       'Minimal anxiety', 'Minimal anxiety', 'Minimal anxiety',\n",
              "       'mild anxiety', 'Minimal anxiety', 'Minimal anxiety',\n",
              "       'Minimal anxiety', 'mild anxiety', 'Minimal anxiety',\n",
              "       'severe anxiety', 'Minimal anxiety', 'mild anxiety',\n",
              "       'mild anxiety', 'mild anxiety', 'severe anxiety', 'severe anxiety',\n",
              "       'severe anxiety', 'mild anxiety'], dtype=object)"
            ]
          },
          "execution_count": 78,
          "metadata": {},
          "output_type": "execute_result"
        }
      ],
      "source": [
        "rclf.predict(xtest)"
      ]
    },
    {
      "cell_type": "code",
      "execution_count": null,
      "metadata": {
        "colab": {
          "background_save": true
        },
        "id": "Dk1BZp-Ff2wN",
        "outputId": "de270ee9-3f68-4243-9a4e-d380aee7b727"
      },
      "outputs": [
        {
          "data": {
            "text/plain": [
              "0.5"
            ]
          },
          "execution_count": 79,
          "metadata": {},
          "output_type": "execute_result"
        }
      ],
      "source": [
        "rclf.score(xtest,ytest)"
      ]
    },
    {
      "cell_type": "code",
      "execution_count": null,
      "metadata": {
        "colab": {
          "background_save": true
        },
        "id": "3QYhPk4SAYdz"
      },
      "outputs": [],
      "source": [
        "pred_tree = rclf.predict(xtest)"
      ]
    },
    {
      "cell_type": "code",
      "execution_count": null,
      "metadata": {
        "colab": {
          "background_save": true
        },
        "id": "9rZjHVHGAeYy",
        "outputId": "9734b56a-bb10-45b1-ce2a-5a232e809846"
      },
      "outputs": [
        {
          "data": {
            "text/plain": [
              "0.5"
            ]
          },
          "execution_count": 81,
          "metadata": {},
          "output_type": "execute_result"
        }
      ],
      "source": [
        "from sklearn.metrics import accuracy_score\n",
        "accuracy_score(ytest,pred_tree)"
      ]
    },
    {
      "cell_type": "code",
      "execution_count": null,
      "metadata": {
        "colab": {
          "background_save": true
        },
        "id": "OfDhTzNCAfDi",
        "outputId": "79ecd8ed-5024-4939-d2b5-0214213203d8"
      },
      "outputs": [
        {
          "data": {
            "text/plain": [
              "<sklearn.metrics._plot.confusion_matrix.ConfusionMatrixDisplay at 0x7fa9dc3ccc70>"
            ]
          },
          "execution_count": 82,
          "metadata": {},
          "output_type": "execute_result"
        },
        {
          "data": {
            "image/png": "[encoded data removed]",
            "text/plain": [
              "<Figure size 432x288 with 2 Axes>"
            ]
          },
          "metadata": {},
          "output_type": "display_data"
        },
        {
          "data": {
            "image/png": "[encoded data removed]",
            "text/plain": [
              "<Figure size 720x720 with 2 Axes>"
            ]
          },
          "metadata": {},
          "output_type": "display_data"
        }
      ],
      "source": [
        "from sklearn.metrics import confusion_matrix\n",
        "cm = confusion_matrix(ytest,pred_tree)\n",
        "from sklearn.metrics import ConfusionMatrixDisplay\n",
        "cmp = ConfusionMatrixDisplay.from_predictions(ytest,pred_tree)\n",
        "fig, ax = plt.subplots(figsize=(10,10))\n",
        "cmp.plot(ax=ax)"
      ]
    },
    {
      "cell_type": "code",
      "execution_count": null,
      "metadata": {
        "colab": {
          "background_save": true
        },
        "id": "Kpg4xiWuAhCx",
        "outputId": "52afc6b6-6570-43e1-e6ee-52eb64dc5023"
      },
      "outputs": [
        {
          "name": "stdout",
          "output_type": "stream",
          "text": [
            "                  precision    recall  f1-score   support\n",
            "\n",
            " Minimal anxiety       0.63      0.70      0.67        37\n",
            "    mild anxiety       0.41      0.71      0.52        17\n",
            "moderate anxiety       0.00      0.00      0.00        17\n",
            "  severe anxiety       0.22      0.22      0.22         9\n",
            "\n",
            "        accuracy                           0.50        80\n",
            "       macro avg       0.32      0.41      0.35        80\n",
            "    weighted avg       0.41      0.50      0.44        80\n",
            "\n"
          ]
        }
      ],
      "source": [
        "from sklearn.metrics import classification_report\n",
        "print(classification_report(ytest,pred_tree))"
      ]
    },
    {
      "cell_type": "markdown",
      "metadata": {
        "id": "V3IlUD1vIm9a"
      },
      "source": [
        "# **SVM**"
      ]
    },
    {
      "cell_type": "code",
      "execution_count": null,
      "metadata": {
        "colab": {
          "background_save": true
        },
        "id": "fGodZJsZzBfG"
      },
      "outputs": [],
      "source": [
        "from sklearn.model_selection import train_test_split\n",
        "xtrain,xtest,ytrain,ytest = train_test_split(x,y,test_size=.1,random_state=50)"
      ]
    },
    {
      "cell_type": "code",
      "execution_count": null,
      "metadata": {
        "colab": {
          "background_save": true
        },
        "id": "UH05krYyCxko"
      },
      "outputs": [],
      "source": [
        "from sklearn.preprocessing import MinMaxScaler\n",
        "scaling = MinMaxScaler(feature_range=(-1,1)).fit(xtrain)\n",
        "xtrain = scaling.transform(xtrain)\n",
        "xtest = scaling.transform(xtest)\n",
        "\n",
        "from sklearn import svm"
      ]
    },
    {
      "cell_type": "code",
      "execution_count": null,
      "metadata": {
        "colab": {
          "background_save": true
        },
        "id": "D1nSfNDIC3He",
        "outputId": "f0cd4942-7f18-45eb-f2e6-b4cf8e275341"
      },
      "outputs": [
        {
          "data": {
            "text/plain": [
              "SVC(C=10)"
            ]
          },
          "execution_count": 86,
          "metadata": {},
          "output_type": "execute_result"
        }
      ],
      "source": [
        "classif = svm.SVC( kernel = 'rbf', gamma='scale' , C=10 )\n",
        "\n",
        "classif.fit(xtrain,ytrain)"
      ]
    },
    {
      "cell_type": "code",
      "execution_count": null,
      "metadata": {
        "colab": {
          "background_save": true
        },
        "id": "BTRH_t3yC8kB"
      },
      "outputs": [],
      "source": [
        "y_predict = classif.predict(xtest)"
      ]
    },
    {
      "cell_type": "code",
      "execution_count": null,
      "metadata": {
        "colab": {
          "background_save": true
        },
        "id": "gxO45e7IC_WS",
        "outputId": "54cc1ae9-5370-44b7-bf02-3b23b0065390"
      },
      "outputs": [
        {
          "data": {
            "text/plain": [
              "<sklearn.metrics._plot.confusion_matrix.ConfusionMatrixDisplay at 0x7fa9da775b20>"
            ]
          },
          "execution_count": 88,
          "metadata": {},
          "output_type": "execute_result"
        },
        {
          "data": {
            "image/png": "[encoded data removed]",
            "text/plain": [
              "<Figure size 432x288 with 2 Axes>"
            ]
          },
          "metadata": {},
          "output_type": "display_data"
        },
        {
          "data": {
            "image/png": "[encoded data removed]",
            "text/plain": [
              "<Figure size 720x720 with 2 Axes>"
            ]
          },
          "metadata": {},
          "output_type": "display_data"
        }
      ],
      "source": [
        "from sklearn.metrics import confusion_matrix\n",
        "cm = confusion_matrix(ytest,pred_tree)\n",
        "from sklearn.metrics import ConfusionMatrixDisplay\n",
        "cmp = ConfusionMatrixDisplay.from_predictions(ytest,pred_tree)\n",
        "fig, ax = plt.subplots(figsize=(10,10))\n",
        "cmp.plot(ax=ax)"
      ]
    },
    {
      "cell_type": "code",
      "execution_count": null,
      "metadata": {
        "colab": {
          "background_save": true
        },
        "id": "Th1iDmfZDBrS",
        "outputId": "85cb513d-7cc3-4174-cc49-d19cc6c1cff6"
      },
      "outputs": [
        {
          "name": "stdout",
          "output_type": "stream",
          "text": [
            "                  precision    recall  f1-score   support\n",
            "\n",
            " Minimal anxiety       0.57      0.62      0.60        32\n",
            "    mild anxiety       0.42      0.44      0.43        25\n",
            "moderate anxiety       0.25      0.18      0.21        11\n",
            "  severe anxiety       0.45      0.42      0.43        12\n",
            "\n",
            "        accuracy                           0.48        80\n",
            "       macro avg       0.42      0.42      0.42        80\n",
            "    weighted avg       0.46      0.47      0.47        80\n",
            "\n"
          ]
        }
      ],
      "source": [
        "from sklearn.metrics import classification_report\n",
        "print(classification_report(ytest,y_predict))"
      ]
    },
    {
      "cell_type": "code",
      "execution_count": null,
      "metadata": {
        "colab": {
          "background_save": true
        },
        "id": "aFx71L7PIl7J"
      },
      "outputs": [],
      "source": [
        "# from sklearn.model_selection import train_test_split\n",
        "# xtrain,xtest,ytrain,ytest = train_test_split(x,y,test_size=.1,random_state=50)\n",
        "\n",
        "# from sklearn.preprocessing import MinMaxScaler\n",
        "# scaling = MinMaxScaler(feature_range=(-1,1)).fit(xtrain)\n",
        "# xtrain = scaling.transform(xtrain)\n",
        "# xtest = scaling.transform(xtest)\n",
        "\n",
        "# from sklearn import svm\n",
        "\n",
        "# classif = svm.SVC( kernel = 'rbf', gamma='scale' , C=2 )\n",
        "\n",
        "# classif.fit(xtrain,ytrain)\n",
        "\n",
        "\n",
        "# pred_tree = classif.predict(xtest)\n",
        "\n",
        "# from sklearn.metrics import confusion_matrix\n",
        "# cm = confusion_matrix(ytest,pred_tree)\n",
        "# from sklearn.metrics import ConfusionMatrixDisplay\n",
        "# cmp = ConfusionMatrixDisplay.from_predictions(ytest,pred_tree)\n",
        "# fig, ax = plt.subplots(figsize=(10,10))\n",
        "# cmp.plot(ax=ax)\n",
        "\n",
        "\n",
        "# from sklearn.metrics import classification_report\n",
        "\n",
        "# print(classification_report(ytest,pred_tree))\n"
      ]
    },
    {
      "cell_type": "code",
      "execution_count": null,
      "metadata": {
        "colab": {
          "background_save": true
        },
        "id": "x0GswV1_1Z2a"
      },
      "outputs": [],
      "source": [
        "import matplotlib.pyplot as plt\n",
        "import numpy as np\n",
        "from sklearn.model_selection import validation_curve"
      ]
    },
    {
      "cell_type": "code",
      "execution_count": null,
      "metadata": {
        "id": "k8s3xjQY1boF"
      },
      "outputs": [],
      "source": [
        "param_range = np.logspace(-6, -1, 5)\n",
        "train_scores, test_scores = validation_curve(svm.SVC(),\n",
        "    x,\n",
        "    y,\n",
        "    param_name=\"gamma\",\n",
        "    param_range=param_range,\n",
        "    scoring=\"accuracy\",\n",
        "    n_jobs=2,\n",
        ")"
      ]
    },
    {
      "cell_type": "code",
      "execution_count": null,
      "metadata": {
        "colab": {
          "background_save": true
        },
        "id": "jNwkwLVv1cQh",
        "outputId": "265f73c0-6b59-4a87-e8b3-06de651440d7"
      },
      "outputs": [
        {
          "data": {
            "image/png": "[encoded data removed]",
            "text/plain": [
              "<Figure size 504x504 with 1 Axes>"
            ]
          },
          "metadata": {},
          "output_type": "display_data"
        }
      ],
      "source": [
        "    # Calculating mean and standard deviation for training set scores\n",
        "    train_mean = np.mean(train_scores, axis=1)\n",
        "    train_std = np.std(train_scores, axis=1)\n",
        "\n",
        "    # Calculating mean and standard deviation for test set scores\n",
        "    test_mean = np.mean(test_scores, axis=1)\n",
        "    test_std = np.std(test_scores, axis=1)\n",
        "\n",
        "    # Plotting mean accuracy scores for training and test sets\n",
        "    plt.subplots(1, figsize=(7,7))\n",
        "    plt.plot(param_range, train_mean, label=\"Training score\", color = 'b')\n",
        "    plt.plot(param_range, test_mean, label=\"Cross-validation score\", color = 'g')\n",
        "\n",
        "    # Plotting accurancy bands for training and test sets\n",
        "    #plt.fill_between(param_range, train_mean - train_std, train_mean + train_std, color=\"gray\")\n",
        "    # plt.fill_between(param_range, test_mean - test_std, test_mean + test_std, color=\"gainsboro\")\n",
        "\n",
        "    # Creating plot    \n",
        "    plt.title(\"Validation Curve With SVM\")\n",
        "    plt.xlabel(\"Number Of Trees\")\n",
        "    plt.ylabel(\"Accuracy Score\")\n",
        "    plt.tight_layout()\n",
        "    plt.legend(loc=\"best\")\n",
        "    plt.show()"
      ]
    },
    {
      "cell_type": "code",
      "execution_count": null,
      "metadata": {
        "id": "BY1MhGpO1eok"
      },
      "outputs": [],
      "source": [
        "from sklearn.ensemble import RandomForestClassifier\n",
        "from sklearn.preprocessing import LabelEncoder, OrdinalEncoder\n",
        "from sklearn.model_selection import train_test_split as tts\n",
        "from yellowbrick.classifier import PrecisionRecallCurve\n",
        "from yellowbrick.datasets import load_game"
      ]
    },
    {
      "cell_type": "code",
      "execution_count": null,
      "metadata": {
        "id": "vhP4S4SM1hyV"
      },
      "outputs": [],
      "source": [
        "X = OrdinalEncoder().fit_transform(x)\n",
        "encoder = LabelEncoder()\n",
        "Y = encoder.fit_transform(y)\n",
        "\n",
        "X_train, X_test, y_train, y_test = tts(X, Y, test_size=0.2, shuffle=True)"
      ]
    },
    {
      "cell_type": "code",
      "execution_count": null,
      "metadata": {
        "id": "ZX4C4d1g1iQv"
      },
      "outputs": [],
      "source": [
        "viz = PrecisionRecallCurve(\n",
        "    svm.SVC(),\n",
        "classes=encoder.classes_,\n",
        "    colors=[\"purple\", \"cyan\", \"blue\"],\n",
        "    iso_f1_curves=True,\n",
        "    per_class=True,\n",
        "    micro=False\n",
        ")\n",
        "viz.fit(X_train, y_train)\n",
        "viz.score(X_test, y_test)\n",
        "viz.show()"
      ]
    },
    {
      "cell_type": "markdown",
      "metadata": {
        "id": "Aj7Lf2d-J9Vc"
      },
      "source": [
        "# **ADA**"
      ]
    },
    {
      "cell_type": "code",
      "execution_count": null,
      "metadata": {
        "id": "ggITFE-JHwDA"
      },
      "outputs": [],
      "source": [
        "from sklearn.model_selection import train_test_split\n",
        "xtrain,xtest,ytrain,ytest = train_test_split(x,y,test_size=.10,random_state=10)"
      ]
    },
    {
      "cell_type": "code",
      "execution_count": null,
      "metadata": {
        "id": "I7K38jJjHtLw"
      },
      "outputs": [],
      "source": [
        "from sklearn.ensemble import AdaBoostClassifier\n",
        "from sklearn.datasets import make_classification"
      ]
    },
    {
      "cell_type": "code",
      "execution_count": null,
      "metadata": {
        "id": "DvkRTG07ILtj"
      },
      "outputs": [],
      "source": [
        "ada = AdaBoostClassifier(n_estimators=100, random_state=0)"
      ]
    },
    {
      "cell_type": "code",
      "execution_count": null,
      "metadata": {
        "id": "DY4rzEPsIZRe"
      },
      "outputs": [],
      "source": [
        "ada.fit(xtrain,ytrain)"
      ]
    },
    {
      "cell_type": "code",
      "execution_count": null,
      "metadata": {
        "id": "GSBnNWW-IgsQ"
      },
      "outputs": [],
      "source": [
        "ada.predict(xtest)"
      ]
    },
    {
      "cell_type": "code",
      "execution_count": null,
      "metadata": {
        "id": "DHwvGwoRIraO"
      },
      "outputs": [],
      "source": [
        "ada.score(xtest,ytest)"
      ]
    },
    {
      "cell_type": "code",
      "execution_count": null,
      "metadata": {
        "id": "AOovx-hXI_R_"
      },
      "outputs": [],
      "source": [
        "pred_tree = ada.predict(xtest)\n",
        "from sklearn.metrics import accuracy_score\n",
        "accuracy_score(ytest,pred_tree)"
      ]
    },
    {
      "cell_type": "code",
      "execution_count": null,
      "metadata": {
        "id": "HWWmwFsCClzj"
      },
      "outputs": [],
      "source": [
        "from sklearn.metrics import confusion_matrix\n",
        "cm = confusion_matrix(ytest,pred_tree)\n",
        "from sklearn.metrics import ConfusionMatrixDisplay\n",
        "cmp = ConfusionMatrixDisplay.from_predictions(ytest,pred_tree)\n",
        "fig, ax = plt.subplots(figsize=(10,10))\n",
        "cmp.plot(ax=ax)"
      ]
    },
    {
      "cell_type": "code",
      "execution_count": null,
      "metadata": {
        "id": "n2lWEr-EJGWW"
      },
      "outputs": [],
      "source": [
        "from sklearn.metrics import classification_report\n",
        "print(classification_report(ytest,pred_tree))"
      ]
    },
    {
      "cell_type": "markdown",
      "metadata": {
        "id": "m6XLOjNGJ7D_"
      },
      "source": [
        "# **KNN**"
      ]
    },
    {
      "cell_type": "code",
      "execution_count": null,
      "metadata": {
        "id": "epl6Z9rDJ1R0"
      },
      "outputs": [],
      "source": [
        "from sklearn.model_selection import train_test_split\n",
        "xtrain,xtest,ytrain,ytest = train_test_split(x,y,test_size=.10,random_state=10)"
      ]
    },
    {
      "cell_type": "code",
      "execution_count": null,
      "metadata": {
        "id": "de6HwvFeCLjl"
      },
      "outputs": [],
      "source": [
        "from sklearn.neighbors import KNeighborsClassifier"
      ]
    },
    {
      "cell_type": "code",
      "execution_count": null,
      "metadata": {
        "id": "NIyXuYNI_NUy"
      },
      "outputs": [],
      "source": [
        "error_rate = []\n",
        "for i in range(1,40):\n",
        " knn = KNeighborsClassifier(n_neighbors=i)\n",
        " knn.fit(xtrain,ytrain)\n",
        " pred_i = knn.predict(xtest)\n",
        " error_rate.append(np.mean(pred_i != ytest))\n",
        "\n",
        "plt.figure(figsize=(10,6))\n",
        "plt.plot(range(1,40),error_rate,color='blue', linestyle='dashed', \n",
        "         marker='o',markerfacecolor='red', markersize=10)\n",
        "plt.title('Error Rate vs. K Value')\n",
        "plt.xlabel('K')\n",
        "plt.ylabel('Error Rate')\n",
        "print(\"Minimum error:-\",min(error_rate),\"at K =\",error_rate.index(min(error_rate)))"
      ]
    },
    {
      "cell_type": "code",
      "execution_count": null,
      "metadata": {
        "id": "o_l-TiqZ_fNJ"
      },
      "outputs": [],
      "source": [
        "acc = []\n",
        "from sklearn import metrics\n",
        "for i in range(1,40):\n",
        "    neigh = KNeighborsClassifier(n_neighbors = i).fit(xtrain,ytrain)\n",
        "    yhat = neigh.predict(xtest)\n",
        "    acc.append(metrics.accuracy_score(ytest, yhat))\n",
        "    \n",
        "plt.figure(figsize=(10,6))\n",
        "plt.plot(range(1,40),acc,color = 'blue',linestyle='dashed', \n",
        "         marker='o',markerfacecolor='red', markersize=10)\n",
        "plt.title('accuracy vs. K Value')\n",
        "plt.xlabel('K')\n",
        "plt.ylabel('Accuracy')\n",
        "print(\"Maximum accuracy:-\",max(acc),\"at K =\",acc.index(max(acc)))\n",
        "n = acc.index(max(acc))"
      ]
    },
    {
      "cell_type": "code",
      "execution_count": null,
      "metadata": {
        "id": "STg1yBqAJ_a9"
      },
      "outputs": [],
      "source": [
        "neigh = KNeighborsClassifier(n_neighbors=n)"
      ]
    },
    {
      "cell_type": "code",
      "execution_count": null,
      "metadata": {
        "id": "EcH0qYyrKIWf"
      },
      "outputs": [],
      "source": [
        "neigh.fit(xtrain,ytrain)"
      ]
    },
    {
      "cell_type": "code",
      "execution_count": null,
      "metadata": {
        "id": "xN9yUO-7KQnX"
      },
      "outputs": [],
      "source": [
        "neigh.predict(xtest)"
      ]
    },
    {
      "cell_type": "code",
      "execution_count": null,
      "metadata": {
        "id": "bOV-IpX_KW3T"
      },
      "outputs": [],
      "source": [
        "pred_tree = neigh.predict(xtest)\n",
        "from sklearn.metrics import accuracy_score\n",
        "accuracy_score(ytest,pred_tree)"
      ]
    },
    {
      "cell_type": "code",
      "execution_count": null,
      "metadata": {
        "id": "rWhaQQ5PCpft"
      },
      "outputs": [],
      "source": [
        "from sklearn.metrics import confusion_matrix\n",
        "cm = confusion_matrix(ytest,pred_tree)\n",
        "from sklearn.metrics import ConfusionMatrixDisplay\n",
        "cmp = ConfusionMatrixDisplay.from_predictions(ytest,pred_tree)\n",
        "fig, ax = plt.subplots(figsize=(10,10))\n",
        "cmp.plot(ax=ax)"
      ]
    },
    {
      "cell_type": "code",
      "execution_count": null,
      "metadata": {
        "id": "2NBDiMyxKYqm"
      },
      "outputs": [],
      "source": [
        "from sklearn.metrics import classification_report\n",
        "print(classification_report(ytest,pred_tree))"
      ]
    },
    {
      "cell_type": "markdown",
      "metadata": {
        "id": "SHw8-U_FEFYn"
      },
      "source": [
        "# **Naive bayes**\n"
      ]
    },
    {
      "cell_type": "code",
      "execution_count": null,
      "metadata": {
        "id": "6JoveZXiAoh1"
      },
      "outputs": [],
      "source": [
        "from sklearn.model_selection import train_test_split\n",
        "xtrain,xtest,ytrain,ytest = train_test_split(x,y,test_size=.10,random_state=10)"
      ]
    },
    {
      "cell_type": "code",
      "execution_count": null,
      "metadata": {
        "id": "g2T78HcvAvaK"
      },
      "outputs": [],
      "source": [
        "from sklearn.preprocessing import StandardScaler\n",
        "sc = StandardScaler()\n",
        "X_train = sc.fit_transform(xtrain)\n",
        "X_test = sc.transform(xtest)\n",
        "# X_train = xtrain\n",
        "# X_test = xtest"
      ]
    },
    {
      "cell_type": "code",
      "execution_count": null,
      "metadata": {
        "id": "LYzOCDSNA1k2"
      },
      "outputs": [],
      "source": [
        "from sklearn.naive_bayes import GaussianNB\n",
        "gs = GaussianNB()\n",
        "gs.fit(X_train, ytrain)"
      ]
    },
    {
      "cell_type": "code",
      "execution_count": null,
      "metadata": {
        "id": "Pk2YMQtmA4bl"
      },
      "outputs": [],
      "source": [
        "gs.predict(X_test)"
      ]
    },
    {
      "cell_type": "code",
      "execution_count": null,
      "metadata": {
        "id": "RL7V7M3-BlxF"
      },
      "outputs": [],
      "source": [
        "gs.score(X_test,ytest)"
      ]
    },
    {
      "cell_type": "code",
      "execution_count": null,
      "metadata": {
        "id": "Gifg6t2JBmbV"
      },
      "outputs": [],
      "source": [
        "pred_tree = gs.predict(X_test)\n",
        "from sklearn.metrics import accuracy_score\n",
        "accuracy_score(ytest,pred_tree)"
      ]
    },
    {
      "cell_type": "code",
      "execution_count": null,
      "metadata": {
        "id": "DPW2e9okCq-k"
      },
      "outputs": [],
      "source": [
        "from sklearn.metrics import confusion_matrix\n",
        "cm = confusion_matrix(ytest,pred_tree)\n",
        "from sklearn.metrics import ConfusionMatrixDisplay\n",
        "cmp = ConfusionMatrixDisplay.from_predictions(ytest,pred_tree)\n",
        "fig, ax = plt.subplots(figsize=(10,10))\n",
        "cmp.plot(ax=ax)"
      ]
    },
    {
      "cell_type": "code",
      "execution_count": null,
      "metadata": {
        "id": "GXuC6J6eBtQI"
      },
      "outputs": [],
      "source": [
        "from sklearn.metrics import classification_report\n",
        "print(classification_report(ytest,pred_tree))"
      ]
    },
    {
      "cell_type": "markdown",
      "metadata": {
        "id": "_mqXXcNtL8v8"
      },
      "source": [
        "# **ensemble**"
      ]
    },
    {
      "cell_type": "code",
      "execution_count": null,
      "metadata": {
        "id": "3YEVUB20L5S1"
      },
      "outputs": [],
      "source": [
        "from sklearn.model_selection import train_test_split\n",
        "xtrain,xtest,ytrain,ytest = train_test_split(x,y,test_size=.10,random_state=10)"
      ]
    },
    {
      "cell_type": "code",
      "execution_count": null,
      "metadata": {
        "id": "3ilDrEJAKoCJ"
      },
      "outputs": [],
      "source": [
        "from sklearn.ensemble import VotingClassifier\n",
        "\n",
        "clf1 = DecisionTreeClassifier(random_state=42)\n",
        "clf2 = RandomForestClassifier(n_estimators = 100, min_samples_split = 6, min_samples_leaf= 4, max_features = 'sqrt', max_depth= 120, bootstrap=False)\n",
        "clf3 = svm.SVC( kernel = 'rbf', gamma='scale' , C=10 )\n",
        "\n",
        "\n",
        "eclf1 = VotingClassifier ( estimators=[('Decision tree',clf1),('random forest',clf2),('svm',clf3)] , voting ='hard' )\n",
        "eclf1.fit(xtrain,ytrain)"
      ]
    },
    {
      "cell_type": "code",
      "execution_count": null,
      "metadata": {
        "id": "HIVZRNBKMHDq"
      },
      "outputs": [],
      "source": [
        "eclf1.predict(xtest)"
      ]
    },
    {
      "cell_type": "code",
      "execution_count": null,
      "metadata": {
        "id": "gQ_s9jWaMJJc"
      },
      "outputs": [],
      "source": [
        "pred_tree = eclf1.predict(xtest)\n",
        "from sklearn.metrics import accuracy_score\n",
        "accuracy_score(ytest,pred_tree)"
      ]
    },
    {
      "cell_type": "code",
      "execution_count": null,
      "metadata": {
        "id": "P6aATGZ3MSs3"
      },
      "outputs": [],
      "source": [
        "from sklearn.metrics import confusion_matrix\n",
        "cm = confusion_matrix(ytest,pred_tree)\n",
        "from sklearn.metrics import ConfusionMatrixDisplay\n",
        "cmp = ConfusionMatrixDisplay.from_predictions(ytest,pred_tree)\n",
        "fig, ax = plt.subplots(figsize=(10,10))\n",
        "cmp.plot(ax=ax)"
      ]
    },
    {
      "cell_type": "code",
      "execution_count": null,
      "metadata": {
        "id": "qTR41HwMMTRp"
      },
      "outputs": [],
      "source": [
        "from sklearn.metrics import classification_report\n",
        "print(classification_report(ytest,pred_tree))"
      ]
    }
  ],
  "metadata": {
    "colab": {
      "provenance": []
    },
    "kernelspec": {
      "display_name": "Python 3",
      "name": "python3"
    },
    "language_info": {
      "name": "python"
    }
  },
  "nbformat": 4,
  "nbformat_minor": 0
}