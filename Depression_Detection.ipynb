{
  "cells": [
    {
      "cell_type": "code",
      "execution_count": null,
      "metadata": {
        "id": "L9oy95WPE7EH"
      },
      "outputs": [],
      "source": [
        "import pandas as pd\n",
        "import numpy as np\n",
        "import seaborn as sns\n",
        "import matplotlib.pyplot as plt"
      ]
    },
    {
      "cell_type": "code",
      "execution_count": null,
      "metadata": {
        "colab": {
          "background_save": true
        },
        "id": "nASFE76mFszN"
      },
      "outputs": [],
      "source": [
        "df = pd.read_excel('model.xlsx')"
      ]
    },
    {
      "cell_type": "code",
      "execution_count": null,
      "metadata": {
        "colab": {
          "background_save": true
        },
        "id": "yuUmRvDDGpYo",
        "outputId": "1d1f20e9-fc5c-4751-9ca1-cd027835a160"
      },
      "outputs": [
        {
          "data": {
            "text/html": [
              "\n",
              "  <div id=\"df-24e34d7f-cd74-4677-b8bd-3bd37d5c5524\">\n",
              "    <div class=\"colab-df-container\">\n",
              "      <div>\n",
              "<style scoped>\n",
              "    .dataframe tbody tr th:only-of-type {\n",
              "        vertical-align: middle;\n",
              "    }\n",
              "\n",
              "    .dataframe tbody tr th {\n",
              "        vertical-align: top;\n",
              "    }\n",
              "\n",
              "    .dataframe thead th {\n",
              "        text-align: right;\n",
              "    }\n",
              "</style>\n",
              "<table border=\"1\" class=\"dataframe\">\n",
              "  <thead>\n",
              "    <tr style=\"text-align: right;\">\n",
              "      <th></th>\n",
              "      <th>2. Which social media account do you use usually?</th>\n",
              "      <th>3. Which device do you usually use to connect social media?</th>\n",
              "      <th>4. Which type of internet connection do you use?</th>\n",
              "      <th>5. How long have you been using a social media account?</th>\n",
              "      <th>6. How frequently do you post (upload status or add photos/videos) on social media?</th>\n",
              "      <th>7. How much time do you spend daily in social media?</th>\n",
              "      <th>8. When do you usually use social media?</th>\n",
              "      <th>9. How many friends do you have on social media?</th>\n",
              "      <th>10. How many friends do you know personally in social media?</th>\n",
              "      <th>11. How many groups you are tagged in social media?</th>\n",
              "      <th>...</th>\n",
              "      <th>24. Religion</th>\n",
              "      <th>25. Education</th>\n",
              "      <th>26. Profession</th>\n",
              "      <th>27. Monthly income</th>\n",
              "      <th>28. Area of residence</th>\n",
              "      <th>29. Living with-</th>\n",
              "      <th>30. Body weight (Kg)</th>\n",
              "      <th>31. Height (m)</th>\n",
              "      <th>32. Smoking habit</th>\n",
              "      <th>Depression severity</th>\n",
              "    </tr>\n",
              "  </thead>\n",
              "  <tbody>\n",
              "    <tr>\n",
              "      <th>0</th>\n",
              "      <td>Facebook</td>\n",
              "      <td>Mobile Phone</td>\n",
              "      <td>Broadband (Wi-Fi)</td>\n",
              "      <td>5-10 years</td>\n",
              "      <td>Less than 1 per day</td>\n",
              "      <td>1-3 hours</td>\n",
              "      <td>Frequently at anytime</td>\n",
              "      <td>Less than 500</td>\n",
              "      <td>All of them</td>\n",
              "      <td>Less than 5</td>\n",
              "      <td>...</td>\n",
              "      <td>Muslim</td>\n",
              "      <td>Graduate Level</td>\n",
              "      <td>Private job</td>\n",
              "      <td>Above 70,000 Tk</td>\n",
              "      <td>Urban Area</td>\n",
              "      <td>With family</td>\n",
              "      <td>34.0</td>\n",
              "      <td>1.4986</td>\n",
              "      <td>Non-smoker</td>\n",
              "      <td>Mild</td>\n",
              "    </tr>\n",
              "    <tr>\n",
              "      <th>1</th>\n",
              "      <td>Facebook</td>\n",
              "      <td>Mobile Phone</td>\n",
              "      <td>Broadband (Wi-Fi)</td>\n",
              "      <td>5-10 years</td>\n",
              "      <td>3-5 per day</td>\n",
              "      <td>More than 5 hours</td>\n",
              "      <td>Frequently at anytime</td>\n",
              "      <td>500-2000</td>\n",
              "      <td>All of them</td>\n",
              "      <td>More than 20</td>\n",
              "      <td>...</td>\n",
              "      <td>Muslim</td>\n",
              "      <td>Graduate Level</td>\n",
              "      <td>Unemployed including students</td>\n",
              "      <td>No income</td>\n",
              "      <td>Urban Area</td>\n",
              "      <td>With family</td>\n",
              "      <td>38.0</td>\n",
              "      <td>1.5748</td>\n",
              "      <td>Non-smoker</td>\n",
              "      <td>Mild</td>\n",
              "    </tr>\n",
              "    <tr>\n",
              "      <th>2</th>\n",
              "      <td>Facebook</td>\n",
              "      <td>Mobile Phone</td>\n",
              "      <td>Broadband (Wi-Fi)</td>\n",
              "      <td>5-10 years</td>\n",
              "      <td>Less than 1 per day</td>\n",
              "      <td>3-5 hours</td>\n",
              "      <td>Night to late night</td>\n",
              "      <td>Less than 500</td>\n",
              "      <td>Many of them</td>\n",
              "      <td>10-20</td>\n",
              "      <td>...</td>\n",
              "      <td>Muslim</td>\n",
              "      <td>Secondary Level</td>\n",
              "      <td>Unemployed including students</td>\n",
              "      <td>No income</td>\n",
              "      <td>Urban Area</td>\n",
              "      <td>With family</td>\n",
              "      <td>39.0</td>\n",
              "      <td>1.5748</td>\n",
              "      <td>Non-smoker</td>\n",
              "      <td>Mild</td>\n",
              "    </tr>\n",
              "    <tr>\n",
              "      <th>3</th>\n",
              "      <td>Twitter</td>\n",
              "      <td>Mobile Phone</td>\n",
              "      <td>Mobile data</td>\n",
              "      <td>Less than 2-year</td>\n",
              "      <td>Less than 1 per day</td>\n",
              "      <td>3-5 hours</td>\n",
              "      <td>Frequently at anytime</td>\n",
              "      <td>500-2000</td>\n",
              "      <td>Few of them</td>\n",
              "      <td>Less than 5</td>\n",
              "      <td>...</td>\n",
              "      <td>Hindu</td>\n",
              "      <td>Secondary Level</td>\n",
              "      <td>Unemployed including students</td>\n",
              "      <td>No income</td>\n",
              "      <td>Rural Area</td>\n",
              "      <td>Without family</td>\n",
              "      <td>40.0</td>\n",
              "      <td>1.5748</td>\n",
              "      <td>Non-smoker</td>\n",
              "      <td>None-minimal</td>\n",
              "    </tr>\n",
              "    <tr>\n",
              "      <th>4</th>\n",
              "      <td>Twitter</td>\n",
              "      <td>Mobile Phone</td>\n",
              "      <td>Broadband (Wi-Fi)</td>\n",
              "      <td>Less than 2-year</td>\n",
              "      <td>More than 5 per day</td>\n",
              "      <td>More than 5 hours</td>\n",
              "      <td>Night to late night</td>\n",
              "      <td>2000-4000</td>\n",
              "      <td>Most of them</td>\n",
              "      <td>10-20</td>\n",
              "      <td>...</td>\n",
              "      <td>Hindu</td>\n",
              "      <td>Graduate Level</td>\n",
              "      <td>Unemployed including students</td>\n",
              "      <td>No income</td>\n",
              "      <td>Rural Area</td>\n",
              "      <td>With family</td>\n",
              "      <td>40.0</td>\n",
              "      <td>1.5748</td>\n",
              "      <td>Smoker</td>\n",
              "      <td>Moderately severe</td>\n",
              "    </tr>\n",
              "  </tbody>\n",
              "</table>\n",
              "<p>5 rows × 32 columns</p>\n",
              "</div>\n",
              "      <button class=\"colab-df-convert\" onclick=\"convertToInteractive('df-24e34d7f-cd74-4677-b8bd-3bd37d5c5524')\"\n",
              "              title=\"Convert this dataframe to an interactive table.\"\n",
              "              style=\"display:none;\">\n",
              "        \n",
              "  <svg xmlns=\"http://www.w3.org/2000/svg\" height=\"24px\"viewBox=\"0 0 24 24\"\n",
              "       width=\"24px\">\n",
              "    <path d=\"M0 0h24v24H0V0z\" fill=\"none\"/>\n",
              "    <path d=\"M18.56 5.44l.94 2.06.94-2.06 2.06-.94-2.06-.94-.94-2.06-.94 2.06-2.06.94zm-11 1L8.5 8.5l.94-2.06 2.06-.94-2.06-.94L8.5 2.5l-.94 2.06-2.06.94zm10 10l.94 2.06.94-2.06 2.06-.94-2.06-.94-.94-2.06-.94 2.06-2.06.94z\"/><path d=\"M17.41 7.96l-1.37-1.37c-.4-.4-.92-.59-1.43-.59-.52 0-1.04.2-1.43.59L10.3 9.45l-7.72 7.72c-.78.78-.78 2.05 0 2.83L4 21.41c.39.39.9.59 1.41.59.51 0 1.02-.2 1.41-.59l7.78-7.78 2.81-2.81c.8-.78.8-2.07 0-2.86zM5.41 20L4 18.59l7.72-7.72 1.47 1.35L5.41 20z\"/>\n",
              "  </svg>\n",
              "      </button>\n",
              "      \n",
              "  <style>\n",
              "    .colab-df-container {\n",
              "      display:flex;\n",
              "      flex-wrap:wrap;\n",
              "      gap: 12px;\n",
              "    }\n",
              "\n",
              "    .colab-df-convert {\n",
              "      background-color: #E8F0FE;\n",
              "      border: none;\n",
              "      border-radius: 50%;\n",
              "      cursor: pointer;\n",
              "      display: none;\n",
              "      fill: #1967D2;\n",
              "      height: 32px;\n",
              "      padding: 0 0 0 0;\n",
              "      width: 32px;\n",
              "    }\n",
              "\n",
              "    .colab-df-convert:hover {\n",
              "      background-color: #E2EBFA;\n",
              "      box-shadow: 0px 1px 2px rgba(60, 64, 67, 0.3), 0px 1px 3px 1px rgba(60, 64, 67, 0.15);\n",
              "      fill: #174EA6;\n",
              "    }\n",
              "\n",
              "    [theme=dark] .colab-df-convert {\n",
              "      background-color: #3B4455;\n",
              "      fill: #D2E3FC;\n",
              "    }\n",
              "\n",
              "    [theme=dark] .colab-df-convert:hover {\n",
              "      background-color: #434B5C;\n",
              "      box-shadow: 0px 1px 3px 1px rgba(0, 0, 0, 0.15);\n",
              "      filter: drop-shadow(0px 1px 2px rgba(0, 0, 0, 0.3));\n",
              "      fill: #FFFFFF;\n",
              "    }\n",
              "  </style>\n",
              "\n",
              "      <script>\n",
              "        const buttonEl =\n",
              "          document.querySelector('#df-24e34d7f-cd74-4677-b8bd-3bd37d5c5524 button.colab-df-convert');\n",
              "        buttonEl.style.display =\n",
              "          google.colab.kernel.accessAllowed ? 'block' : 'none';\n",
              "\n",
              "        async function convertToInteractive(key) {\n",
              "          const element = document.querySelector('#df-24e34d7f-cd74-4677-b8bd-3bd37d5c5524');\n",
              "          const dataTable =\n",
              "            await google.colab.kernel.invokeFunction('convertToInteractive',\n",
              "                                                     [key], {});\n",
              "          if (!dataTable) return;\n",
              "\n",
              "          const docLinkHtml = 'Like what you see? Visit the ' +\n",
              "            '<a target=\"_blank\" href=https://colab.research.google.com/notebooks/data_table.ipynb>data table notebook</a>'\n",
              "            + ' to learn more about interactive tables.';\n",
              "          element.innerHTML = '';\n",
              "          dataTable['output_type'] = 'display_data';\n",
              "          await google.colab.output.renderOutput(dataTable, element);\n",
              "          const docLink = document.createElement('div');\n",
              "          docLink.innerHTML = docLinkHtml;\n",
              "          element.appendChild(docLink);\n",
              "        }\n",
              "      </script>\n",
              "    </div>\n",
              "  </div>\n",
              "  "
            ],
            "text/plain": [
              "  2. Which social media account do you use usually?  \\\n",
              "0                                          Facebook   \n",
              "1                                          Facebook   \n",
              "2                                          Facebook   \n",
              "3                                           Twitter   \n",
              "4                                           Twitter   \n",
              "\n",
              "  3. Which device do you usually use to connect social media?  \\\n",
              "0                                       Mobile Phone            \n",
              "1                                       Mobile Phone            \n",
              "2                                       Mobile Phone            \n",
              "3                                       Mobile Phone            \n",
              "4                                       Mobile Phone            \n",
              "\n",
              "  4. Which type of internet connection do you use?  \\\n",
              "0                                Broadband (Wi-Fi)   \n",
              "1                                Broadband (Wi-Fi)   \n",
              "2                                Broadband (Wi-Fi)   \n",
              "3                                      Mobile data   \n",
              "4                                Broadband (Wi-Fi)   \n",
              "\n",
              "  5. How long have you been using a social media account?  \\\n",
              "0                                         5-10 years        \n",
              "1                                         5-10 years        \n",
              "2                                         5-10 years        \n",
              "3                                   Less than 2-year        \n",
              "4                                   Less than 2-year        \n",
              "\n",
              "  6. How frequently do you post (upload status or add photos/videos) on social media?   \\\n",
              "0                                Less than 1 per day                                     \n",
              "1                                        3-5 per day                                     \n",
              "2                                Less than 1 per day                                     \n",
              "3                                Less than 1 per day                                     \n",
              "4                                More than 5 per day                                     \n",
              "\n",
              "  7. How much time do you spend daily in social media?  \\\n",
              "0                                          1-3 hours     \n",
              "1                                  More than 5 hours     \n",
              "2                                          3-5 hours     \n",
              "3                                          3-5 hours     \n",
              "4                                  More than 5 hours     \n",
              "\n",
              "  8. When do you usually use social media?  \\\n",
              "0                    Frequently at anytime   \n",
              "1                    Frequently at anytime   \n",
              "2                      Night to late night   \n",
              "3                    Frequently at anytime   \n",
              "4                      Night to late night   \n",
              "\n",
              "  9. How many friends do you have on social media?  \\\n",
              "0                                    Less than 500   \n",
              "1                                         500-2000   \n",
              "2                                    Less than 500   \n",
              "3                                         500-2000   \n",
              "4                                        2000-4000   \n",
              "\n",
              "  10. How many friends do you know personally in social media?   \\\n",
              "0                                        All of them              \n",
              "1                                        All of them              \n",
              "2                                       Many of them              \n",
              "3                                        Few of them              \n",
              "4                                       Most of them              \n",
              "\n",
              "  11. How many groups you are tagged in social media?  ... 24. Religion  \\\n",
              "0                                        Less than 5   ...       Muslim   \n",
              "1                                       More than 20   ...       Muslim   \n",
              "2                                              10-20   ...       Muslim   \n",
              "3                                        Less than 5   ...        Hindu   \n",
              "4                                              10-20   ...        Hindu   \n",
              "\n",
              "     25. Education                 26. Profession 27. Monthly income  \\\n",
              "0   Graduate Level                    Private job    Above 70,000 Tk   \n",
              "1   Graduate Level  Unemployed including students          No income   \n",
              "2  Secondary Level  Unemployed including students          No income   \n",
              "3  Secondary Level  Unemployed including students          No income   \n",
              "4   Graduate Level  Unemployed including students          No income   \n",
              "\n",
              "  28. Area of residence 29. Living with- 30. Body weight (Kg) 31. Height (m)  \\\n",
              "0            Urban Area      With family                 34.0         1.4986   \n",
              "1            Urban Area      With family                 38.0         1.5748   \n",
              "2            Urban Area      With family                 39.0         1.5748   \n",
              "3            Rural Area   Without family                 40.0         1.5748   \n",
              "4            Rural Area      With family                 40.0         1.5748   \n",
              "\n",
              "  32. Smoking habit  Depression severity  \n",
              "0        Non-smoker                 Mild  \n",
              "1        Non-smoker                 Mild  \n",
              "2        Non-smoker                 Mild  \n",
              "3        Non-smoker         None-minimal  \n",
              "4            Smoker    Moderately severe  \n",
              "\n",
              "[5 rows x 32 columns]"
            ]
          },
          "execution_count": 3,
          "metadata": {},
          "output_type": "execute_result"
        }
      ],
      "source": [
        "df.head(5)"
      ]
    },
    {
      "cell_type": "code",
      "execution_count": null,
      "metadata": {
        "colab": {
          "background_save": true
        },
        "id": "5ruAyrZcHC5K",
        "outputId": "2ae652cd-f6e4-46e3-bf35-f5b7ecaa7dd8"
      },
      "outputs": [
        {
          "data": {
            "text/plain": [
              "(791, 32)"
            ]
          },
          "execution_count": 4,
          "metadata": {},
          "output_type": "execute_result"
        }
      ],
      "source": [
        "df.shape"
      ]
    },
    {
      "cell_type": "code",
      "execution_count": null,
      "metadata": {
        "colab": {
          "background_save": true
        },
        "id": "TFIO2orLHdR0"
      },
      "outputs": [],
      "source": [
        "sns.set_theme(style=\"darkgrid\")"
      ]
    },
    {
      "cell_type": "code",
      "execution_count": null,
      "metadata": {
        "colab": {
          "background_save": true
        },
        "id": "0cPEaajrGkoq",
        "outputId": "5cdf9512-bd39-48a4-ba60-b438c8ec9065"
      },
      "outputs": [
        {
          "data": {
            "text/plain": [
              "<matplotlib.axes._subplots.AxesSubplot at 0x7f2f9f5b5190>"
            ]
          },
          "execution_count": 6,
          "metadata": {},
          "output_type": "execute_result"
        },
        {
          "data": {
            "image/png": "[encoded data removed]",
            "text/plain": [
              "<Figure size 1800x576 with 1 Axes>"
            ]
          },
          "metadata": {},
          "output_type": "display_data"
        }
      ],
      "source": [
        "plt.figure(figsize=(25,8))\n",
        "sns.countplot(x='21. Please write your age in years (number).',hue='Depression severity',data=df)"
      ]
    },
    {
      "cell_type": "code",
      "execution_count": null,
      "metadata": {
        "colab": {
          "background_save": true
        },
        "id": "kdCV4SneBQOn",
        "outputId": "d45e3bc8-f71d-4a6b-99ee-ea1d77f6a1a0"
      },
      "outputs": [
        {
          "data": {
            "text/plain": [
              "<matplotlib.axes._subplots.AxesSubplot at 0x7f2f9f1fff70>"
            ]
          },
          "execution_count": 7,
          "metadata": {},
          "output_type": "execute_result"
        },
        {
          "data": {
            "image/png": "[encoded data removed]",
            "text/plain": [
              "<Figure size 432x288 with 1 Axes>"
            ]
          },
          "metadata": {},
          "output_type": "display_data"
        }
      ],
      "source": [
        "sns.countplot(x='Depression severity',data=df)"
      ]
    },
    {
      "cell_type": "code",
      "execution_count": null,
      "metadata": {
        "colab": {
          "background_save": true
        },
        "id": "6oV58Z00Bde_",
        "outputId": "45638421-5705-476c-ac22-48ed7d449e79"
      },
      "outputs": [
        {
          "data": {
            "text/plain": [
              "<matplotlib.axes._subplots.AxesSubplot at 0x7f2f9f5b5400>"
            ]
          },
          "execution_count": 8,
          "metadata": {},
          "output_type": "execute_result"
        },
        {
          "data": {
            "image/png": "[encoded data removed]",
            "text/plain": [
              "<Figure size 432x288 with 1 Axes>"
            ]
          },
          "metadata": {},
          "output_type": "display_data"
        }
      ],
      "source": [
        "sns.countplot(x='32. Smoking habit',hue='Depression severity',data=df)"
      ]
    },
    {
      "cell_type": "code",
      "execution_count": null,
      "metadata": {
        "colab": {
          "background_save": true
        },
        "id": "N7NDwGLCChTr",
        "outputId": "7520601a-151c-4e11-c67d-7daf6eb96b9e"
      },
      "outputs": [
        {
          "data": {
            "text/plain": [
              "<matplotlib.axes._subplots.AxesSubplot at 0x7f2f9ed16550>"
            ]
          },
          "execution_count": 9,
          "metadata": {},
          "output_type": "execute_result"
        },
        {
          "data": {
            "image/png": "[encoded data removed]",
            "text/plain": [
              "<Figure size 432x288 with 1 Axes>"
            ]
          },
          "metadata": {},
          "output_type": "display_data"
        }
      ],
      "source": [
        "sns.countplot(x='27. Monthly income',hue='Depression severity',data=df)"
      ]
    },
    {
      "cell_type": "code",
      "execution_count": null,
      "metadata": {
        "colab": {
          "background_save": true
        },
        "id": "LGtne4exDlzR",
        "outputId": "f4171315-de5d-4fe7-b11e-93efe1ec9a24"
      },
      "outputs": [
        {
          "data": {
            "text/plain": [
              "<matplotlib.axes._subplots.AxesSubplot at 0x7f2f9ec3d1c0>"
            ]
          },
          "execution_count": 10,
          "metadata": {},
          "output_type": "execute_result"
        },
        {
          "data": {
            "image/png": "[encoded data removed]",
            "text/plain": [
              "<Figure size 432x288 with 1 Axes>"
            ]
          },
          "metadata": {},
          "output_type": "display_data"
        }
      ],
      "source": [
        "sns.countplot(x='7. How much time do you spend daily in social media?',hue='Depression severity',data=df)"
      ]
    },
    {
      "cell_type": "markdown",
      "metadata": {
        "id": "ZK8ZDXLeHqk4"
      },
      "source": [
        "**Data Preprocesing**"
      ]
    },
    {
      "cell_type": "code",
      "execution_count": null,
      "metadata": {
        "colab": {
          "background_save": true
        },
        "id": "ZIHcCPlbH3Nl"
      },
      "outputs": [],
      "source": [
        "from sklearn import preprocessing"
      ]
    },
    {
      "cell_type": "code",
      "execution_count": null,
      "metadata": {
        "colab": {
          "background_save": true
        },
        "id": "upxJddnbIG55"
      },
      "outputs": [],
      "source": [
        "label_encoder = preprocessing.LabelEncoder()"
      ]
    },
    {
      "cell_type": "code",
      "execution_count": null,
      "metadata": {
        "colab": {
          "background_save": true
        },
        "id": "fvNrMp-PIjvg",
        "outputId": "3e10d2d1-f735-45b0-987b-f9ea33dfa334"
      },
      "outputs": [
        {
          "data": {
            "text/plain": [
              "array([0, 5, 3, 2, 7, 8, 1, 6, 4])"
            ]
          },
          "execution_count": 13,
          "metadata": {},
          "output_type": "execute_result"
        }
      ],
      "source": [
        "df['2. Which social media account do you use usually?'] = label_encoder.fit_transform(df['2. Which social media account do you use usually?'])\n",
        "df['2. Which social media account do you use usually?'].unique()"
      ]
    },
    {
      "cell_type": "code",
      "execution_count": null,
      "metadata": {
        "colab": {
          "background_save": true
        },
        "id": "IgqOfbk9J7h6",
        "outputId": "218238c0-ec03-4959-97db-fc83174c1227"
      },
      "outputs": [
        {
          "data": {
            "text/plain": [
              "array([2, 3, 1, 0])"
            ]
          },
          "execution_count": 14,
          "metadata": {},
          "output_type": "execute_result"
        }
      ],
      "source": [
        "df['3. Which device do you usually use to connect social media?'] = label_encoder.fit_transform(df['3. Which device do you usually use to connect social media?'])\n",
        "df['3. Which device do you usually use to connect social media?'].unique()"
      ]
    },
    {
      "cell_type": "code",
      "execution_count": null,
      "metadata": {
        "colab": {
          "background_save": true
        },
        "id": "jF0twWnLKSw2",
        "outputId": "73cd7c46-ff9c-48a7-842b-bc2b5499eed2"
      },
      "outputs": [
        {
          "data": {
            "text/plain": [
              "array([0, 1])"
            ]
          },
          "execution_count": 15,
          "metadata": {},
          "output_type": "execute_result"
        }
      ],
      "source": [
        "df['4. Which type of internet connection do you use?'] = label_encoder.fit_transform(df['4. Which type of internet connection do you use?'])\n",
        "df['4. Which type of internet connection do you use?'].unique()"
      ]
    },
    {
      "cell_type": "code",
      "execution_count": null,
      "metadata": {
        "colab": {
          "background_save": true
        },
        "id": "xECbgxV0Kc17",
        "outputId": "d4f7927e-7cf5-4074-c5bb-d6eaa4e804fc"
      },
      "outputs": [
        {
          "data": {
            "text/plain": [
              "array([1, 2, 0, 3])"
            ]
          },
          "execution_count": 16,
          "metadata": {},
          "output_type": "execute_result"
        }
      ],
      "source": [
        "df['5. How long have you been using a social media account?'] = label_encoder.fit_transform(df['5. How long have you been using a social media account?'])\n",
        "df['5. How long have you been using a social media account?'].unique()"
      ]
    },
    {
      "cell_type": "code",
      "execution_count": null,
      "metadata": {
        "colab": {
          "background_save": true
        },
        "id": "VYOTpAfKKc_S",
        "outputId": "92c5628f-b08f-4dfb-cb17-7ab70403ec0f"
      },
      "outputs": [
        {
          "data": {
            "text/plain": [
              "array([2, 1, 3, 0])"
            ]
          },
          "execution_count": 17,
          "metadata": {},
          "output_type": "execute_result"
        }
      ],
      "source": [
        "df['6. How frequently do you post (upload status or add photos/videos) on social media? '] = label_encoder.fit_transform(df['6. How frequently do you post (upload status or add photos/videos) on social media? '])\n",
        "df['6. How frequently do you post (upload status or add photos/videos) on social media? '].unique()"
      ]
    },
    {
      "cell_type": "code",
      "execution_count": null,
      "metadata": {
        "colab": {
          "background_save": true
        },
        "id": "JkbT4yCQKdGC",
        "outputId": "ec3f8568-75c8-45e4-fb05-bfc0a3d4cb9b"
      },
      "outputs": [
        {
          "data": {
            "text/plain": [
              "array([0, 3, 1, 2])"
            ]
          },
          "execution_count": 18,
          "metadata": {},
          "output_type": "execute_result"
        }
      ],
      "source": [
        "df['7. How much time do you spend daily in social media?'] = label_encoder.fit_transform(df['7. How much time do you spend daily in social media?'])\n",
        "df['7. How much time do you spend daily in social media?'].unique()"
      ]
    },
    {
      "cell_type": "code",
      "execution_count": null,
      "metadata": {
        "colab": {
          "background_save": true
        },
        "id": "2Tf16tpMKdKr",
        "outputId": "a28b2cb7-2833-44fc-f734-1972b7d825a2"
      },
      "outputs": [
        {
          "data": {
            "text/plain": [
              "array([2, 4, 1, 0, 3])"
            ]
          },
          "execution_count": 19,
          "metadata": {},
          "output_type": "execute_result"
        }
      ],
      "source": [
        "df['8. When do you usually use social media?'] = label_encoder.fit_transform(df['8. When do you usually use social media?'])\n",
        "df['8. When do you usually use social media?'].unique()"
      ]
    },
    {
      "cell_type": "code",
      "execution_count": null,
      "metadata": {
        "colab": {
          "background_save": true
        },
        "id": "brrMZCq9KdO-",
        "outputId": "27595c73-66b4-4001-d9c7-c53a6ea6bd9f"
      },
      "outputs": [
        {
          "data": {
            "text/plain": [
              "array([2, 1, 0, 3])"
            ]
          },
          "execution_count": 20,
          "metadata": {},
          "output_type": "execute_result"
        }
      ],
      "source": [
        "df['9. How many friends do you have on social media?'] = label_encoder.fit_transform(df['9. How many friends do you have on social media?'])\n",
        "df['9. How many friends do you have on social media?'].unique()"
      ]
    },
    {
      "cell_type": "code",
      "execution_count": null,
      "metadata": {
        "colab": {
          "background_save": true
        },
        "id": "lT6B3LFlKdTU",
        "outputId": "4e61c1cc-d558-48eb-cd8a-fcbe0f765ffc"
      },
      "outputs": [
        {
          "data": {
            "text/plain": [
              "array([0, 2, 1, 3])"
            ]
          },
          "execution_count": 21,
          "metadata": {},
          "output_type": "execute_result"
        }
      ],
      "source": [
        "df['10. How many friends do you know personally in social media? '] = label_encoder.fit_transform(df['10. How many friends do you know personally in social media? '])\n",
        "df['10. How many friends do you know personally in social media? '].unique()"
      ]
    },
    {
      "cell_type": "code",
      "execution_count": null,
      "metadata": {
        "colab": {
          "background_save": true
        },
        "id": "eg06muErKdYg",
        "outputId": "04046b0f-abe6-480c-c658-f82585e8d400"
      },
      "outputs": [
        {
          "data": {
            "text/plain": [
              "array([2, 3, 0, 1])"
            ]
          },
          "execution_count": 22,
          "metadata": {},
          "output_type": "execute_result"
        }
      ],
      "source": [
        "df['11. How many groups you are tagged in social media?'] = label_encoder.fit_transform(df['11. How many groups you are tagged in social media?'])\n",
        "df['11. How many groups you are tagged in social media?'].unique()"
      ]
    },
    {
      "cell_type": "code",
      "execution_count": null,
      "metadata": {
        "colab": {
          "background_save": true
        },
        "id": "42H5Kk7MKdcm",
        "outputId": "a6e4102d-d87a-4280-8c1a-aa9bdf60ffe4"
      },
      "outputs": [
        {
          "data": {
            "text/plain": [
              "array([4, 0, 3, 1, 2])"
            ]
          },
          "execution_count": 23,
          "metadata": {},
          "output_type": "execute_result"
        }
      ],
      "source": [
        "df['12. What is your main purpose for using social media (e.g. Facebook)?'] = label_encoder.fit_transform(df['12. What is your main purpose for using social media (e.g. Facebook)?'])\n",
        "df['12. What is your main purpose for using social media (e.g. Facebook)?'].unique()"
      ]
    },
    {
      "cell_type": "code",
      "execution_count": null,
      "metadata": {
        "colab": {
          "background_save": true
        },
        "id": "UqZhCVq5KdgY",
        "outputId": "04c17744-025e-42d8-ff79-239e4119974f"
      },
      "outputs": [
        {
          "data": {
            "text/plain": [
              "array([20, 18, 12, 19,  9, 13, 14, 11, 21,  4,  3, 17,  8,  7,  6,  5, 16,\n",
              "       15,  0, 10,  2,  1])"
            ]
          },
          "execution_count": 24,
          "metadata": {},
          "output_type": "execute_result"
        }
      ],
      "source": [
        "df['13. What contents do you mainly look for in your social media news feed?'] = label_encoder.fit_transform(df['13. What contents do you mainly look for in your social media news feed?'])\n",
        "df['13. What contents do you mainly look for in your social media news feed?'].unique()"
      ]
    },
    {
      "cell_type": "code",
      "execution_count": null,
      "metadata": {
        "colab": {
          "background_save": true
        },
        "id": "vnyo_jdpKdky",
        "outputId": "543f8344-9c22-4db2-e591-39043ff25592"
      },
      "outputs": [
        {
          "data": {
            "text/plain": [
              "array([1, 0])"
            ]
          },
          "execution_count": 25,
          "metadata": {},
          "output_type": "execute_result"
        }
      ],
      "source": [
        "df['14.Do you believe social media is a good thing?'] = label_encoder.fit_transform(df['14.Do you believe social media is a good thing?'])\n",
        "df['14.Do you believe social media is a good thing?'].unique()"
      ]
    },
    {
      "cell_type": "code",
      "execution_count": null,
      "metadata": {
        "colab": {
          "background_save": true
        },
        "id": "ix4OjlyqKdoo",
        "outputId": "e83d5f79-3661-47b4-b37c-49941c8f8a85"
      },
      "outputs": [
        {
          "data": {
            "text/plain": [
              "array([0, 1])"
            ]
          },
          "execution_count": 26,
          "metadata": {},
          "output_type": "execute_result"
        }
      ],
      "source": [
        "df['15. When you see something in social media, do you instantly believe it?'] = label_encoder.fit_transform(df['15. When you see something in social media, do you instantly believe it?'])\n",
        "df['15. When you see something in social media, do you instantly believe it?'].unique()"
      ]
    },
    {
      "cell_type": "code",
      "execution_count": null,
      "metadata": {
        "colab": {
          "background_save": true
        },
        "id": "QYv4A1ckKdsO",
        "outputId": "2d00216e-5f8a-4b79-f6a6-4fef478d2b6f"
      },
      "outputs": [
        {
          "data": {
            "text/plain": [
              "array([0, 1])"
            ]
          },
          "execution_count": 27,
          "metadata": {},
          "output_type": "execute_result"
        }
      ],
      "source": [
        "df['16. Have you ever experienced peer pressure due to social media?'] = label_encoder.fit_transform(df['16. Have you ever experienced peer pressure due to social media?'])\n",
        "df['16. Have you ever experienced peer pressure due to social media?'].unique()"
      ]
    },
    {
      "cell_type": "code",
      "execution_count": null,
      "metadata": {
        "colab": {
          "background_save": true
        },
        "id": "gAEx7ePdKdv8",
        "outputId": "74f067cc-74af-4e57-db1d-c85750594fc5"
      },
      "outputs": [
        {
          "data": {
            "text/plain": [
              "array([2, 1, 0])"
            ]
          },
          "execution_count": 28,
          "metadata": {},
          "output_type": "execute_result"
        }
      ],
      "source": [
        "df['17. Does your emotion get influenced by others posts (success, failure, loss)? '] = label_encoder.fit_transform(df['17. Does your emotion get influenced by others posts (success, failure, loss)? '])\n",
        "df['17. Does your emotion get influenced by others posts (success, failure, loss)? '].unique()"
      ]
    },
    {
      "cell_type": "code",
      "execution_count": null,
      "metadata": {
        "colab": {
          "background_save": true
        },
        "id": "oYjjzZ1nKdzn",
        "outputId": "2ce1b242-4037-4ee1-dba0-61db645b8f45"
      },
      "outputs": [
        {
          "data": {
            "text/plain": [
              "array([2, 0, 1])"
            ]
          },
          "execution_count": 29,
          "metadata": {},
          "output_type": "execute_result"
        }
      ],
      "source": [
        "df['18. Have you ever compared yourself with other’s success or luxurious life?'] = label_encoder.fit_transform(df['18. Have you ever compared yourself with other’s success or luxurious life?'])\n",
        "df['18. Have you ever compared yourself with other’s success or luxurious life?'].unique()"
      ]
    },
    {
      "cell_type": "code",
      "execution_count": null,
      "metadata": {
        "colab": {
          "background_save": true
        },
        "id": "U2WBk3_oKd3i",
        "outputId": "a9d52e60-8c06-4663-8801-95ba0cf15ab6"
      },
      "outputs": [
        {
          "data": {
            "text/plain": [
              "array([0, 1])"
            ]
          },
          "execution_count": 30,
          "metadata": {},
          "output_type": "execute_result"
        }
      ],
      "source": [
        "df['19. Do you think, your mental wellbeing would be better if you do not use social media?'] = label_encoder.fit_transform(df['19. Do you think, your mental wellbeing would be better if you do not use social media?'])\n",
        "df['19. Do you think, your mental wellbeing would be better if you do not use social media?'].unique()"
      ]
    },
    {
      "cell_type": "code",
      "execution_count": null,
      "metadata": {
        "colab": {
          "background_save": true
        },
        "id": "ChYZ89uhKd7t",
        "outputId": "ad2cffb6-e9a8-4772-b879-30cdbf8de792"
      },
      "outputs": [
        {
          "data": {
            "text/plain": [
              "array([1, 2, 3, 0, 4, 5])"
            ]
          },
          "execution_count": 31,
          "metadata": {},
          "output_type": "execute_result"
        }
      ],
      "source": [
        "df['20. If answer is yes, are you trying to control that thing and trying to reduce the use of social media?'] = label_encoder.fit_transform(df['20. If answer is yes, are you trying to control that thing and trying to reduce the use of social media?'])\n",
        "df['20. If answer is yes, are you trying to control that thing and trying to reduce the use of social media?'].unique()"
      ]
    },
    {
      "cell_type": "code",
      "execution_count": null,
      "metadata": {
        "colab": {
          "background_save": true
        },
        "id": "SO3x5DF8Kd_2",
        "outputId": "5450c4cd-d522-454f-dd0a-ed02fd5ee508"
      },
      "outputs": [
        {
          "data": {
            "text/plain": [
              "array([0, 1])"
            ]
          },
          "execution_count": 32,
          "metadata": {},
          "output_type": "execute_result"
        }
      ],
      "source": [
        "df['22. Gender'] = label_encoder.fit_transform(df['22. Gender'])\n",
        "df['22. Gender'].unique()"
      ]
    },
    {
      "cell_type": "code",
      "execution_count": null,
      "metadata": {
        "colab": {
          "background_save": true
        },
        "id": "srUGQ9QyKeDj",
        "outputId": "9104b0c8-a13e-490c-eb9f-cf39f1975721"
      },
      "outputs": [
        {
          "data": {
            "text/plain": [
              "array([1, 2, 0, 3])"
            ]
          },
          "execution_count": 33,
          "metadata": {},
          "output_type": "execute_result"
        }
      ],
      "source": [
        "df['23. Marital Status'] = label_encoder.fit_transform(df['23. Marital Status'])\n",
        "df['23. Marital Status'].unique()"
      ]
    },
    {
      "cell_type": "code",
      "execution_count": null,
      "metadata": {
        "colab": {
          "background_save": true
        },
        "id": "DC4nuojCKeHP",
        "outputId": "7da9f47d-01a0-4277-ed16-63b820978f0b"
      },
      "outputs": [
        {
          "data": {
            "text/plain": [
              "array([ 9,  7,  3, 10, 13,  4, 12,  0,  5,  6,  2,  8, 11,  1])"
            ]
          },
          "execution_count": 34,
          "metadata": {},
          "output_type": "execute_result"
        }
      ],
      "source": [
        "df['24. Religion'] = label_encoder.fit_transform(df['24. Religion'])\n",
        "df['24. Religion'].unique()"
      ]
    },
    {
      "cell_type": "code",
      "execution_count": null,
      "metadata": {
        "colab": {
          "background_save": true
        },
        "id": "guCRR0lWKeKt",
        "outputId": "894031f3-0224-48b8-9bb3-b0b19f1982c0"
      },
      "outputs": [
        {
          "data": {
            "text/plain": [
              "array([0, 5, 4, 3, 1, 2, 6])"
            ]
          },
          "execution_count": 35,
          "metadata": {},
          "output_type": "execute_result"
        }
      ],
      "source": [
        "df['25. Education'] = label_encoder.fit_transform(df['25. Education'])\n",
        "df['25. Education'].unique()"
      ]
    },
    {
      "cell_type": "code",
      "execution_count": null,
      "metadata": {
        "colab": {
          "background_save": true
        },
        "id": "JXzu4WXvKeOH",
        "outputId": "77a864a0-b626-4362-cdfc-d4966f25dd32"
      },
      "outputs": [
        {
          "data": {
            "text/plain": [
              "array([20, 28, 25, 23, 16, 15,  4, 17,  9,  8, 10, 19, 31,  3, 24, 14, 18,\n",
              "       30,  7, 26, 29,  6, 11, 27,  5, 21, 13, 22,  0,  2, 12,  1])"
            ]
          },
          "execution_count": 36,
          "metadata": {},
          "output_type": "execute_result"
        }
      ],
      "source": [
        "df['26. Profession'] = label_encoder.fit_transform(df['26. Profession'])\n",
        "df['26. Profession'].unique()"
      ]
    },
    {
      "cell_type": "code",
      "execution_count": null,
      "metadata": {
        "colab": {
          "background_save": true
        },
        "id": "DmyO4L-cKeRh",
        "outputId": "165c27cb-ea8e-4fa2-e504-aacdba2c83ac"
      },
      "outputs": [
        {
          "data": {
            "text/plain": [
              "array([2, 3, 0, 1])"
            ]
          },
          "execution_count": 37,
          "metadata": {},
          "output_type": "execute_result"
        }
      ],
      "source": [
        "df['27. Monthly income'] = label_encoder.fit_transform(df['27. Monthly income'])\n",
        "df['27. Monthly income'].unique()"
      ]
    },
    {
      "cell_type": "code",
      "execution_count": null,
      "metadata": {
        "colab": {
          "background_save": true
        },
        "id": "of2JQWWtKeU2",
        "outputId": "7a7a67e0-0732-4cab-eb08-c49c6b5892ae"
      },
      "outputs": [
        {
          "data": {
            "text/plain": [
              "array([1, 0])"
            ]
          },
          "execution_count": 38,
          "metadata": {},
          "output_type": "execute_result"
        }
      ],
      "source": [
        "df['28. Area of residence'] = label_encoder.fit_transform(df['28. Area of residence'])\n",
        "df['28. Area of residence'].unique()"
      ]
    },
    {
      "cell_type": "code",
      "execution_count": null,
      "metadata": {
        "colab": {
          "background_save": true
        },
        "id": "78GLb35FKeX3",
        "outputId": "6bd31f1e-0927-45e2-f801-60d13423465b"
      },
      "outputs": [
        {
          "data": {
            "text/plain": [
              "array([0, 1])"
            ]
          },
          "execution_count": 39,
          "metadata": {},
          "output_type": "execute_result"
        }
      ],
      "source": [
        "df['29. Living with-'] = label_encoder.fit_transform(df['29. Living with-'])\n",
        "df['29. Living with-'].unique()"
      ]
    },
    {
      "cell_type": "code",
      "execution_count": null,
      "metadata": {
        "colab": {
          "background_save": true
        },
        "id": "fSytp3gxKea3",
        "outputId": "c8040ee0-1e09-48c8-8b24-377b63ff3b61"
      },
      "outputs": [
        {
          "data": {
            "text/plain": [
              "array([0, 1])"
            ]
          },
          "execution_count": 40,
          "metadata": {},
          "output_type": "execute_result"
        }
      ],
      "source": [
        "df['32. Smoking habit'] = label_encoder.fit_transform(df['32. Smoking habit'])\n",
        "df['32. Smoking habit'].unique()"
      ]
    },
    {
      "cell_type": "code",
      "execution_count": null,
      "metadata": {
        "colab": {
          "background_save": true
        },
        "id": "WU6yJhZpNaN8",
        "outputId": "cf2caacb-04da-4f4a-fe38-a87bbc4f3a02"
      },
      "outputs": [
        {
          "data": {
            "text/html": [
              "\n",
              "  <div id=\"df-3d81dcdf-fadb-4ec6-9c35-8793cef22fd2\">\n",
              "    <div class=\"colab-df-container\">\n",
              "      <div>\n",
              "<style scoped>\n",
              "    .dataframe tbody tr th:only-of-type {\n",
              "        vertical-align: middle;\n",
              "    }\n",
              "\n",
              "    .dataframe tbody tr th {\n",
              "        vertical-align: top;\n",
              "    }\n",
              "\n",
              "    .dataframe thead th {\n",
              "        text-align: right;\n",
              "    }\n",
              "</style>\n",
              "<table border=\"1\" class=\"dataframe\">\n",
              "  <thead>\n",
              "    <tr style=\"text-align: right;\">\n",
              "      <th></th>\n",
              "      <th>2. Which social media account do you use usually?</th>\n",
              "      <th>3. Which device do you usually use to connect social media?</th>\n",
              "      <th>4. Which type of internet connection do you use?</th>\n",
              "      <th>5. How long have you been using a social media account?</th>\n",
              "      <th>6. How frequently do you post (upload status or add photos/videos) on social media?</th>\n",
              "      <th>7. How much time do you spend daily in social media?</th>\n",
              "      <th>8. When do you usually use social media?</th>\n",
              "      <th>9. How many friends do you have on social media?</th>\n",
              "      <th>10. How many friends do you know personally in social media?</th>\n",
              "      <th>11. How many groups you are tagged in social media?</th>\n",
              "      <th>...</th>\n",
              "      <th>24. Religion</th>\n",
              "      <th>25. Education</th>\n",
              "      <th>26. Profession</th>\n",
              "      <th>27. Monthly income</th>\n",
              "      <th>28. Area of residence</th>\n",
              "      <th>29. Living with-</th>\n",
              "      <th>30. Body weight (Kg)</th>\n",
              "      <th>31. Height (m)</th>\n",
              "      <th>32. Smoking habit</th>\n",
              "      <th>Depression severity</th>\n",
              "    </tr>\n",
              "  </thead>\n",
              "  <tbody>\n",
              "    <tr>\n",
              "      <th>0</th>\n",
              "      <td>0</td>\n",
              "      <td>2</td>\n",
              "      <td>0</td>\n",
              "      <td>1</td>\n",
              "      <td>2</td>\n",
              "      <td>0</td>\n",
              "      <td>2</td>\n",
              "      <td>2</td>\n",
              "      <td>0</td>\n",
              "      <td>2</td>\n",
              "      <td>...</td>\n",
              "      <td>9</td>\n",
              "      <td>0</td>\n",
              "      <td>20</td>\n",
              "      <td>2</td>\n",
              "      <td>1</td>\n",
              "      <td>0</td>\n",
              "      <td>34.0</td>\n",
              "      <td>1.4986</td>\n",
              "      <td>0</td>\n",
              "      <td>Mild</td>\n",
              "    </tr>\n",
              "    <tr>\n",
              "      <th>1</th>\n",
              "      <td>0</td>\n",
              "      <td>2</td>\n",
              "      <td>0</td>\n",
              "      <td>1</td>\n",
              "      <td>1</td>\n",
              "      <td>3</td>\n",
              "      <td>2</td>\n",
              "      <td>1</td>\n",
              "      <td>0</td>\n",
              "      <td>3</td>\n",
              "      <td>...</td>\n",
              "      <td>9</td>\n",
              "      <td>0</td>\n",
              "      <td>28</td>\n",
              "      <td>3</td>\n",
              "      <td>1</td>\n",
              "      <td>0</td>\n",
              "      <td>38.0</td>\n",
              "      <td>1.5748</td>\n",
              "      <td>0</td>\n",
              "      <td>Mild</td>\n",
              "    </tr>\n",
              "    <tr>\n",
              "      <th>2</th>\n",
              "      <td>0</td>\n",
              "      <td>2</td>\n",
              "      <td>0</td>\n",
              "      <td>1</td>\n",
              "      <td>2</td>\n",
              "      <td>1</td>\n",
              "      <td>4</td>\n",
              "      <td>2</td>\n",
              "      <td>2</td>\n",
              "      <td>0</td>\n",
              "      <td>...</td>\n",
              "      <td>9</td>\n",
              "      <td>5</td>\n",
              "      <td>28</td>\n",
              "      <td>3</td>\n",
              "      <td>1</td>\n",
              "      <td>0</td>\n",
              "      <td>39.0</td>\n",
              "      <td>1.5748</td>\n",
              "      <td>0</td>\n",
              "      <td>Mild</td>\n",
              "    </tr>\n",
              "    <tr>\n",
              "      <th>3</th>\n",
              "      <td>5</td>\n",
              "      <td>2</td>\n",
              "      <td>1</td>\n",
              "      <td>2</td>\n",
              "      <td>2</td>\n",
              "      <td>1</td>\n",
              "      <td>2</td>\n",
              "      <td>1</td>\n",
              "      <td>1</td>\n",
              "      <td>2</td>\n",
              "      <td>...</td>\n",
              "      <td>7</td>\n",
              "      <td>5</td>\n",
              "      <td>28</td>\n",
              "      <td>3</td>\n",
              "      <td>0</td>\n",
              "      <td>1</td>\n",
              "      <td>40.0</td>\n",
              "      <td>1.5748</td>\n",
              "      <td>0</td>\n",
              "      <td>None-minimal</td>\n",
              "    </tr>\n",
              "    <tr>\n",
              "      <th>4</th>\n",
              "      <td>5</td>\n",
              "      <td>2</td>\n",
              "      <td>0</td>\n",
              "      <td>2</td>\n",
              "      <td>3</td>\n",
              "      <td>3</td>\n",
              "      <td>4</td>\n",
              "      <td>0</td>\n",
              "      <td>3</td>\n",
              "      <td>0</td>\n",
              "      <td>...</td>\n",
              "      <td>7</td>\n",
              "      <td>0</td>\n",
              "      <td>28</td>\n",
              "      <td>3</td>\n",
              "      <td>0</td>\n",
              "      <td>0</td>\n",
              "      <td>40.0</td>\n",
              "      <td>1.5748</td>\n",
              "      <td>1</td>\n",
              "      <td>Moderately severe</td>\n",
              "    </tr>\n",
              "    <tr>\n",
              "      <th>5</th>\n",
              "      <td>0</td>\n",
              "      <td>3</td>\n",
              "      <td>1</td>\n",
              "      <td>0</td>\n",
              "      <td>0</td>\n",
              "      <td>2</td>\n",
              "      <td>1</td>\n",
              "      <td>1</td>\n",
              "      <td>1</td>\n",
              "      <td>1</td>\n",
              "      <td>...</td>\n",
              "      <td>9</td>\n",
              "      <td>5</td>\n",
              "      <td>28</td>\n",
              "      <td>3</td>\n",
              "      <td>0</td>\n",
              "      <td>0</td>\n",
              "      <td>40.0</td>\n",
              "      <td>1.5748</td>\n",
              "      <td>0</td>\n",
              "      <td>Mild</td>\n",
              "    </tr>\n",
              "    <tr>\n",
              "      <th>6</th>\n",
              "      <td>0</td>\n",
              "      <td>1</td>\n",
              "      <td>0</td>\n",
              "      <td>0</td>\n",
              "      <td>0</td>\n",
              "      <td>0</td>\n",
              "      <td>0</td>\n",
              "      <td>1</td>\n",
              "      <td>3</td>\n",
              "      <td>1</td>\n",
              "      <td>...</td>\n",
              "      <td>3</td>\n",
              "      <td>5</td>\n",
              "      <td>28</td>\n",
              "      <td>3</td>\n",
              "      <td>0</td>\n",
              "      <td>0</td>\n",
              "      <td>44.0</td>\n",
              "      <td>1.6510</td>\n",
              "      <td>1</td>\n",
              "      <td>Mild</td>\n",
              "    </tr>\n",
              "    <tr>\n",
              "      <th>7</th>\n",
              "      <td>0</td>\n",
              "      <td>2</td>\n",
              "      <td>0</td>\n",
              "      <td>1</td>\n",
              "      <td>2</td>\n",
              "      <td>0</td>\n",
              "      <td>2</td>\n",
              "      <td>1</td>\n",
              "      <td>3</td>\n",
              "      <td>3</td>\n",
              "      <td>...</td>\n",
              "      <td>9</td>\n",
              "      <td>0</td>\n",
              "      <td>20</td>\n",
              "      <td>0</td>\n",
              "      <td>1</td>\n",
              "      <td>0</td>\n",
              "      <td>59.0</td>\n",
              "      <td>1.9050</td>\n",
              "      <td>0</td>\n",
              "      <td>None-minimal</td>\n",
              "    </tr>\n",
              "    <tr>\n",
              "      <th>8</th>\n",
              "      <td>0</td>\n",
              "      <td>2</td>\n",
              "      <td>0</td>\n",
              "      <td>0</td>\n",
              "      <td>2</td>\n",
              "      <td>1</td>\n",
              "      <td>4</td>\n",
              "      <td>1</td>\n",
              "      <td>2</td>\n",
              "      <td>3</td>\n",
              "      <td>...</td>\n",
              "      <td>9</td>\n",
              "      <td>5</td>\n",
              "      <td>28</td>\n",
              "      <td>3</td>\n",
              "      <td>1</td>\n",
              "      <td>0</td>\n",
              "      <td>50.0</td>\n",
              "      <td>1.7526</td>\n",
              "      <td>0</td>\n",
              "      <td>Mild</td>\n",
              "    </tr>\n",
              "    <tr>\n",
              "      <th>9</th>\n",
              "      <td>0</td>\n",
              "      <td>2</td>\n",
              "      <td>0</td>\n",
              "      <td>3</td>\n",
              "      <td>3</td>\n",
              "      <td>0</td>\n",
              "      <td>1</td>\n",
              "      <td>1</td>\n",
              "      <td>1</td>\n",
              "      <td>2</td>\n",
              "      <td>...</td>\n",
              "      <td>9</td>\n",
              "      <td>0</td>\n",
              "      <td>20</td>\n",
              "      <td>0</td>\n",
              "      <td>1</td>\n",
              "      <td>0</td>\n",
              "      <td>45.0</td>\n",
              "      <td>1.6510</td>\n",
              "      <td>0</td>\n",
              "      <td>None-minimal</td>\n",
              "    </tr>\n",
              "    <tr>\n",
              "      <th>10</th>\n",
              "      <td>0</td>\n",
              "      <td>0</td>\n",
              "      <td>0</td>\n",
              "      <td>0</td>\n",
              "      <td>0</td>\n",
              "      <td>0</td>\n",
              "      <td>1</td>\n",
              "      <td>1</td>\n",
              "      <td>2</td>\n",
              "      <td>1</td>\n",
              "      <td>...</td>\n",
              "      <td>9</td>\n",
              "      <td>4</td>\n",
              "      <td>28</td>\n",
              "      <td>3</td>\n",
              "      <td>0</td>\n",
              "      <td>0</td>\n",
              "      <td>40.0</td>\n",
              "      <td>1.5494</td>\n",
              "      <td>0</td>\n",
              "      <td>None-minimal</td>\n",
              "    </tr>\n",
              "    <tr>\n",
              "      <th>11</th>\n",
              "      <td>3</td>\n",
              "      <td>2</td>\n",
              "      <td>1</td>\n",
              "      <td>2</td>\n",
              "      <td>3</td>\n",
              "      <td>3</td>\n",
              "      <td>1</td>\n",
              "      <td>2</td>\n",
              "      <td>0</td>\n",
              "      <td>2</td>\n",
              "      <td>...</td>\n",
              "      <td>9</td>\n",
              "      <td>5</td>\n",
              "      <td>28</td>\n",
              "      <td>3</td>\n",
              "      <td>0</td>\n",
              "      <td>0</td>\n",
              "      <td>40.0</td>\n",
              "      <td>1.5494</td>\n",
              "      <td>0</td>\n",
              "      <td>Mild</td>\n",
              "    </tr>\n",
              "    <tr>\n",
              "      <th>12</th>\n",
              "      <td>0</td>\n",
              "      <td>2</td>\n",
              "      <td>1</td>\n",
              "      <td>2</td>\n",
              "      <td>0</td>\n",
              "      <td>3</td>\n",
              "      <td>2</td>\n",
              "      <td>2</td>\n",
              "      <td>2</td>\n",
              "      <td>1</td>\n",
              "      <td>...</td>\n",
              "      <td>9</td>\n",
              "      <td>5</td>\n",
              "      <td>28</td>\n",
              "      <td>3</td>\n",
              "      <td>0</td>\n",
              "      <td>0</td>\n",
              "      <td>40.0</td>\n",
              "      <td>1.5494</td>\n",
              "      <td>0</td>\n",
              "      <td>Mild</td>\n",
              "    </tr>\n",
              "    <tr>\n",
              "      <th>13</th>\n",
              "      <td>0</td>\n",
              "      <td>3</td>\n",
              "      <td>0</td>\n",
              "      <td>2</td>\n",
              "      <td>0</td>\n",
              "      <td>0</td>\n",
              "      <td>4</td>\n",
              "      <td>2</td>\n",
              "      <td>1</td>\n",
              "      <td>2</td>\n",
              "      <td>...</td>\n",
              "      <td>9</td>\n",
              "      <td>5</td>\n",
              "      <td>28</td>\n",
              "      <td>3</td>\n",
              "      <td>1</td>\n",
              "      <td>0</td>\n",
              "      <td>40.0</td>\n",
              "      <td>1.5494</td>\n",
              "      <td>0</td>\n",
              "      <td>Mild</td>\n",
              "    </tr>\n",
              "    <tr>\n",
              "      <th>14</th>\n",
              "      <td>0</td>\n",
              "      <td>2</td>\n",
              "      <td>0</td>\n",
              "      <td>1</td>\n",
              "      <td>2</td>\n",
              "      <td>1</td>\n",
              "      <td>0</td>\n",
              "      <td>2</td>\n",
              "      <td>3</td>\n",
              "      <td>2</td>\n",
              "      <td>...</td>\n",
              "      <td>9</td>\n",
              "      <td>3</td>\n",
              "      <td>25</td>\n",
              "      <td>3</td>\n",
              "      <td>1</td>\n",
              "      <td>0</td>\n",
              "      <td>42.0</td>\n",
              "      <td>1.5748</td>\n",
              "      <td>0</td>\n",
              "      <td>Mild</td>\n",
              "    </tr>\n",
              "  </tbody>\n",
              "</table>\n",
              "<p>15 rows × 32 columns</p>\n",
              "</div>\n",
              "      <button class=\"colab-df-convert\" onclick=\"convertToInteractive('df-3d81dcdf-fadb-4ec6-9c35-8793cef22fd2')\"\n",
              "              title=\"Convert this dataframe to an interactive table.\"\n",
              "              style=\"display:none;\">\n",
              "        \n",
              "  <svg xmlns=\"http://www.w3.org/2000/svg\" height=\"24px\"viewBox=\"0 0 24 24\"\n",
              "       width=\"24px\">\n",
              "    <path d=\"M0 0h24v24H0V0z\" fill=\"none\"/>\n",
              "    <path d=\"M18.56 5.44l.94 2.06.94-2.06 2.06-.94-2.06-.94-.94-2.06-.94 2.06-2.06.94zm-11 1L8.5 8.5l.94-2.06 2.06-.94-2.06-.94L8.5 2.5l-.94 2.06-2.06.94zm10 10l.94 2.06.94-2.06 2.06-.94-2.06-.94-.94-2.06-.94 2.06-2.06.94z\"/><path d=\"M17.41 7.96l-1.37-1.37c-.4-.4-.92-.59-1.43-.59-.52 0-1.04.2-1.43.59L10.3 9.45l-7.72 7.72c-.78.78-.78 2.05 0 2.83L4 21.41c.39.39.9.59 1.41.59.51 0 1.02-.2 1.41-.59l7.78-7.78 2.81-2.81c.8-.78.8-2.07 0-2.86zM5.41 20L4 18.59l7.72-7.72 1.47 1.35L5.41 20z\"/>\n",
              "  </svg>\n",
              "      </button>\n",
              "      \n",
              "  <style>\n",
              "    .colab-df-container {\n",
              "      display:flex;\n",
              "      flex-wrap:wrap;\n",
              "      gap: 12px;\n",
              "    }\n",
              "\n",
              "    .colab-df-convert {\n",
              "      background-color: #E8F0FE;\n",
              "      border: none;\n",
              "      border-radius: 50%;\n",
              "      cursor: pointer;\n",
              "      display: none;\n",
              "      fill: #1967D2;\n",
              "      height: 32px;\n",
              "      padding: 0 0 0 0;\n",
              "      width: 32px;\n",
              "    }\n",
              "\n",
              "    .colab-df-convert:hover {\n",
              "      background-color: #E2EBFA;\n",
              "      box-shadow: 0px 1px 2px rgba(60, 64, 67, 0.3), 0px 1px 3px 1px rgba(60, 64, 67, 0.15);\n",
              "      fill: #174EA6;\n",
              "    }\n",
              "\n",
              "    [theme=dark] .colab-df-convert {\n",
              "      background-color: #3B4455;\n",
              "      fill: #D2E3FC;\n",
              "    }\n",
              "\n",
              "    [theme=dark] .colab-df-convert:hover {\n",
              "      background-color: #434B5C;\n",
              "      box-shadow: 0px 1px 3px 1px rgba(0, 0, 0, 0.15);\n",
              "      filter: drop-shadow(0px 1px 2px rgba(0, 0, 0, 0.3));\n",
              "      fill: #FFFFFF;\n",
              "    }\n",
              "  </style>\n",
              "\n",
              "      <script>\n",
              "        const buttonEl =\n",
              "          document.querySelector('#df-3d81dcdf-fadb-4ec6-9c35-8793cef22fd2 button.colab-df-convert');\n",
              "        buttonEl.style.display =\n",
              "          google.colab.kernel.accessAllowed ? 'block' : 'none';\n",
              "\n",
              "        async function convertToInteractive(key) {\n",
              "          const element = document.querySelector('#df-3d81dcdf-fadb-4ec6-9c35-8793cef22fd2');\n",
              "          const dataTable =\n",
              "            await google.colab.kernel.invokeFunction('convertToInteractive',\n",
              "                                                     [key], {});\n",
              "          if (!dataTable) return;\n",
              "\n",
              "          const docLinkHtml = 'Like what you see? Visit the ' +\n",
              "            '<a target=\"_blank\" href=https://colab.research.google.com/notebooks/data_table.ipynb>data table notebook</a>'\n",
              "            + ' to learn more about interactive tables.';\n",
              "          element.innerHTML = '';\n",
              "          dataTable['output_type'] = 'display_data';\n",
              "          await google.colab.output.renderOutput(dataTable, element);\n",
              "          const docLink = document.createElement('div');\n",
              "          docLink.innerHTML = docLinkHtml;\n",
              "          element.appendChild(docLink);\n",
              "        }\n",
              "      </script>\n",
              "    </div>\n",
              "  </div>\n",
              "  "
            ],
            "text/plain": [
              "    2. Which social media account do you use usually?  \\\n",
              "0                                                   0   \n",
              "1                                                   0   \n",
              "2                                                   0   \n",
              "3                                                   5   \n",
              "4                                                   5   \n",
              "5                                                   0   \n",
              "6                                                   0   \n",
              "7                                                   0   \n",
              "8                                                   0   \n",
              "9                                                   0   \n",
              "10                                                  0   \n",
              "11                                                  3   \n",
              "12                                                  0   \n",
              "13                                                  0   \n",
              "14                                                  0   \n",
              "\n",
              "    3. Which device do you usually use to connect social media?  \\\n",
              "0                                                   2             \n",
              "1                                                   2             \n",
              "2                                                   2             \n",
              "3                                                   2             \n",
              "4                                                   2             \n",
              "5                                                   3             \n",
              "6                                                   1             \n",
              "7                                                   2             \n",
              "8                                                   2             \n",
              "9                                                   2             \n",
              "10                                                  0             \n",
              "11                                                  2             \n",
              "12                                                  2             \n",
              "13                                                  3             \n",
              "14                                                  2             \n",
              "\n",
              "    4. Which type of internet connection do you use?  \\\n",
              "0                                                  0   \n",
              "1                                                  0   \n",
              "2                                                  0   \n",
              "3                                                  1   \n",
              "4                                                  0   \n",
              "5                                                  1   \n",
              "6                                                  0   \n",
              "7                                                  0   \n",
              "8                                                  0   \n",
              "9                                                  0   \n",
              "10                                                 0   \n",
              "11                                                 1   \n",
              "12                                                 1   \n",
              "13                                                 0   \n",
              "14                                                 0   \n",
              "\n",
              "    5. How long have you been using a social media account?  \\\n",
              "0                                                   1         \n",
              "1                                                   1         \n",
              "2                                                   1         \n",
              "3                                                   2         \n",
              "4                                                   2         \n",
              "5                                                   0         \n",
              "6                                                   0         \n",
              "7                                                   1         \n",
              "8                                                   0         \n",
              "9                                                   3         \n",
              "10                                                  0         \n",
              "11                                                  2         \n",
              "12                                                  2         \n",
              "13                                                  2         \n",
              "14                                                  1         \n",
              "\n",
              "    6. How frequently do you post (upload status or add photos/videos) on social media?   \\\n",
              "0                                                   2                                      \n",
              "1                                                   1                                      \n",
              "2                                                   2                                      \n",
              "3                                                   2                                      \n",
              "4                                                   3                                      \n",
              "5                                                   0                                      \n",
              "6                                                   0                                      \n",
              "7                                                   2                                      \n",
              "8                                                   2                                      \n",
              "9                                                   3                                      \n",
              "10                                                  0                                      \n",
              "11                                                  3                                      \n",
              "12                                                  0                                      \n",
              "13                                                  0                                      \n",
              "14                                                  2                                      \n",
              "\n",
              "    7. How much time do you spend daily in social media?  \\\n",
              "0                                                   0      \n",
              "1                                                   3      \n",
              "2                                                   1      \n",
              "3                                                   1      \n",
              "4                                                   3      \n",
              "5                                                   2      \n",
              "6                                                   0      \n",
              "7                                                   0      \n",
              "8                                                   1      \n",
              "9                                                   0      \n",
              "10                                                  0      \n",
              "11                                                  3      \n",
              "12                                                  3      \n",
              "13                                                  0      \n",
              "14                                                  1      \n",
              "\n",
              "    8. When do you usually use social media?  \\\n",
              "0                                          2   \n",
              "1                                          2   \n",
              "2                                          4   \n",
              "3                                          2   \n",
              "4                                          4   \n",
              "5                                          1   \n",
              "6                                          0   \n",
              "7                                          2   \n",
              "8                                          4   \n",
              "9                                          1   \n",
              "10                                         1   \n",
              "11                                         1   \n",
              "12                                         2   \n",
              "13                                         4   \n",
              "14                                         0   \n",
              "\n",
              "    9. How many friends do you have on social media?  \\\n",
              "0                                                  2   \n",
              "1                                                  1   \n",
              "2                                                  2   \n",
              "3                                                  1   \n",
              "4                                                  0   \n",
              "5                                                  1   \n",
              "6                                                  1   \n",
              "7                                                  1   \n",
              "8                                                  1   \n",
              "9                                                  1   \n",
              "10                                                 1   \n",
              "11                                                 2   \n",
              "12                                                 2   \n",
              "13                                                 2   \n",
              "14                                                 2   \n",
              "\n",
              "    10. How many friends do you know personally in social media?   \\\n",
              "0                                                   0               \n",
              "1                                                   0               \n",
              "2                                                   2               \n",
              "3                                                   1               \n",
              "4                                                   3               \n",
              "5                                                   1               \n",
              "6                                                   3               \n",
              "7                                                   3               \n",
              "8                                                   2               \n",
              "9                                                   1               \n",
              "10                                                  2               \n",
              "11                                                  0               \n",
              "12                                                  2               \n",
              "13                                                  1               \n",
              "14                                                  3               \n",
              "\n",
              "    11. How many groups you are tagged in social media?  ...  24. Religion  \\\n",
              "0                                                   2    ...             9   \n",
              "1                                                   3    ...             9   \n",
              "2                                                   0    ...             9   \n",
              "3                                                   2    ...             7   \n",
              "4                                                   0    ...             7   \n",
              "5                                                   1    ...             9   \n",
              "6                                                   1    ...             3   \n",
              "7                                                   3    ...             9   \n",
              "8                                                   3    ...             9   \n",
              "9                                                   2    ...             9   \n",
              "10                                                  1    ...             9   \n",
              "11                                                  2    ...             9   \n",
              "12                                                  1    ...             9   \n",
              "13                                                  2    ...             9   \n",
              "14                                                  2    ...             9   \n",
              "\n",
              "    25. Education  26. Profession  27. Monthly income  28. Area of residence  \\\n",
              "0               0              20                   2                      1   \n",
              "1               0              28                   3                      1   \n",
              "2               5              28                   3                      1   \n",
              "3               5              28                   3                      0   \n",
              "4               0              28                   3                      0   \n",
              "5               5              28                   3                      0   \n",
              "6               5              28                   3                      0   \n",
              "7               0              20                   0                      1   \n",
              "8               5              28                   3                      1   \n",
              "9               0              20                   0                      1   \n",
              "10              4              28                   3                      0   \n",
              "11              5              28                   3                      0   \n",
              "12              5              28                   3                      0   \n",
              "13              5              28                   3                      1   \n",
              "14              3              25                   3                      1   \n",
              "\n",
              "    29. Living with-  30. Body weight (Kg)  31. Height (m)  32. Smoking habit  \\\n",
              "0                  0                  34.0          1.4986                  0   \n",
              "1                  0                  38.0          1.5748                  0   \n",
              "2                  0                  39.0          1.5748                  0   \n",
              "3                  1                  40.0          1.5748                  0   \n",
              "4                  0                  40.0          1.5748                  1   \n",
              "5                  0                  40.0          1.5748                  0   \n",
              "6                  0                  44.0          1.6510                  1   \n",
              "7                  0                  59.0          1.9050                  0   \n",
              "8                  0                  50.0          1.7526                  0   \n",
              "9                  0                  45.0          1.6510                  0   \n",
              "10                 0                  40.0          1.5494                  0   \n",
              "11                 0                  40.0          1.5494                  0   \n",
              "12                 0                  40.0          1.5494                  0   \n",
              "13                 0                  40.0          1.5494                  0   \n",
              "14                 0                  42.0          1.5748                  0   \n",
              "\n",
              "    Depression severity  \n",
              "0                  Mild  \n",
              "1                  Mild  \n",
              "2                  Mild  \n",
              "3          None-minimal  \n",
              "4     Moderately severe  \n",
              "5                  Mild  \n",
              "6                  Mild  \n",
              "7          None-minimal  \n",
              "8                  Mild  \n",
              "9          None-minimal  \n",
              "10         None-minimal  \n",
              "11                 Mild  \n",
              "12                 Mild  \n",
              "13                 Mild  \n",
              "14                 Mild  \n",
              "\n",
              "[15 rows x 32 columns]"
            ]
          },
          "execution_count": 41,
          "metadata": {},
          "output_type": "execute_result"
        }
      ],
      "source": [
        "df.head(15)"
      ]
    },
    {
      "cell_type": "code",
      "execution_count": null,
      "metadata": {
        "colab": {
          "background_save": true
        },
        "id": "Du_QbNJPbXzl"
      },
      "outputs": [],
      "source": []
    },
    {
      "cell_type": "markdown",
      "metadata": {
        "id": "C8RNcpO8bZWO"
      },
      "source": [
        "Feature Selection Via **Chi Squire** Test"
      ]
    },
    {
      "cell_type": "code",
      "execution_count": null,
      "metadata": {
        "colab": {
          "background_save": true
        },
        "id": "Z4j3qSi1OyLk"
      },
      "outputs": [],
      "source": [
        "x = df.drop('Depression severity',axis=1)"
      ]
    },
    {
      "cell_type": "code",
      "execution_count": null,
      "metadata": {
        "colab": {
          "background_save": true
        },
        "id": "pZ8vNAMeQUrt",
        "outputId": "dc563aa0-8b13-4e71-c70d-f77236785282"
      },
      "outputs": [
        {
          "data": {
            "text/html": [
              "\n",
              "  <div id=\"df-995ef0bc-ce1c-4f33-ab80-da479a32dcc2\">\n",
              "    <div class=\"colab-df-container\">\n",
              "      <div>\n",
              "<style scoped>\n",
              "    .dataframe tbody tr th:only-of-type {\n",
              "        vertical-align: middle;\n",
              "    }\n",
              "\n",
              "    .dataframe tbody tr th {\n",
              "        vertical-align: top;\n",
              "    }\n",
              "\n",
              "    .dataframe thead th {\n",
              "        text-align: right;\n",
              "    }\n",
              "</style>\n",
              "<table border=\"1\" class=\"dataframe\">\n",
              "  <thead>\n",
              "    <tr style=\"text-align: right;\">\n",
              "      <th></th>\n",
              "      <th>2. Which social media account do you use usually?</th>\n",
              "      <th>3. Which device do you usually use to connect social media?</th>\n",
              "      <th>4. Which type of internet connection do you use?</th>\n",
              "      <th>5. How long have you been using a social media account?</th>\n",
              "      <th>6. How frequently do you post (upload status or add photos/videos) on social media?</th>\n",
              "      <th>7. How much time do you spend daily in social media?</th>\n",
              "      <th>8. When do you usually use social media?</th>\n",
              "      <th>9. How many friends do you have on social media?</th>\n",
              "      <th>10. How many friends do you know personally in social media?</th>\n",
              "      <th>11. How many groups you are tagged in social media?</th>\n",
              "      <th>...</th>\n",
              "      <th>23. Marital Status</th>\n",
              "      <th>24. Religion</th>\n",
              "      <th>25. Education</th>\n",
              "      <th>26. Profession</th>\n",
              "      <th>27. Monthly income</th>\n",
              "      <th>28. Area of residence</th>\n",
              "      <th>29. Living with-</th>\n",
              "      <th>30. Body weight (Kg)</th>\n",
              "      <th>31. Height (m)</th>\n",
              "      <th>32. Smoking habit</th>\n",
              "    </tr>\n",
              "  </thead>\n",
              "  <tbody>\n",
              "    <tr>\n",
              "      <th>0</th>\n",
              "      <td>0</td>\n",
              "      <td>2</td>\n",
              "      <td>0</td>\n",
              "      <td>1</td>\n",
              "      <td>2</td>\n",
              "      <td>0</td>\n",
              "      <td>2</td>\n",
              "      <td>2</td>\n",
              "      <td>0</td>\n",
              "      <td>2</td>\n",
              "      <td>...</td>\n",
              "      <td>1</td>\n",
              "      <td>9</td>\n",
              "      <td>0</td>\n",
              "      <td>20</td>\n",
              "      <td>2</td>\n",
              "      <td>1</td>\n",
              "      <td>0</td>\n",
              "      <td>34.0</td>\n",
              "      <td>1.4986</td>\n",
              "      <td>0</td>\n",
              "    </tr>\n",
              "    <tr>\n",
              "      <th>1</th>\n",
              "      <td>0</td>\n",
              "      <td>2</td>\n",
              "      <td>0</td>\n",
              "      <td>1</td>\n",
              "      <td>1</td>\n",
              "      <td>3</td>\n",
              "      <td>2</td>\n",
              "      <td>1</td>\n",
              "      <td>0</td>\n",
              "      <td>3</td>\n",
              "      <td>...</td>\n",
              "      <td>2</td>\n",
              "      <td>9</td>\n",
              "      <td>0</td>\n",
              "      <td>28</td>\n",
              "      <td>3</td>\n",
              "      <td>1</td>\n",
              "      <td>0</td>\n",
              "      <td>38.0</td>\n",
              "      <td>1.5748</td>\n",
              "      <td>0</td>\n",
              "    </tr>\n",
              "    <tr>\n",
              "      <th>2</th>\n",
              "      <td>0</td>\n",
              "      <td>2</td>\n",
              "      <td>0</td>\n",
              "      <td>1</td>\n",
              "      <td>2</td>\n",
              "      <td>1</td>\n",
              "      <td>4</td>\n",
              "      <td>2</td>\n",
              "      <td>2</td>\n",
              "      <td>0</td>\n",
              "      <td>...</td>\n",
              "      <td>2</td>\n",
              "      <td>9</td>\n",
              "      <td>5</td>\n",
              "      <td>28</td>\n",
              "      <td>3</td>\n",
              "      <td>1</td>\n",
              "      <td>0</td>\n",
              "      <td>39.0</td>\n",
              "      <td>1.5748</td>\n",
              "      <td>0</td>\n",
              "    </tr>\n",
              "    <tr>\n",
              "      <th>3</th>\n",
              "      <td>5</td>\n",
              "      <td>2</td>\n",
              "      <td>1</td>\n",
              "      <td>2</td>\n",
              "      <td>2</td>\n",
              "      <td>1</td>\n",
              "      <td>2</td>\n",
              "      <td>1</td>\n",
              "      <td>1</td>\n",
              "      <td>2</td>\n",
              "      <td>...</td>\n",
              "      <td>2</td>\n",
              "      <td>7</td>\n",
              "      <td>5</td>\n",
              "      <td>28</td>\n",
              "      <td>3</td>\n",
              "      <td>0</td>\n",
              "      <td>1</td>\n",
              "      <td>40.0</td>\n",
              "      <td>1.5748</td>\n",
              "      <td>0</td>\n",
              "    </tr>\n",
              "    <tr>\n",
              "      <th>4</th>\n",
              "      <td>5</td>\n",
              "      <td>2</td>\n",
              "      <td>0</td>\n",
              "      <td>2</td>\n",
              "      <td>3</td>\n",
              "      <td>3</td>\n",
              "      <td>4</td>\n",
              "      <td>0</td>\n",
              "      <td>3</td>\n",
              "      <td>0</td>\n",
              "      <td>...</td>\n",
              "      <td>2</td>\n",
              "      <td>7</td>\n",
              "      <td>0</td>\n",
              "      <td>28</td>\n",
              "      <td>3</td>\n",
              "      <td>0</td>\n",
              "      <td>0</td>\n",
              "      <td>40.0</td>\n",
              "      <td>1.5748</td>\n",
              "      <td>1</td>\n",
              "    </tr>\n",
              "    <tr>\n",
              "      <th>...</th>\n",
              "      <td>...</td>\n",
              "      <td>...</td>\n",
              "      <td>...</td>\n",
              "      <td>...</td>\n",
              "      <td>...</td>\n",
              "      <td>...</td>\n",
              "      <td>...</td>\n",
              "      <td>...</td>\n",
              "      <td>...</td>\n",
              "      <td>...</td>\n",
              "      <td>...</td>\n",
              "      <td>...</td>\n",
              "      <td>...</td>\n",
              "      <td>...</td>\n",
              "      <td>...</td>\n",
              "      <td>...</td>\n",
              "      <td>...</td>\n",
              "      <td>...</td>\n",
              "      <td>...</td>\n",
              "      <td>...</td>\n",
              "      <td>...</td>\n",
              "    </tr>\n",
              "    <tr>\n",
              "      <th>786</th>\n",
              "      <td>0</td>\n",
              "      <td>2</td>\n",
              "      <td>0</td>\n",
              "      <td>3</td>\n",
              "      <td>2</td>\n",
              "      <td>0</td>\n",
              "      <td>4</td>\n",
              "      <td>2</td>\n",
              "      <td>0</td>\n",
              "      <td>1</td>\n",
              "      <td>...</td>\n",
              "      <td>2</td>\n",
              "      <td>9</td>\n",
              "      <td>3</td>\n",
              "      <td>20</td>\n",
              "      <td>0</td>\n",
              "      <td>1</td>\n",
              "      <td>0</td>\n",
              "      <td>85.0</td>\n",
              "      <td>1.4690</td>\n",
              "      <td>0</td>\n",
              "    </tr>\n",
              "    <tr>\n",
              "      <th>787</th>\n",
              "      <td>0</td>\n",
              "      <td>2</td>\n",
              "      <td>0</td>\n",
              "      <td>1</td>\n",
              "      <td>2</td>\n",
              "      <td>2</td>\n",
              "      <td>2</td>\n",
              "      <td>2</td>\n",
              "      <td>2</td>\n",
              "      <td>2</td>\n",
              "      <td>...</td>\n",
              "      <td>2</td>\n",
              "      <td>9</td>\n",
              "      <td>3</td>\n",
              "      <td>28</td>\n",
              "      <td>3</td>\n",
              "      <td>1</td>\n",
              "      <td>0</td>\n",
              "      <td>98.0</td>\n",
              "      <td>1.5748</td>\n",
              "      <td>0</td>\n",
              "    </tr>\n",
              "    <tr>\n",
              "      <th>788</th>\n",
              "      <td>0</td>\n",
              "      <td>2</td>\n",
              "      <td>0</td>\n",
              "      <td>1</td>\n",
              "      <td>3</td>\n",
              "      <td>1</td>\n",
              "      <td>2</td>\n",
              "      <td>1</td>\n",
              "      <td>0</td>\n",
              "      <td>0</td>\n",
              "      <td>...</td>\n",
              "      <td>2</td>\n",
              "      <td>9</td>\n",
              "      <td>0</td>\n",
              "      <td>28</td>\n",
              "      <td>3</td>\n",
              "      <td>1</td>\n",
              "      <td>0</td>\n",
              "      <td>100.0</td>\n",
              "      <td>1.5494</td>\n",
              "      <td>0</td>\n",
              "    </tr>\n",
              "    <tr>\n",
              "      <th>789</th>\n",
              "      <td>0</td>\n",
              "      <td>2</td>\n",
              "      <td>0</td>\n",
              "      <td>0</td>\n",
              "      <td>2</td>\n",
              "      <td>0</td>\n",
              "      <td>1</td>\n",
              "      <td>2</td>\n",
              "      <td>3</td>\n",
              "      <td>2</td>\n",
              "      <td>...</td>\n",
              "      <td>2</td>\n",
              "      <td>9</td>\n",
              "      <td>0</td>\n",
              "      <td>28</td>\n",
              "      <td>3</td>\n",
              "      <td>1</td>\n",
              "      <td>0</td>\n",
              "      <td>65.0</td>\n",
              "      <td>1.2446</td>\n",
              "      <td>0</td>\n",
              "    </tr>\n",
              "    <tr>\n",
              "      <th>790</th>\n",
              "      <td>4</td>\n",
              "      <td>2</td>\n",
              "      <td>0</td>\n",
              "      <td>3</td>\n",
              "      <td>2</td>\n",
              "      <td>0</td>\n",
              "      <td>1</td>\n",
              "      <td>2</td>\n",
              "      <td>3</td>\n",
              "      <td>1</td>\n",
              "      <td>...</td>\n",
              "      <td>2</td>\n",
              "      <td>1</td>\n",
              "      <td>0</td>\n",
              "      <td>20</td>\n",
              "      <td>1</td>\n",
              "      <td>1</td>\n",
              "      <td>1</td>\n",
              "      <td>110.0</td>\n",
              "      <td>1.5494</td>\n",
              "      <td>0</td>\n",
              "    </tr>\n",
              "  </tbody>\n",
              "</table>\n",
              "<p>791 rows × 31 columns</p>\n",
              "</div>\n",
              "      <button class=\"colab-df-convert\" onclick=\"convertToInteractive('df-995ef0bc-ce1c-4f33-ab80-da479a32dcc2')\"\n",
              "              title=\"Convert this dataframe to an interactive table.\"\n",
              "              style=\"display:none;\">\n",
              "        \n",
              "  <svg xmlns=\"http://www.w3.org/2000/svg\" height=\"24px\"viewBox=\"0 0 24 24\"\n",
              "       width=\"24px\">\n",
              "    <path d=\"M0 0h24v24H0V0z\" fill=\"none\"/>\n",
              "    <path d=\"M18.56 5.44l.94 2.06.94-2.06 2.06-.94-2.06-.94-.94-2.06-.94 2.06-2.06.94zm-11 1L8.5 8.5l.94-2.06 2.06-.94-2.06-.94L8.5 2.5l-.94 2.06-2.06.94zm10 10l.94 2.06.94-2.06 2.06-.94-2.06-.94-.94-2.06-.94 2.06-2.06.94z\"/><path d=\"M17.41 7.96l-1.37-1.37c-.4-.4-.92-.59-1.43-.59-.52 0-1.04.2-1.43.59L10.3 9.45l-7.72 7.72c-.78.78-.78 2.05 0 2.83L4 21.41c.39.39.9.59 1.41.59.51 0 1.02-.2 1.41-.59l7.78-7.78 2.81-2.81c.8-.78.8-2.07 0-2.86zM5.41 20L4 18.59l7.72-7.72 1.47 1.35L5.41 20z\"/>\n",
              "  </svg>\n",
              "      </button>\n",
              "      \n",
              "  <style>\n",
              "    .colab-df-container {\n",
              "      display:flex;\n",
              "      flex-wrap:wrap;\n",
              "      gap: 12px;\n",
              "    }\n",
              "\n",
              "    .colab-df-convert {\n",
              "      background-color: #E8F0FE;\n",
              "      border: none;\n",
              "      border-radius: 50%;\n",
              "      cursor: pointer;\n",
              "      display: none;\n",
              "      fill: #1967D2;\n",
              "      height: 32px;\n",
              "      padding: 0 0 0 0;\n",
              "      width: 32px;\n",
              "    }\n",
              "\n",
              "    .colab-df-convert:hover {\n",
              "      background-color: #E2EBFA;\n",
              "      box-shadow: 0px 1px 2px rgba(60, 64, 67, 0.3), 0px 1px 3px 1px rgba(60, 64, 67, 0.15);\n",
              "      fill: #174EA6;\n",
              "    }\n",
              "\n",
              "    [theme=dark] .colab-df-convert {\n",
              "      background-color: #3B4455;\n",
              "      fill: #D2E3FC;\n",
              "    }\n",
              "\n",
              "    [theme=dark] .colab-df-convert:hover {\n",
              "      background-color: #434B5C;\n",
              "      box-shadow: 0px 1px 3px 1px rgba(0, 0, 0, 0.15);\n",
              "      filter: drop-shadow(0px 1px 2px rgba(0, 0, 0, 0.3));\n",
              "      fill: #FFFFFF;\n",
              "    }\n",
              "  </style>\n",
              "\n",
              "      <script>\n",
              "        const buttonEl =\n",
              "          document.querySelector('#df-995ef0bc-ce1c-4f33-ab80-da479a32dcc2 button.colab-df-convert');\n",
              "        buttonEl.style.display =\n",
              "          google.colab.kernel.accessAllowed ? 'block' : 'none';\n",
              "\n",
              "        async function convertToInteractive(key) {\n",
              "          const element = document.querySelector('#df-995ef0bc-ce1c-4f33-ab80-da479a32dcc2');\n",
              "          const dataTable =\n",
              "            await google.colab.kernel.invokeFunction('convertToInteractive',\n",
              "                                                     [key], {});\n",
              "          if (!dataTable) return;\n",
              "\n",
              "          const docLinkHtml = 'Like what you see? Visit the ' +\n",
              "            '<a target=\"_blank\" href=https://colab.research.google.com/notebooks/data_table.ipynb>data table notebook</a>'\n",
              "            + ' to learn more about interactive tables.';\n",
              "          element.innerHTML = '';\n",
              "          dataTable['output_type'] = 'display_data';\n",
              "          await google.colab.output.renderOutput(dataTable, element);\n",
              "          const docLink = document.createElement('div');\n",
              "          docLink.innerHTML = docLinkHtml;\n",
              "          element.appendChild(docLink);\n",
              "        }\n",
              "      </script>\n",
              "    </div>\n",
              "  </div>\n",
              "  "
            ],
            "text/plain": [
              "     2. Which social media account do you use usually?  \\\n",
              "0                                                    0   \n",
              "1                                                    0   \n",
              "2                                                    0   \n",
              "3                                                    5   \n",
              "4                                                    5   \n",
              "..                                                 ...   \n",
              "786                                                  0   \n",
              "787                                                  0   \n",
              "788                                                  0   \n",
              "789                                                  0   \n",
              "790                                                  4   \n",
              "\n",
              "     3. Which device do you usually use to connect social media?  \\\n",
              "0                                                    2             \n",
              "1                                                    2             \n",
              "2                                                    2             \n",
              "3                                                    2             \n",
              "4                                                    2             \n",
              "..                                                 ...             \n",
              "786                                                  2             \n",
              "787                                                  2             \n",
              "788                                                  2             \n",
              "789                                                  2             \n",
              "790                                                  2             \n",
              "\n",
              "     4. Which type of internet connection do you use?  \\\n",
              "0                                                   0   \n",
              "1                                                   0   \n",
              "2                                                   0   \n",
              "3                                                   1   \n",
              "4                                                   0   \n",
              "..                                                ...   \n",
              "786                                                 0   \n",
              "787                                                 0   \n",
              "788                                                 0   \n",
              "789                                                 0   \n",
              "790                                                 0   \n",
              "\n",
              "     5. How long have you been using a social media account?  \\\n",
              "0                                                    1         \n",
              "1                                                    1         \n",
              "2                                                    1         \n",
              "3                                                    2         \n",
              "4                                                    2         \n",
              "..                                                 ...         \n",
              "786                                                  3         \n",
              "787                                                  1         \n",
              "788                                                  1         \n",
              "789                                                  0         \n",
              "790                                                  3         \n",
              "\n",
              "     6. How frequently do you post (upload status or add photos/videos) on social media?   \\\n",
              "0                                                    2                                      \n",
              "1                                                    1                                      \n",
              "2                                                    2                                      \n",
              "3                                                    2                                      \n",
              "4                                                    3                                      \n",
              "..                                                 ...                                      \n",
              "786                                                  2                                      \n",
              "787                                                  2                                      \n",
              "788                                                  3                                      \n",
              "789                                                  2                                      \n",
              "790                                                  2                                      \n",
              "\n",
              "     7. How much time do you spend daily in social media?  \\\n",
              "0                                                    0      \n",
              "1                                                    3      \n",
              "2                                                    1      \n",
              "3                                                    1      \n",
              "4                                                    3      \n",
              "..                                                 ...      \n",
              "786                                                  0      \n",
              "787                                                  2      \n",
              "788                                                  1      \n",
              "789                                                  0      \n",
              "790                                                  0      \n",
              "\n",
              "     8. When do you usually use social media?  \\\n",
              "0                                           2   \n",
              "1                                           2   \n",
              "2                                           4   \n",
              "3                                           2   \n",
              "4                                           4   \n",
              "..                                        ...   \n",
              "786                                         4   \n",
              "787                                         2   \n",
              "788                                         2   \n",
              "789                                         1   \n",
              "790                                         1   \n",
              "\n",
              "     9. How many friends do you have on social media?  \\\n",
              "0                                                   2   \n",
              "1                                                   1   \n",
              "2                                                   2   \n",
              "3                                                   1   \n",
              "4                                                   0   \n",
              "..                                                ...   \n",
              "786                                                 2   \n",
              "787                                                 2   \n",
              "788                                                 1   \n",
              "789                                                 2   \n",
              "790                                                 2   \n",
              "\n",
              "     10. How many friends do you know personally in social media?   \\\n",
              "0                                                    0               \n",
              "1                                                    0               \n",
              "2                                                    2               \n",
              "3                                                    1               \n",
              "4                                                    3               \n",
              "..                                                 ...               \n",
              "786                                                  0               \n",
              "787                                                  2               \n",
              "788                                                  0               \n",
              "789                                                  3               \n",
              "790                                                  3               \n",
              "\n",
              "     11. How many groups you are tagged in social media?  ...  \\\n",
              "0                                                    2    ...   \n",
              "1                                                    3    ...   \n",
              "2                                                    0    ...   \n",
              "3                                                    2    ...   \n",
              "4                                                    0    ...   \n",
              "..                                                 ...    ...   \n",
              "786                                                  1    ...   \n",
              "787                                                  2    ...   \n",
              "788                                                  0    ...   \n",
              "789                                                  2    ...   \n",
              "790                                                  1    ...   \n",
              "\n",
              "     23. Marital Status  24. Religion  25. Education  26. Profession  \\\n",
              "0                     1             9              0              20   \n",
              "1                     2             9              0              28   \n",
              "2                     2             9              5              28   \n",
              "3                     2             7              5              28   \n",
              "4                     2             7              0              28   \n",
              "..                  ...           ...            ...             ...   \n",
              "786                   2             9              3              20   \n",
              "787                   2             9              3              28   \n",
              "788                   2             9              0              28   \n",
              "789                   2             9              0              28   \n",
              "790                   2             1              0              20   \n",
              "\n",
              "     27. Monthly income  28. Area of residence  29. Living with-  \\\n",
              "0                     2                      1                 0   \n",
              "1                     3                      1                 0   \n",
              "2                     3                      1                 0   \n",
              "3                     3                      0                 1   \n",
              "4                     3                      0                 0   \n",
              "..                  ...                    ...               ...   \n",
              "786                   0                      1                 0   \n",
              "787                   3                      1                 0   \n",
              "788                   3                      1                 0   \n",
              "789                   3                      1                 0   \n",
              "790                   1                      1                 1   \n",
              "\n",
              "     30. Body weight (Kg)  31. Height (m)  32. Smoking habit  \n",
              "0                    34.0          1.4986                  0  \n",
              "1                    38.0          1.5748                  0  \n",
              "2                    39.0          1.5748                  0  \n",
              "3                    40.0          1.5748                  0  \n",
              "4                    40.0          1.5748                  1  \n",
              "..                    ...             ...                ...  \n",
              "786                  85.0          1.4690                  0  \n",
              "787                  98.0          1.5748                  0  \n",
              "788                 100.0          1.5494                  0  \n",
              "789                  65.0          1.2446                  0  \n",
              "790                 110.0          1.5494                  0  \n",
              "\n",
              "[791 rows x 31 columns]"
            ]
          },
          "execution_count": 43,
          "metadata": {},
          "output_type": "execute_result"
        }
      ],
      "source": [
        "x"
      ]
    },
    {
      "cell_type": "code",
      "execution_count": null,
      "metadata": {
        "colab": {
          "background_save": true
        },
        "id": "BlYpq-SwVBzF"
      },
      "outputs": [],
      "source": [
        "y = df['Depression severity']"
      ]
    },
    {
      "cell_type": "code",
      "execution_count": null,
      "metadata": {
        "colab": {
          "background_save": true
        },
        "id": "OUDuGNYdVJbI",
        "outputId": "6599deb7-10aa-4f98-bd00-d6db1092f31f"
      },
      "outputs": [
        {
          "data": {
            "text/plain": [
              "0                   Mild\n",
              "1                   Mild\n",
              "2                   Mild\n",
              "3           None-minimal\n",
              "4      Moderately severe\n",
              "             ...        \n",
              "786         None-minimal\n",
              "787    Moderately severe\n",
              "788             Moderate\n",
              "789         None-minimal\n",
              "790         None-minimal\n",
              "Name: Depression severity, Length: 791, dtype: object"
            ]
          },
          "execution_count": 45,
          "metadata": {},
          "output_type": "execute_result"
        }
      ],
      "source": [
        "y"
      ]
    },
    {
      "cell_type": "code",
      "execution_count": null,
      "metadata": {
        "colab": {
          "background_save": true
        },
        "id": "mWcKieaLVPTL"
      },
      "outputs": [],
      "source": [
        "from sklearn.feature_selection import SelectKBest\n",
        "from sklearn.feature_selection import chi2"
      ]
    },
    {
      "cell_type": "code",
      "execution_count": null,
      "metadata": {
        "colab": {
          "background_save": true
        },
        "id": "1jPXAN7LVj3m"
      },
      "outputs": [],
      "source": [
        "FIT_FEATURES = SelectKBest(score_func=chi2)"
      ]
    },
    {
      "cell_type": "code",
      "execution_count": null,
      "metadata": {
        "colab": {
          "background_save": true
        },
        "id": "byKNjOH5Vxzt",
        "outputId": "bc8f50c0-16bb-4349-feed-62efeb8723a8"
      },
      "outputs": [
        {
          "data": {
            "text/plain": [
              "SelectKBest(score_func=<function chi2 at 0x7f2f9e3e3940>)"
            ]
          },
          "execution_count": 48,
          "metadata": {},
          "output_type": "execute_result"
        }
      ],
      "source": [
        "FIT_FEATURES.fit(x,y)"
      ]
    },
    {
      "cell_type": "code",
      "execution_count": null,
      "metadata": {
        "colab": {
          "background_save": true
        },
        "id": "PtV53k8CV5tJ"
      },
      "outputs": [],
      "source": [
        "SCORE_COL = pd.DataFrame(FIT_FEATURES.scores_,columns = ['score value'])"
      ]
    },
    {
      "cell_type": "code",
      "execution_count": null,
      "metadata": {
        "colab": {
          "background_save": true
        },
        "id": "Yk9hUcbOWSYL"
      },
      "outputs": [],
      "source": [
        "NAME_COL = pd.DataFrame(x.columns)"
      ]
    },
    {
      "cell_type": "code",
      "execution_count": null,
      "metadata": {
        "colab": {
          "background_save": true
        },
        "id": "xM6dfiVZWd4M"
      },
      "outputs": [],
      "source": [
        "topr_features = pd.concat([NAME_COL,SCORE_COL],axis=1)\n",
        "topr_features.columns = ['Top Features','Score']"
      ]
    },
    {
      "cell_type": "code",
      "execution_count": null,
      "metadata": {
        "colab": {
          "background_save": true
        },
        "id": "6RjRm60VW5rH",
        "outputId": "72daab56-9473-4928-ee0a-ea740cb3c4a5"
      },
      "outputs": [
        {
          "data": {
            "text/html": [
              "\n",
              "  <div id=\"df-bc2b8ffa-03d6-4e65-9a08-95fe2b88d45b\">\n",
              "    <div class=\"colab-df-container\">\n",
              "      <div>\n",
              "<style scoped>\n",
              "    .dataframe tbody tr th:only-of-type {\n",
              "        vertical-align: middle;\n",
              "    }\n",
              "\n",
              "    .dataframe tbody tr th {\n",
              "        vertical-align: top;\n",
              "    }\n",
              "\n",
              "    .dataframe thead th {\n",
              "        text-align: right;\n",
              "    }\n",
              "</style>\n",
              "<table border=\"1\" class=\"dataframe\">\n",
              "  <thead>\n",
              "    <tr style=\"text-align: right;\">\n",
              "      <th></th>\n",
              "      <th>Top Features</th>\n",
              "      <th>Score</th>\n",
              "    </tr>\n",
              "  </thead>\n",
              "  <tbody>\n",
              "    <tr>\n",
              "      <th>0</th>\n",
              "      <td>2. Which social media account do you use usually?</td>\n",
              "      <td>4.835581e+00</td>\n",
              "    </tr>\n",
              "    <tr>\n",
              "      <th>1</th>\n",
              "      <td>3. Which device do you usually use to connect ...</td>\n",
              "      <td>1.332138e-01</td>\n",
              "    </tr>\n",
              "    <tr>\n",
              "      <th>2</th>\n",
              "      <td>4. Which type of internet connection do you use?</td>\n",
              "      <td>1.334285e+01</td>\n",
              "    </tr>\n",
              "    <tr>\n",
              "      <th>3</th>\n",
              "      <td>5. How long have you been using a social media...</td>\n",
              "      <td>3.280683e+00</td>\n",
              "    </tr>\n",
              "    <tr>\n",
              "      <th>4</th>\n",
              "      <td>6. How frequently do you post (upload status o...</td>\n",
              "      <td>7.003661e+00</td>\n",
              "    </tr>\n",
              "    <tr>\n",
              "      <th>5</th>\n",
              "      <td>7. How much time do you spend daily in social ...</td>\n",
              "      <td>3.046808e+01</td>\n",
              "    </tr>\n",
              "    <tr>\n",
              "      <th>6</th>\n",
              "      <td>8. When do you usually use social media?</td>\n",
              "      <td>9.583564e+00</td>\n",
              "    </tr>\n",
              "    <tr>\n",
              "      <th>7</th>\n",
              "      <td>9. How many friends do you have on social media?</td>\n",
              "      <td>6.483450e-01</td>\n",
              "    </tr>\n",
              "    <tr>\n",
              "      <th>8</th>\n",
              "      <td>10. How many friends do you know personally in...</td>\n",
              "      <td>5.963292e+00</td>\n",
              "    </tr>\n",
              "    <tr>\n",
              "      <th>9</th>\n",
              "      <td>11. How many groups you are tagged in social m...</td>\n",
              "      <td>2.535409e+00</td>\n",
              "    </tr>\n",
              "    <tr>\n",
              "      <th>10</th>\n",
              "      <td>12. What is your main purpose for using social...</td>\n",
              "      <td>1.145810e+01</td>\n",
              "    </tr>\n",
              "    <tr>\n",
              "      <th>11</th>\n",
              "      <td>13. What contents do you mainly look for in yo...</td>\n",
              "      <td>3.323212e+01</td>\n",
              "    </tr>\n",
              "    <tr>\n",
              "      <th>12</th>\n",
              "      <td>14.Do you believe social media is a good thing?</td>\n",
              "      <td>3.043918e+00</td>\n",
              "    </tr>\n",
              "    <tr>\n",
              "      <th>13</th>\n",
              "      <td>15. When you see something in social media, do...</td>\n",
              "      <td>1.248926e+01</td>\n",
              "    </tr>\n",
              "    <tr>\n",
              "      <th>14</th>\n",
              "      <td>16. Have you ever experienced peer pressure du...</td>\n",
              "      <td>6.282800e+00</td>\n",
              "    </tr>\n",
              "    <tr>\n",
              "      <th>15</th>\n",
              "      <td>17. Does your emotion get influenced by others...</td>\n",
              "      <td>1.909063e+00</td>\n",
              "    </tr>\n",
              "    <tr>\n",
              "      <th>16</th>\n",
              "      <td>18. Have you ever compared yourself with other...</td>\n",
              "      <td>7.424333e+00</td>\n",
              "    </tr>\n",
              "    <tr>\n",
              "      <th>17</th>\n",
              "      <td>19. Do you think, your mental wellbeing would ...</td>\n",
              "      <td>6.099108e+00</td>\n",
              "    </tr>\n",
              "    <tr>\n",
              "      <th>18</th>\n",
              "      <td>20. If answer is yes, are you trying to contro...</td>\n",
              "      <td>6.612707e-01</td>\n",
              "    </tr>\n",
              "    <tr>\n",
              "      <th>19</th>\n",
              "      <td>21. Please write your age in years (number).</td>\n",
              "      <td>1.047906e+13</td>\n",
              "    </tr>\n",
              "    <tr>\n",
              "      <th>20</th>\n",
              "      <td>22. Gender</td>\n",
              "      <td>1.103699e+01</td>\n",
              "    </tr>\n",
              "    <tr>\n",
              "      <th>21</th>\n",
              "      <td>23. Marital Status</td>\n",
              "      <td>4.563602e-02</td>\n",
              "    </tr>\n",
              "    <tr>\n",
              "      <th>22</th>\n",
              "      <td>24. Religion</td>\n",
              "      <td>1.299568e-01</td>\n",
              "    </tr>\n",
              "    <tr>\n",
              "      <th>23</th>\n",
              "      <td>25. Education</td>\n",
              "      <td>2.400879e+01</td>\n",
              "    </tr>\n",
              "    <tr>\n",
              "      <th>24</th>\n",
              "      <td>26. Profession</td>\n",
              "      <td>5.952090e+00</td>\n",
              "    </tr>\n",
              "    <tr>\n",
              "      <th>25</th>\n",
              "      <td>27. Monthly income</td>\n",
              "      <td>3.958317e+00</td>\n",
              "    </tr>\n",
              "    <tr>\n",
              "      <th>26</th>\n",
              "      <td>28. Area of residence</td>\n",
              "      <td>1.170122e+01</td>\n",
              "    </tr>\n",
              "    <tr>\n",
              "      <th>27</th>\n",
              "      <td>29. Living with-</td>\n",
              "      <td>5.782924e+00</td>\n",
              "    </tr>\n",
              "    <tr>\n",
              "      <th>28</th>\n",
              "      <td>30. Body weight (Kg)</td>\n",
              "      <td>3.531593e+01</td>\n",
              "    </tr>\n",
              "    <tr>\n",
              "      <th>29</th>\n",
              "      <td>31. Height (m)</td>\n",
              "      <td>4.382045e-02</td>\n",
              "    </tr>\n",
              "    <tr>\n",
              "      <th>30</th>\n",
              "      <td>32. Smoking habit</td>\n",
              "      <td>4.050070e+00</td>\n",
              "    </tr>\n",
              "  </tbody>\n",
              "</table>\n",
              "</div>\n",
              "      <button class=\"colab-df-convert\" onclick=\"convertToInteractive('df-bc2b8ffa-03d6-4e65-9a08-95fe2b88d45b')\"\n",
              "              title=\"Convert this dataframe to an interactive table.\"\n",
              "              style=\"display:none;\">\n",
              "        \n",
              "  <svg xmlns=\"http://www.w3.org/2000/svg\" height=\"24px\"viewBox=\"0 0 24 24\"\n",
              "       width=\"24px\">\n",
              "    <path d=\"M0 0h24v24H0V0z\" fill=\"none\"/>\n",
              "    <path d=\"M18.56 5.44l.94 2.06.94-2.06 2.06-.94-2.06-.94-.94-2.06-.94 2.06-2.06.94zm-11 1L8.5 8.5l.94-2.06 2.06-.94-2.06-.94L8.5 2.5l-.94 2.06-2.06.94zm10 10l.94 2.06.94-2.06 2.06-.94-2.06-.94-.94-2.06-.94 2.06-2.06.94z\"/><path d=\"M17.41 7.96l-1.37-1.37c-.4-.4-.92-.59-1.43-.59-.52 0-1.04.2-1.43.59L10.3 9.45l-7.72 7.72c-.78.78-.78 2.05 0 2.83L4 21.41c.39.39.9.59 1.41.59.51 0 1.02-.2 1.41-.59l7.78-7.78 2.81-2.81c.8-.78.8-2.07 0-2.86zM5.41 20L4 18.59l7.72-7.72 1.47 1.35L5.41 20z\"/>\n",
              "  </svg>\n",
              "      </button>\n",
              "      \n",
              "  <style>\n",
              "    .colab-df-container {\n",
              "      display:flex;\n",
              "      flex-wrap:wrap;\n",
              "      gap: 12px;\n",
              "    }\n",
              "\n",
              "    .colab-df-convert {\n",
              "      background-color: #E8F0FE;\n",
              "      border: none;\n",
              "      border-radius: 50%;\n",
              "      cursor: pointer;\n",
              "      display: none;\n",
              "      fill: #1967D2;\n",
              "      height: 32px;\n",
              "      padding: 0 0 0 0;\n",
              "      width: 32px;\n",
              "    }\n",
              "\n",
              "    .colab-df-convert:hover {\n",
              "      background-color: #E2EBFA;\n",
              "      box-shadow: 0px 1px 2px rgba(60, 64, 67, 0.3), 0px 1px 3px 1px rgba(60, 64, 67, 0.15);\n",
              "      fill: #174EA6;\n",
              "    }\n",
              "\n",
              "    [theme=dark] .colab-df-convert {\n",
              "      background-color: #3B4455;\n",
              "      fill: #D2E3FC;\n",
              "    }\n",
              "\n",
              "    [theme=dark] .colab-df-convert:hover {\n",
              "      background-color: #434B5C;\n",
              "      box-shadow: 0px 1px 3px 1px rgba(0, 0, 0, 0.15);\n",
              "      filter: drop-shadow(0px 1px 2px rgba(0, 0, 0, 0.3));\n",
              "      fill: #FFFFFF;\n",
              "    }\n",
              "  </style>\n",
              "\n",
              "      <script>\n",
              "        const buttonEl =\n",
              "          document.querySelector('#df-bc2b8ffa-03d6-4e65-9a08-95fe2b88d45b button.colab-df-convert');\n",
              "        buttonEl.style.display =\n",
              "          google.colab.kernel.accessAllowed ? 'block' : 'none';\n",
              "\n",
              "        async function convertToInteractive(key) {\n",
              "          const element = document.querySelector('#df-bc2b8ffa-03d6-4e65-9a08-95fe2b88d45b');\n",
              "          const dataTable =\n",
              "            await google.colab.kernel.invokeFunction('convertToInteractive',\n",
              "                                                     [key], {});\n",
              "          if (!dataTable) return;\n",
              "\n",
              "          const docLinkHtml = 'Like what you see? Visit the ' +\n",
              "            '<a target=\"_blank\" href=https://colab.research.google.com/notebooks/data_table.ipynb>data table notebook</a>'\n",
              "            + ' to learn more about interactive tables.';\n",
              "          element.innerHTML = '';\n",
              "          dataTable['output_type'] = 'display_data';\n",
              "          await google.colab.output.renderOutput(dataTable, element);\n",
              "          const docLink = document.createElement('div');\n",
              "          docLink.innerHTML = docLinkHtml;\n",
              "          element.appendChild(docLink);\n",
              "        }\n",
              "      </script>\n",
              "    </div>\n",
              "  </div>\n",
              "  "
            ],
            "text/plain": [
              "                                         Top Features         Score\n",
              "0   2. Which social media account do you use usually?  4.835581e+00\n",
              "1   3. Which device do you usually use to connect ...  1.332138e-01\n",
              "2    4. Which type of internet connection do you use?  1.334285e+01\n",
              "3   5. How long have you been using a social media...  3.280683e+00\n",
              "4   6. How frequently do you post (upload status o...  7.003661e+00\n",
              "5   7. How much time do you spend daily in social ...  3.046808e+01\n",
              "6            8. When do you usually use social media?  9.583564e+00\n",
              "7    9. How many friends do you have on social media?  6.483450e-01\n",
              "8   10. How many friends do you know personally in...  5.963292e+00\n",
              "9   11. How many groups you are tagged in social m...  2.535409e+00\n",
              "10  12. What is your main purpose for using social...  1.145810e+01\n",
              "11  13. What contents do you mainly look for in yo...  3.323212e+01\n",
              "12    14.Do you believe social media is a good thing?  3.043918e+00\n",
              "13  15. When you see something in social media, do...  1.248926e+01\n",
              "14  16. Have you ever experienced peer pressure du...  6.282800e+00\n",
              "15  17. Does your emotion get influenced by others...  1.909063e+00\n",
              "16  18. Have you ever compared yourself with other...  7.424333e+00\n",
              "17  19. Do you think, your mental wellbeing would ...  6.099108e+00\n",
              "18  20. If answer is yes, are you trying to contro...  6.612707e-01\n",
              "19       21. Please write your age in years (number).  1.047906e+13\n",
              "20                                         22. Gender  1.103699e+01\n",
              "21                                 23. Marital Status  4.563602e-02\n",
              "22                                       24. Religion  1.299568e-01\n",
              "23                                      25. Education  2.400879e+01\n",
              "24                                     26. Profession  5.952090e+00\n",
              "25                                 27. Monthly income  3.958317e+00\n",
              "26                              28. Area of residence  1.170122e+01\n",
              "27                                   29. Living with-  5.782924e+00\n",
              "28                               30. Body weight (Kg)  3.531593e+01\n",
              "29                                     31. Height (m)  4.382045e-02\n",
              "30                                  32. Smoking habit  4.050070e+00"
            ]
          },
          "execution_count": 52,
          "metadata": {},
          "output_type": "execute_result"
        }
      ],
      "source": [
        "topr_features"
      ]
    },
    {
      "cell_type": "code",
      "execution_count": null,
      "metadata": {
        "colab": {
          "background_save": true
        },
        "id": "29oJXHnYXP1k",
        "outputId": "de060378-936d-4409-bbf0-1359286ef425"
      },
      "outputs": [
        {
          "data": {
            "text/html": [
              "\n",
              "  <div id=\"df-8d913569-ba52-4aa9-a3ca-0729679d8d31\">\n",
              "    <div class=\"colab-df-container\">\n",
              "      <div>\n",
              "<style scoped>\n",
              "    .dataframe tbody tr th:only-of-type {\n",
              "        vertical-align: middle;\n",
              "    }\n",
              "\n",
              "    .dataframe tbody tr th {\n",
              "        vertical-align: top;\n",
              "    }\n",
              "\n",
              "    .dataframe thead th {\n",
              "        text-align: right;\n",
              "    }\n",
              "</style>\n",
              "<table border=\"1\" class=\"dataframe\">\n",
              "  <thead>\n",
              "    <tr style=\"text-align: right;\">\n",
              "      <th></th>\n",
              "      <th>Top Features</th>\n",
              "      <th>Score</th>\n",
              "    </tr>\n",
              "  </thead>\n",
              "  <tbody>\n",
              "    <tr>\n",
              "      <th>19</th>\n",
              "      <td>21. Please write your age in years (number).</td>\n",
              "      <td>1.047906e+13</td>\n",
              "    </tr>\n",
              "    <tr>\n",
              "      <th>28</th>\n",
              "      <td>30. Body weight (Kg)</td>\n",
              "      <td>3.531593e+01</td>\n",
              "    </tr>\n",
              "    <tr>\n",
              "      <th>11</th>\n",
              "      <td>13. What contents do you mainly look for in yo...</td>\n",
              "      <td>3.323212e+01</td>\n",
              "    </tr>\n",
              "    <tr>\n",
              "      <th>5</th>\n",
              "      <td>7. How much time do you spend daily in social ...</td>\n",
              "      <td>3.046808e+01</td>\n",
              "    </tr>\n",
              "    <tr>\n",
              "      <th>23</th>\n",
              "      <td>25. Education</td>\n",
              "      <td>2.400879e+01</td>\n",
              "    </tr>\n",
              "    <tr>\n",
              "      <th>2</th>\n",
              "      <td>4. Which type of internet connection do you use?</td>\n",
              "      <td>1.334285e+01</td>\n",
              "    </tr>\n",
              "    <tr>\n",
              "      <th>13</th>\n",
              "      <td>15. When you see something in social media, do...</td>\n",
              "      <td>1.248926e+01</td>\n",
              "    </tr>\n",
              "    <tr>\n",
              "      <th>26</th>\n",
              "      <td>28. Area of residence</td>\n",
              "      <td>1.170122e+01</td>\n",
              "    </tr>\n",
              "    <tr>\n",
              "      <th>10</th>\n",
              "      <td>12. What is your main purpose for using social...</td>\n",
              "      <td>1.145810e+01</td>\n",
              "    </tr>\n",
              "    <tr>\n",
              "      <th>20</th>\n",
              "      <td>22. Gender</td>\n",
              "      <td>1.103699e+01</td>\n",
              "    </tr>\n",
              "    <tr>\n",
              "      <th>6</th>\n",
              "      <td>8. When do you usually use social media?</td>\n",
              "      <td>9.583564e+00</td>\n",
              "    </tr>\n",
              "    <tr>\n",
              "      <th>16</th>\n",
              "      <td>18. Have you ever compared yourself with other...</td>\n",
              "      <td>7.424333e+00</td>\n",
              "    </tr>\n",
              "    <tr>\n",
              "      <th>4</th>\n",
              "      <td>6. How frequently do you post (upload status o...</td>\n",
              "      <td>7.003661e+00</td>\n",
              "    </tr>\n",
              "    <tr>\n",
              "      <th>14</th>\n",
              "      <td>16. Have you ever experienced peer pressure du...</td>\n",
              "      <td>6.282800e+00</td>\n",
              "    </tr>\n",
              "    <tr>\n",
              "      <th>17</th>\n",
              "      <td>19. Do you think, your mental wellbeing would ...</td>\n",
              "      <td>6.099108e+00</td>\n",
              "    </tr>\n",
              "    <tr>\n",
              "      <th>8</th>\n",
              "      <td>10. How many friends do you know personally in...</td>\n",
              "      <td>5.963292e+00</td>\n",
              "    </tr>\n",
              "    <tr>\n",
              "      <th>24</th>\n",
              "      <td>26. Profession</td>\n",
              "      <td>5.952090e+00</td>\n",
              "    </tr>\n",
              "    <tr>\n",
              "      <th>27</th>\n",
              "      <td>29. Living with-</td>\n",
              "      <td>5.782924e+00</td>\n",
              "    </tr>\n",
              "    <tr>\n",
              "      <th>0</th>\n",
              "      <td>2. Which social media account do you use usually?</td>\n",
              "      <td>4.835581e+00</td>\n",
              "    </tr>\n",
              "    <tr>\n",
              "      <th>30</th>\n",
              "      <td>32. Smoking habit</td>\n",
              "      <td>4.050070e+00</td>\n",
              "    </tr>\n",
              "    <tr>\n",
              "      <th>25</th>\n",
              "      <td>27. Monthly income</td>\n",
              "      <td>3.958317e+00</td>\n",
              "    </tr>\n",
              "    <tr>\n",
              "      <th>3</th>\n",
              "      <td>5. How long have you been using a social media...</td>\n",
              "      <td>3.280683e+00</td>\n",
              "    </tr>\n",
              "    <tr>\n",
              "      <th>12</th>\n",
              "      <td>14.Do you believe social media is a good thing?</td>\n",
              "      <td>3.043918e+00</td>\n",
              "    </tr>\n",
              "    <tr>\n",
              "      <th>9</th>\n",
              "      <td>11. How many groups you are tagged in social m...</td>\n",
              "      <td>2.535409e+00</td>\n",
              "    </tr>\n",
              "    <tr>\n",
              "      <th>15</th>\n",
              "      <td>17. Does your emotion get influenced by others...</td>\n",
              "      <td>1.909063e+00</td>\n",
              "    </tr>\n",
              "    <tr>\n",
              "      <th>18</th>\n",
              "      <td>20. If answer is yes, are you trying to contro...</td>\n",
              "      <td>6.612707e-01</td>\n",
              "    </tr>\n",
              "    <tr>\n",
              "      <th>7</th>\n",
              "      <td>9. How many friends do you have on social media?</td>\n",
              "      <td>6.483450e-01</td>\n",
              "    </tr>\n",
              "    <tr>\n",
              "      <th>1</th>\n",
              "      <td>3. Which device do you usually use to connect ...</td>\n",
              "      <td>1.332138e-01</td>\n",
              "    </tr>\n",
              "    <tr>\n",
              "      <th>22</th>\n",
              "      <td>24. Religion</td>\n",
              "      <td>1.299568e-01</td>\n",
              "    </tr>\n",
              "    <tr>\n",
              "      <th>21</th>\n",
              "      <td>23. Marital Status</td>\n",
              "      <td>4.563602e-02</td>\n",
              "    </tr>\n",
              "    <tr>\n",
              "      <th>29</th>\n",
              "      <td>31. Height (m)</td>\n",
              "      <td>4.382045e-02</td>\n",
              "    </tr>\n",
              "  </tbody>\n",
              "</table>\n",
              "</div>\n",
              "      <button class=\"colab-df-convert\" onclick=\"convertToInteractive('df-8d913569-ba52-4aa9-a3ca-0729679d8d31')\"\n",
              "              title=\"Convert this dataframe to an interactive table.\"\n",
              "              style=\"display:none;\">\n",
              "        \n",
              "  <svg xmlns=\"http://www.w3.org/2000/svg\" height=\"24px\"viewBox=\"0 0 24 24\"\n",
              "       width=\"24px\">\n",
              "    <path d=\"M0 0h24v24H0V0z\" fill=\"none\"/>\n",
              "    <path d=\"M18.56 5.44l.94 2.06.94-2.06 2.06-.94-2.06-.94-.94-2.06-.94 2.06-2.06.94zm-11 1L8.5 8.5l.94-2.06 2.06-.94-2.06-.94L8.5 2.5l-.94 2.06-2.06.94zm10 10l.94 2.06.94-2.06 2.06-.94-2.06-.94-.94-2.06-.94 2.06-2.06.94z\"/><path d=\"M17.41 7.96l-1.37-1.37c-.4-.4-.92-.59-1.43-.59-.52 0-1.04.2-1.43.59L10.3 9.45l-7.72 7.72c-.78.78-.78 2.05 0 2.83L4 21.41c.39.39.9.59 1.41.59.51 0 1.02-.2 1.41-.59l7.78-7.78 2.81-2.81c.8-.78.8-2.07 0-2.86zM5.41 20L4 18.59l7.72-7.72 1.47 1.35L5.41 20z\"/>\n",
              "  </svg>\n",
              "      </button>\n",
              "      \n",
              "  <style>\n",
              "    .colab-df-container {\n",
              "      display:flex;\n",
              "      flex-wrap:wrap;\n",
              "      gap: 12px;\n",
              "    }\n",
              "\n",
              "    .colab-df-convert {\n",
              "      background-color: #E8F0FE;\n",
              "      border: none;\n",
              "      border-radius: 50%;\n",
              "      cursor: pointer;\n",
              "      display: none;\n",
              "      fill: #1967D2;\n",
              "      height: 32px;\n",
              "      padding: 0 0 0 0;\n",
              "      width: 32px;\n",
              "    }\n",
              "\n",
              "    .colab-df-convert:hover {\n",
              "      background-color: #E2EBFA;\n",
              "      box-shadow: 0px 1px 2px rgba(60, 64, 67, 0.3), 0px 1px 3px 1px rgba(60, 64, 67, 0.15);\n",
              "      fill: #174EA6;\n",
              "    }\n",
              "\n",
              "    [theme=dark] .colab-df-convert {\n",
              "      background-color: #3B4455;\n",
              "      fill: #D2E3FC;\n",
              "    }\n",
              "\n",
              "    [theme=dark] .colab-df-convert:hover {\n",
              "      background-color: #434B5C;\n",
              "      box-shadow: 0px 1px 3px 1px rgba(0, 0, 0, 0.15);\n",
              "      filter: drop-shadow(0px 1px 2px rgba(0, 0, 0, 0.3));\n",
              "      fill: #FFFFFF;\n",
              "    }\n",
              "  </style>\n",
              "\n",
              "      <script>\n",
              "        const buttonEl =\n",
              "          document.querySelector('#df-8d913569-ba52-4aa9-a3ca-0729679d8d31 button.colab-df-convert');\n",
              "        buttonEl.style.display =\n",
              "          google.colab.kernel.accessAllowed ? 'block' : 'none';\n",
              "\n",
              "        async function convertToInteractive(key) {\n",
              "          const element = document.querySelector('#df-8d913569-ba52-4aa9-a3ca-0729679d8d31');\n",
              "          const dataTable =\n",
              "            await google.colab.kernel.invokeFunction('convertToInteractive',\n",
              "                                                     [key], {});\n",
              "          if (!dataTable) return;\n",
              "\n",
              "          const docLinkHtml = 'Like what you see? Visit the ' +\n",
              "            '<a target=\"_blank\" href=https://colab.research.google.com/notebooks/data_table.ipynb>data table notebook</a>'\n",
              "            + ' to learn more about interactive tables.';\n",
              "          element.innerHTML = '';\n",
              "          dataTable['output_type'] = 'display_data';\n",
              "          await google.colab.output.renderOutput(dataTable, element);\n",
              "          const docLink = document.createElement('div');\n",
              "          docLink.innerHTML = docLinkHtml;\n",
              "          element.appendChild(docLink);\n",
              "        }\n",
              "      </script>\n",
              "    </div>\n",
              "  </div>\n",
              "  "
            ],
            "text/plain": [
              "                                         Top Features         Score\n",
              "19       21. Please write your age in years (number).  1.047906e+13\n",
              "28                               30. Body weight (Kg)  3.531593e+01\n",
              "11  13. What contents do you mainly look for in yo...  3.323212e+01\n",
              "5   7. How much time do you spend daily in social ...  3.046808e+01\n",
              "23                                      25. Education  2.400879e+01\n",
              "2    4. Which type of internet connection do you use?  1.334285e+01\n",
              "13  15. When you see something in social media, do...  1.248926e+01\n",
              "26                              28. Area of residence  1.170122e+01\n",
              "10  12. What is your main purpose for using social...  1.145810e+01\n",
              "20                                         22. Gender  1.103699e+01\n",
              "6            8. When do you usually use social media?  9.583564e+00\n",
              "16  18. Have you ever compared yourself with other...  7.424333e+00\n",
              "4   6. How frequently do you post (upload status o...  7.003661e+00\n",
              "14  16. Have you ever experienced peer pressure du...  6.282800e+00\n",
              "17  19. Do you think, your mental wellbeing would ...  6.099108e+00\n",
              "8   10. How many friends do you know personally in...  5.963292e+00\n",
              "24                                     26. Profession  5.952090e+00\n",
              "27                                   29. Living with-  5.782924e+00\n",
              "0   2. Which social media account do you use usually?  4.835581e+00\n",
              "30                                  32. Smoking habit  4.050070e+00\n",
              "25                                 27. Monthly income  3.958317e+00\n",
              "3   5. How long have you been using a social media...  3.280683e+00\n",
              "12    14.Do you believe social media is a good thing?  3.043918e+00\n",
              "9   11. How many groups you are tagged in social m...  2.535409e+00\n",
              "15  17. Does your emotion get influenced by others...  1.909063e+00\n",
              "18  20. If answer is yes, are you trying to contro...  6.612707e-01\n",
              "7    9. How many friends do you have on social media?  6.483450e-01\n",
              "1   3. Which device do you usually use to connect ...  1.332138e-01\n",
              "22                                       24. Religion  1.299568e-01\n",
              "21                                 23. Marital Status  4.563602e-02\n",
              "29                                     31. Height (m)  4.382045e-02"
            ]
          },
          "execution_count": 53,
          "metadata": {},
          "output_type": "execute_result"
        }
      ],
      "source": [
        "topr_features.nlargest(33,'Score')"
      ]
    },
    {
      "cell_type": "code",
      "execution_count": null,
      "metadata": {
        "colab": {
          "background_save": true
        },
        "id": "trLM-nyFYzwR"
      },
      "outputs": [],
      "source": [
        "df = df.drop(['31. Height (m)','23. Marital Status','20. If answer is yes, are you trying to control that thing and trying to reduce the use of social media?','9. How many friends do you have on social media?','3. Which device do you usually use to connect social media?','24. Religion'],axis =1)"
      ]
    },
    {
      "cell_type": "code",
      "execution_count": null,
      "metadata": {
        "colab": {
          "background_save": true
        },
        "id": "nKfHvNKCZmGu",
        "outputId": "8fdc465c-711e-4fa1-c361-17afbf89192a"
      },
      "outputs": [
        {
          "data": {
            "text/html": [
              "\n",
              "  <div id=\"df-2577f0da-94e4-4fef-8182-f5594d5e84aa\">\n",
              "    <div class=\"colab-df-container\">\n",
              "      <div>\n",
              "<style scoped>\n",
              "    .dataframe tbody tr th:only-of-type {\n",
              "        vertical-align: middle;\n",
              "    }\n",
              "\n",
              "    .dataframe tbody tr th {\n",
              "        vertical-align: top;\n",
              "    }\n",
              "\n",
              "    .dataframe thead th {\n",
              "        text-align: right;\n",
              "    }\n",
              "</style>\n",
              "<table border=\"1\" class=\"dataframe\">\n",
              "  <thead>\n",
              "    <tr style=\"text-align: right;\">\n",
              "      <th></th>\n",
              "      <th>2. Which social media account do you use usually?</th>\n",
              "      <th>4. Which type of internet connection do you use?</th>\n",
              "      <th>5. How long have you been using a social media account?</th>\n",
              "      <th>6. How frequently do you post (upload status or add photos/videos) on social media?</th>\n",
              "      <th>7. How much time do you spend daily in social media?</th>\n",
              "      <th>8. When do you usually use social media?</th>\n",
              "      <th>10. How many friends do you know personally in social media?</th>\n",
              "      <th>11. How many groups you are tagged in social media?</th>\n",
              "      <th>12. What is your main purpose for using social media (e.g. Facebook)?</th>\n",
              "      <th>13. What contents do you mainly look for in your social media news feed?</th>\n",
              "      <th>...</th>\n",
              "      <th>21. Please write your age in years (number).</th>\n",
              "      <th>22. Gender</th>\n",
              "      <th>25. Education</th>\n",
              "      <th>26. Profession</th>\n",
              "      <th>27. Monthly income</th>\n",
              "      <th>28. Area of residence</th>\n",
              "      <th>29. Living with-</th>\n",
              "      <th>30. Body weight (Kg)</th>\n",
              "      <th>32. Smoking habit</th>\n",
              "      <th>Depression severity</th>\n",
              "    </tr>\n",
              "  </thead>\n",
              "  <tbody>\n",
              "    <tr>\n",
              "      <th>0</th>\n",
              "      <td>0</td>\n",
              "      <td>0</td>\n",
              "      <td>1</td>\n",
              "      <td>2</td>\n",
              "      <td>0</td>\n",
              "      <td>2</td>\n",
              "      <td>0</td>\n",
              "      <td>2</td>\n",
              "      <td>4</td>\n",
              "      <td>20</td>\n",
              "      <td>...</td>\n",
              "      <td>26.0</td>\n",
              "      <td>0</td>\n",
              "      <td>0</td>\n",
              "      <td>20</td>\n",
              "      <td>2</td>\n",
              "      <td>1</td>\n",
              "      <td>0</td>\n",
              "      <td>34.0</td>\n",
              "      <td>0</td>\n",
              "      <td>Mild</td>\n",
              "    </tr>\n",
              "    <tr>\n",
              "      <th>1</th>\n",
              "      <td>0</td>\n",
              "      <td>0</td>\n",
              "      <td>1</td>\n",
              "      <td>1</td>\n",
              "      <td>3</td>\n",
              "      <td>2</td>\n",
              "      <td>0</td>\n",
              "      <td>3</td>\n",
              "      <td>4</td>\n",
              "      <td>18</td>\n",
              "      <td>...</td>\n",
              "      <td>24.0</td>\n",
              "      <td>0</td>\n",
              "      <td>0</td>\n",
              "      <td>28</td>\n",
              "      <td>3</td>\n",
              "      <td>1</td>\n",
              "      <td>0</td>\n",
              "      <td>38.0</td>\n",
              "      <td>0</td>\n",
              "      <td>Mild</td>\n",
              "    </tr>\n",
              "    <tr>\n",
              "      <th>2</th>\n",
              "      <td>0</td>\n",
              "      <td>0</td>\n",
              "      <td>1</td>\n",
              "      <td>2</td>\n",
              "      <td>1</td>\n",
              "      <td>4</td>\n",
              "      <td>2</td>\n",
              "      <td>0</td>\n",
              "      <td>4</td>\n",
              "      <td>12</td>\n",
              "      <td>...</td>\n",
              "      <td>18.0</td>\n",
              "      <td>0</td>\n",
              "      <td>5</td>\n",
              "      <td>28</td>\n",
              "      <td>3</td>\n",
              "      <td>1</td>\n",
              "      <td>0</td>\n",
              "      <td>39.0</td>\n",
              "      <td>0</td>\n",
              "      <td>Mild</td>\n",
              "    </tr>\n",
              "    <tr>\n",
              "      <th>3</th>\n",
              "      <td>5</td>\n",
              "      <td>1</td>\n",
              "      <td>2</td>\n",
              "      <td>2</td>\n",
              "      <td>1</td>\n",
              "      <td>2</td>\n",
              "      <td>1</td>\n",
              "      <td>2</td>\n",
              "      <td>0</td>\n",
              "      <td>19</td>\n",
              "      <td>...</td>\n",
              "      <td>17.0</td>\n",
              "      <td>0</td>\n",
              "      <td>5</td>\n",
              "      <td>28</td>\n",
              "      <td>3</td>\n",
              "      <td>0</td>\n",
              "      <td>1</td>\n",
              "      <td>40.0</td>\n",
              "      <td>0</td>\n",
              "      <td>None-minimal</td>\n",
              "    </tr>\n",
              "    <tr>\n",
              "      <th>4</th>\n",
              "      <td>5</td>\n",
              "      <td>0</td>\n",
              "      <td>2</td>\n",
              "      <td>3</td>\n",
              "      <td>3</td>\n",
              "      <td>4</td>\n",
              "      <td>3</td>\n",
              "      <td>0</td>\n",
              "      <td>0</td>\n",
              "      <td>9</td>\n",
              "      <td>...</td>\n",
              "      <td>23.0</td>\n",
              "      <td>0</td>\n",
              "      <td>0</td>\n",
              "      <td>28</td>\n",
              "      <td>3</td>\n",
              "      <td>0</td>\n",
              "      <td>0</td>\n",
              "      <td>40.0</td>\n",
              "      <td>1</td>\n",
              "      <td>Moderately severe</td>\n",
              "    </tr>\n",
              "    <tr>\n",
              "      <th>...</th>\n",
              "      <td>...</td>\n",
              "      <td>...</td>\n",
              "      <td>...</td>\n",
              "      <td>...</td>\n",
              "      <td>...</td>\n",
              "      <td>...</td>\n",
              "      <td>...</td>\n",
              "      <td>...</td>\n",
              "      <td>...</td>\n",
              "      <td>...</td>\n",
              "      <td>...</td>\n",
              "      <td>...</td>\n",
              "      <td>...</td>\n",
              "      <td>...</td>\n",
              "      <td>...</td>\n",
              "      <td>...</td>\n",
              "      <td>...</td>\n",
              "      <td>...</td>\n",
              "      <td>...</td>\n",
              "      <td>...</td>\n",
              "      <td>...</td>\n",
              "    </tr>\n",
              "    <tr>\n",
              "      <th>786</th>\n",
              "      <td>0</td>\n",
              "      <td>0</td>\n",
              "      <td>3</td>\n",
              "      <td>2</td>\n",
              "      <td>0</td>\n",
              "      <td>4</td>\n",
              "      <td>0</td>\n",
              "      <td>1</td>\n",
              "      <td>4</td>\n",
              "      <td>9</td>\n",
              "      <td>...</td>\n",
              "      <td>26.0</td>\n",
              "      <td>1</td>\n",
              "      <td>3</td>\n",
              "      <td>20</td>\n",
              "      <td>0</td>\n",
              "      <td>1</td>\n",
              "      <td>0</td>\n",
              "      <td>85.0</td>\n",
              "      <td>0</td>\n",
              "      <td>None-minimal</td>\n",
              "    </tr>\n",
              "    <tr>\n",
              "      <th>787</th>\n",
              "      <td>0</td>\n",
              "      <td>0</td>\n",
              "      <td>1</td>\n",
              "      <td>2</td>\n",
              "      <td>2</td>\n",
              "      <td>2</td>\n",
              "      <td>2</td>\n",
              "      <td>2</td>\n",
              "      <td>4</td>\n",
              "      <td>20</td>\n",
              "      <td>...</td>\n",
              "      <td>28.0</td>\n",
              "      <td>0</td>\n",
              "      <td>3</td>\n",
              "      <td>28</td>\n",
              "      <td>3</td>\n",
              "      <td>1</td>\n",
              "      <td>0</td>\n",
              "      <td>98.0</td>\n",
              "      <td>0</td>\n",
              "      <td>Moderately severe</td>\n",
              "    </tr>\n",
              "    <tr>\n",
              "      <th>788</th>\n",
              "      <td>0</td>\n",
              "      <td>0</td>\n",
              "      <td>1</td>\n",
              "      <td>3</td>\n",
              "      <td>1</td>\n",
              "      <td>2</td>\n",
              "      <td>0</td>\n",
              "      <td>0</td>\n",
              "      <td>4</td>\n",
              "      <td>18</td>\n",
              "      <td>...</td>\n",
              "      <td>20.0</td>\n",
              "      <td>1</td>\n",
              "      <td>0</td>\n",
              "      <td>28</td>\n",
              "      <td>3</td>\n",
              "      <td>1</td>\n",
              "      <td>0</td>\n",
              "      <td>100.0</td>\n",
              "      <td>0</td>\n",
              "      <td>Moderate</td>\n",
              "    </tr>\n",
              "    <tr>\n",
              "      <th>789</th>\n",
              "      <td>0</td>\n",
              "      <td>0</td>\n",
              "      <td>0</td>\n",
              "      <td>2</td>\n",
              "      <td>0</td>\n",
              "      <td>1</td>\n",
              "      <td>3</td>\n",
              "      <td>2</td>\n",
              "      <td>4</td>\n",
              "      <td>20</td>\n",
              "      <td>...</td>\n",
              "      <td>21.0</td>\n",
              "      <td>0</td>\n",
              "      <td>0</td>\n",
              "      <td>28</td>\n",
              "      <td>3</td>\n",
              "      <td>1</td>\n",
              "      <td>0</td>\n",
              "      <td>65.0</td>\n",
              "      <td>0</td>\n",
              "      <td>None-minimal</td>\n",
              "    </tr>\n",
              "    <tr>\n",
              "      <th>790</th>\n",
              "      <td>4</td>\n",
              "      <td>0</td>\n",
              "      <td>3</td>\n",
              "      <td>2</td>\n",
              "      <td>0</td>\n",
              "      <td>1</td>\n",
              "      <td>3</td>\n",
              "      <td>1</td>\n",
              "      <td>4</td>\n",
              "      <td>9</td>\n",
              "      <td>...</td>\n",
              "      <td>30.0</td>\n",
              "      <td>0</td>\n",
              "      <td>0</td>\n",
              "      <td>20</td>\n",
              "      <td>1</td>\n",
              "      <td>1</td>\n",
              "      <td>1</td>\n",
              "      <td>110.0</td>\n",
              "      <td>0</td>\n",
              "      <td>None-minimal</td>\n",
              "    </tr>\n",
              "  </tbody>\n",
              "</table>\n",
              "<p>791 rows × 26 columns</p>\n",
              "</div>\n",
              "      <button class=\"colab-df-convert\" onclick=\"convertToInteractive('df-2577f0da-94e4-4fef-8182-f5594d5e84aa')\"\n",
              "              title=\"Convert this dataframe to an interactive table.\"\n",
              "              style=\"display:none;\">\n",
              "        \n",
              "  <svg xmlns=\"http://www.w3.org/2000/svg\" height=\"24px\"viewBox=\"0 0 24 24\"\n",
              "       width=\"24px\">\n",
              "    <path d=\"M0 0h24v24H0V0z\" fill=\"none\"/>\n",
              "    <path d=\"M18.56 5.44l.94 2.06.94-2.06 2.06-.94-2.06-.94-.94-2.06-.94 2.06-2.06.94zm-11 1L8.5 8.5l.94-2.06 2.06-.94-2.06-.94L8.5 2.5l-.94 2.06-2.06.94zm10 10l.94 2.06.94-2.06 2.06-.94-2.06-.94-.94-2.06-.94 2.06-2.06.94z\"/><path d=\"M17.41 7.96l-1.37-1.37c-.4-.4-.92-.59-1.43-.59-.52 0-1.04.2-1.43.59L10.3 9.45l-7.72 7.72c-.78.78-.78 2.05 0 2.83L4 21.41c.39.39.9.59 1.41.59.51 0 1.02-.2 1.41-.59l7.78-7.78 2.81-2.81c.8-.78.8-2.07 0-2.86zM5.41 20L4 18.59l7.72-7.72 1.47 1.35L5.41 20z\"/>\n",
              "  </svg>\n",
              "      </button>\n",
              "      \n",
              "  <style>\n",
              "    .colab-df-container {\n",
              "      display:flex;\n",
              "      flex-wrap:wrap;\n",
              "      gap: 12px;\n",
              "    }\n",
              "\n",
              "    .colab-df-convert {\n",
              "      background-color: #E8F0FE;\n",
              "      border: none;\n",
              "      border-radius: 50%;\n",
              "      cursor: pointer;\n",
              "      display: none;\n",
              "      fill: #1967D2;\n",
              "      height: 32px;\n",
              "      padding: 0 0 0 0;\n",
              "      width: 32px;\n",
              "    }\n",
              "\n",
              "    .colab-df-convert:hover {\n",
              "      background-color: #E2EBFA;\n",
              "      box-shadow: 0px 1px 2px rgba(60, 64, 67, 0.3), 0px 1px 3px 1px rgba(60, 64, 67, 0.15);\n",
              "      fill: #174EA6;\n",
              "    }\n",
              "\n",
              "    [theme=dark] .colab-df-convert {\n",
              "      background-color: #3B4455;\n",
              "      fill: #D2E3FC;\n",
              "    }\n",
              "\n",
              "    [theme=dark] .colab-df-convert:hover {\n",
              "      background-color: #434B5C;\n",
              "      box-shadow: 0px 1px 3px 1px rgba(0, 0, 0, 0.15);\n",
              "      filter: drop-shadow(0px 1px 2px rgba(0, 0, 0, 0.3));\n",
              "      fill: #FFFFFF;\n",
              "    }\n",
              "  </style>\n",
              "\n",
              "      <script>\n",
              "        const buttonEl =\n",
              "          document.querySelector('#df-2577f0da-94e4-4fef-8182-f5594d5e84aa button.colab-df-convert');\n",
              "        buttonEl.style.display =\n",
              "          google.colab.kernel.accessAllowed ? 'block' : 'none';\n",
              "\n",
              "        async function convertToInteractive(key) {\n",
              "          const element = document.querySelector('#df-2577f0da-94e4-4fef-8182-f5594d5e84aa');\n",
              "          const dataTable =\n",
              "            await google.colab.kernel.invokeFunction('convertToInteractive',\n",
              "                                                     [key], {});\n",
              "          if (!dataTable) return;\n",
              "\n",
              "          const docLinkHtml = 'Like what you see? Visit the ' +\n",
              "            '<a target=\"_blank\" href=https://colab.research.google.com/notebooks/data_table.ipynb>data table notebook</a>'\n",
              "            + ' to learn more about interactive tables.';\n",
              "          element.innerHTML = '';\n",
              "          dataTable['output_type'] = 'display_data';\n",
              "          await google.colab.output.renderOutput(dataTable, element);\n",
              "          const docLink = document.createElement('div');\n",
              "          docLink.innerHTML = docLinkHtml;\n",
              "          element.appendChild(docLink);\n",
              "        }\n",
              "      </script>\n",
              "    </div>\n",
              "  </div>\n",
              "  "
            ],
            "text/plain": [
              "     2. Which social media account do you use usually?  \\\n",
              "0                                                    0   \n",
              "1                                                    0   \n",
              "2                                                    0   \n",
              "3                                                    5   \n",
              "4                                                    5   \n",
              "..                                                 ...   \n",
              "786                                                  0   \n",
              "787                                                  0   \n",
              "788                                                  0   \n",
              "789                                                  0   \n",
              "790                                                  4   \n",
              "\n",
              "     4. Which type of internet connection do you use?  \\\n",
              "0                                                   0   \n",
              "1                                                   0   \n",
              "2                                                   0   \n",
              "3                                                   1   \n",
              "4                                                   0   \n",
              "..                                                ...   \n",
              "786                                                 0   \n",
              "787                                                 0   \n",
              "788                                                 0   \n",
              "789                                                 0   \n",
              "790                                                 0   \n",
              "\n",
              "     5. How long have you been using a social media account?  \\\n",
              "0                                                    1         \n",
              "1                                                    1         \n",
              "2                                                    1         \n",
              "3                                                    2         \n",
              "4                                                    2         \n",
              "..                                                 ...         \n",
              "786                                                  3         \n",
              "787                                                  1         \n",
              "788                                                  1         \n",
              "789                                                  0         \n",
              "790                                                  3         \n",
              "\n",
              "     6. How frequently do you post (upload status or add photos/videos) on social media?   \\\n",
              "0                                                    2                                      \n",
              "1                                                    1                                      \n",
              "2                                                    2                                      \n",
              "3                                                    2                                      \n",
              "4                                                    3                                      \n",
              "..                                                 ...                                      \n",
              "786                                                  2                                      \n",
              "787                                                  2                                      \n",
              "788                                                  3                                      \n",
              "789                                                  2                                      \n",
              "790                                                  2                                      \n",
              "\n",
              "     7. How much time do you spend daily in social media?  \\\n",
              "0                                                    0      \n",
              "1                                                    3      \n",
              "2                                                    1      \n",
              "3                                                    1      \n",
              "4                                                    3      \n",
              "..                                                 ...      \n",
              "786                                                  0      \n",
              "787                                                  2      \n",
              "788                                                  1      \n",
              "789                                                  0      \n",
              "790                                                  0      \n",
              "\n",
              "     8. When do you usually use social media?  \\\n",
              "0                                           2   \n",
              "1                                           2   \n",
              "2                                           4   \n",
              "3                                           2   \n",
              "4                                           4   \n",
              "..                                        ...   \n",
              "786                                         4   \n",
              "787                                         2   \n",
              "788                                         2   \n",
              "789                                         1   \n",
              "790                                         1   \n",
              "\n",
              "     10. How many friends do you know personally in social media?   \\\n",
              "0                                                    0               \n",
              "1                                                    0               \n",
              "2                                                    2               \n",
              "3                                                    1               \n",
              "4                                                    3               \n",
              "..                                                 ...               \n",
              "786                                                  0               \n",
              "787                                                  2               \n",
              "788                                                  0               \n",
              "789                                                  3               \n",
              "790                                                  3               \n",
              "\n",
              "     11. How many groups you are tagged in social media?  \\\n",
              "0                                                    2     \n",
              "1                                                    3     \n",
              "2                                                    0     \n",
              "3                                                    2     \n",
              "4                                                    0     \n",
              "..                                                 ...     \n",
              "786                                                  1     \n",
              "787                                                  2     \n",
              "788                                                  0     \n",
              "789                                                  2     \n",
              "790                                                  1     \n",
              "\n",
              "     12. What is your main purpose for using social media (e.g. Facebook)?  \\\n",
              "0                                                    4                       \n",
              "1                                                    4                       \n",
              "2                                                    4                       \n",
              "3                                                    0                       \n",
              "4                                                    0                       \n",
              "..                                                 ...                       \n",
              "786                                                  4                       \n",
              "787                                                  4                       \n",
              "788                                                  4                       \n",
              "789                                                  4                       \n",
              "790                                                  4                       \n",
              "\n",
              "     13. What contents do you mainly look for in your social media news feed?  \\\n",
              "0                                                   20                          \n",
              "1                                                   18                          \n",
              "2                                                   12                          \n",
              "3                                                   19                          \n",
              "4                                                    9                          \n",
              "..                                                 ...                          \n",
              "786                                                  9                          \n",
              "787                                                 20                          \n",
              "788                                                 18                          \n",
              "789                                                 20                          \n",
              "790                                                  9                          \n",
              "\n",
              "     ...  21. Please write your age in years (number).  22. Gender  \\\n",
              "0    ...                                          26.0           0   \n",
              "1    ...                                          24.0           0   \n",
              "2    ...                                          18.0           0   \n",
              "3    ...                                          17.0           0   \n",
              "4    ...                                          23.0           0   \n",
              "..   ...                                           ...         ...   \n",
              "786  ...                                          26.0           1   \n",
              "787  ...                                          28.0           0   \n",
              "788  ...                                          20.0           1   \n",
              "789  ...                                          21.0           0   \n",
              "790  ...                                          30.0           0   \n",
              "\n",
              "     25. Education  26. Profession  27. Monthly income  28. Area of residence  \\\n",
              "0                0              20                   2                      1   \n",
              "1                0              28                   3                      1   \n",
              "2                5              28                   3                      1   \n",
              "3                5              28                   3                      0   \n",
              "4                0              28                   3                      0   \n",
              "..             ...             ...                 ...                    ...   \n",
              "786              3              20                   0                      1   \n",
              "787              3              28                   3                      1   \n",
              "788              0              28                   3                      1   \n",
              "789              0              28                   3                      1   \n",
              "790              0              20                   1                      1   \n",
              "\n",
              "     29. Living with-  30. Body weight (Kg)  32. Smoking habit  \\\n",
              "0                   0                  34.0                  0   \n",
              "1                   0                  38.0                  0   \n",
              "2                   0                  39.0                  0   \n",
              "3                   1                  40.0                  0   \n",
              "4                   0                  40.0                  1   \n",
              "..                ...                   ...                ...   \n",
              "786                 0                  85.0                  0   \n",
              "787                 0                  98.0                  0   \n",
              "788                 0                 100.0                  0   \n",
              "789                 0                  65.0                  0   \n",
              "790                 1                 110.0                  0   \n",
              "\n",
              "     Depression severity  \n",
              "0                   Mild  \n",
              "1                   Mild  \n",
              "2                   Mild  \n",
              "3           None-minimal  \n",
              "4      Moderately severe  \n",
              "..                   ...  \n",
              "786         None-minimal  \n",
              "787    Moderately severe  \n",
              "788             Moderate  \n",
              "789         None-minimal  \n",
              "790         None-minimal  \n",
              "\n",
              "[791 rows x 26 columns]"
            ]
          },
          "execution_count": 55,
          "metadata": {},
          "output_type": "execute_result"
        }
      ],
      "source": [
        "df"
      ]
    },
    {
      "cell_type": "code",
      "execution_count": null,
      "metadata": {
        "colab": {
          "background_save": true
        },
        "id": "F1peTNXOZ4am"
      },
      "outputs": [],
      "source": [
        "x = df.drop('Depression severity',axis=1)\n",
        "y = df['Depression severity']"
      ]
    },
    {
      "cell_type": "code",
      "execution_count": null,
      "metadata": {
        "colab": {
          "background_save": true
        },
        "id": "3_OrhvZBZ-Qh"
      },
      "outputs": [],
      "source": [
        "from sklearn.model_selection import train_test_split"
      ]
    },
    {
      "cell_type": "code",
      "execution_count": null,
      "metadata": {
        "colab": {
          "background_save": true
        },
        "id": "JEDirm-DaeYB"
      },
      "outputs": [],
      "source": [
        "xtrain,xtest,ytrain,ytest = train_test_split(x,y,test_size=.10,random_state=10)"
      ]
    },
    {
      "cell_type": "code",
      "execution_count": null,
      "metadata": {
        "colab": {
          "background_save": true
        },
        "id": "wx3vRsx9a5Ht",
        "outputId": "a6f730f0-226a-41ed-e8f0-9c83ec0fb3c6"
      },
      "outputs": [
        {
          "data": {
            "text/html": [
              "\n",
              "  <div id=\"df-ddf425c9-e179-4ba4-9cce-950938f38973\">\n",
              "    <div class=\"colab-df-container\">\n",
              "      <div>\n",
              "<style scoped>\n",
              "    .dataframe tbody tr th:only-of-type {\n",
              "        vertical-align: middle;\n",
              "    }\n",
              "\n",
              "    .dataframe tbody tr th {\n",
              "        vertical-align: top;\n",
              "    }\n",
              "\n",
              "    .dataframe thead th {\n",
              "        text-align: right;\n",
              "    }\n",
              "</style>\n",
              "<table border=\"1\" class=\"dataframe\">\n",
              "  <thead>\n",
              "    <tr style=\"text-align: right;\">\n",
              "      <th></th>\n",
              "      <th>2. Which social media account do you use usually?</th>\n",
              "      <th>4. Which type of internet connection do you use?</th>\n",
              "      <th>5. How long have you been using a social media account?</th>\n",
              "      <th>6. How frequently do you post (upload status or add photos/videos) on social media?</th>\n",
              "      <th>7. How much time do you spend daily in social media?</th>\n",
              "      <th>8. When do you usually use social media?</th>\n",
              "      <th>10. How many friends do you know personally in social media?</th>\n",
              "      <th>11. How many groups you are tagged in social media?</th>\n",
              "      <th>12. What is your main purpose for using social media (e.g. Facebook)?</th>\n",
              "      <th>13. What contents do you mainly look for in your social media news feed?</th>\n",
              "      <th>...</th>\n",
              "      <th>19. Do you think, your mental wellbeing would be better if you do not use social media?</th>\n",
              "      <th>21. Please write your age in years (number).</th>\n",
              "      <th>22. Gender</th>\n",
              "      <th>25. Education</th>\n",
              "      <th>26. Profession</th>\n",
              "      <th>27. Monthly income</th>\n",
              "      <th>28. Area of residence</th>\n",
              "      <th>29. Living with-</th>\n",
              "      <th>30. Body weight (Kg)</th>\n",
              "      <th>32. Smoking habit</th>\n",
              "    </tr>\n",
              "  </thead>\n",
              "  <tbody>\n",
              "    <tr>\n",
              "      <th>124</th>\n",
              "      <td>0</td>\n",
              "      <td>0</td>\n",
              "      <td>1</td>\n",
              "      <td>2</td>\n",
              "      <td>3</td>\n",
              "      <td>2</td>\n",
              "      <td>2</td>\n",
              "      <td>1</td>\n",
              "      <td>1</td>\n",
              "      <td>9</td>\n",
              "      <td>...</td>\n",
              "      <td>1</td>\n",
              "      <td>24.0</td>\n",
              "      <td>0</td>\n",
              "      <td>0</td>\n",
              "      <td>28</td>\n",
              "      <td>3</td>\n",
              "      <td>1</td>\n",
              "      <td>0</td>\n",
              "      <td>45.0</td>\n",
              "      <td>0</td>\n",
              "    </tr>\n",
              "    <tr>\n",
              "      <th>384</th>\n",
              "      <td>2</td>\n",
              "      <td>0</td>\n",
              "      <td>0</td>\n",
              "      <td>1</td>\n",
              "      <td>3</td>\n",
              "      <td>1</td>\n",
              "      <td>1</td>\n",
              "      <td>1</td>\n",
              "      <td>4</td>\n",
              "      <td>18</td>\n",
              "      <td>...</td>\n",
              "      <td>1</td>\n",
              "      <td>18.0</td>\n",
              "      <td>1</td>\n",
              "      <td>5</td>\n",
              "      <td>28</td>\n",
              "      <td>3</td>\n",
              "      <td>0</td>\n",
              "      <td>1</td>\n",
              "      <td>66.0</td>\n",
              "      <td>0</td>\n",
              "    </tr>\n",
              "    <tr>\n",
              "      <th>163</th>\n",
              "      <td>8</td>\n",
              "      <td>0</td>\n",
              "      <td>0</td>\n",
              "      <td>2</td>\n",
              "      <td>2</td>\n",
              "      <td>4</td>\n",
              "      <td>1</td>\n",
              "      <td>2</td>\n",
              "      <td>4</td>\n",
              "      <td>21</td>\n",
              "      <td>...</td>\n",
              "      <td>0</td>\n",
              "      <td>30.0</td>\n",
              "      <td>0</td>\n",
              "      <td>5</td>\n",
              "      <td>31</td>\n",
              "      <td>3</td>\n",
              "      <td>0</td>\n",
              "      <td>0</td>\n",
              "      <td>48.0</td>\n",
              "      <td>0</td>\n",
              "    </tr>\n",
              "    <tr>\n",
              "      <th>52</th>\n",
              "      <td>0</td>\n",
              "      <td>0</td>\n",
              "      <td>1</td>\n",
              "      <td>2</td>\n",
              "      <td>0</td>\n",
              "      <td>2</td>\n",
              "      <td>2</td>\n",
              "      <td>2</td>\n",
              "      <td>4</td>\n",
              "      <td>9</td>\n",
              "      <td>...</td>\n",
              "      <td>0</td>\n",
              "      <td>27.0</td>\n",
              "      <td>0</td>\n",
              "      <td>3</td>\n",
              "      <td>20</td>\n",
              "      <td>0</td>\n",
              "      <td>1</td>\n",
              "      <td>0</td>\n",
              "      <td>45.0</td>\n",
              "      <td>0</td>\n",
              "    </tr>\n",
              "    <tr>\n",
              "      <th>27</th>\n",
              "      <td>0</td>\n",
              "      <td>0</td>\n",
              "      <td>0</td>\n",
              "      <td>0</td>\n",
              "      <td>0</td>\n",
              "      <td>3</td>\n",
              "      <td>1</td>\n",
              "      <td>2</td>\n",
              "      <td>4</td>\n",
              "      <td>18</td>\n",
              "      <td>...</td>\n",
              "      <td>0</td>\n",
              "      <td>34.0</td>\n",
              "      <td>0</td>\n",
              "      <td>5</td>\n",
              "      <td>16</td>\n",
              "      <td>3</td>\n",
              "      <td>0</td>\n",
              "      <td>0</td>\n",
              "      <td>41.0</td>\n",
              "      <td>0</td>\n",
              "    </tr>\n",
              "    <tr>\n",
              "      <th>...</th>\n",
              "      <td>...</td>\n",
              "      <td>...</td>\n",
              "      <td>...</td>\n",
              "      <td>...</td>\n",
              "      <td>...</td>\n",
              "      <td>...</td>\n",
              "      <td>...</td>\n",
              "      <td>...</td>\n",
              "      <td>...</td>\n",
              "      <td>...</td>\n",
              "      <td>...</td>\n",
              "      <td>...</td>\n",
              "      <td>...</td>\n",
              "      <td>...</td>\n",
              "      <td>...</td>\n",
              "      <td>...</td>\n",
              "      <td>...</td>\n",
              "      <td>...</td>\n",
              "      <td>...</td>\n",
              "      <td>...</td>\n",
              "      <td>...</td>\n",
              "    </tr>\n",
              "    <tr>\n",
              "      <th>64</th>\n",
              "      <td>0</td>\n",
              "      <td>0</td>\n",
              "      <td>1</td>\n",
              "      <td>0</td>\n",
              "      <td>3</td>\n",
              "      <td>2</td>\n",
              "      <td>3</td>\n",
              "      <td>3</td>\n",
              "      <td>4</td>\n",
              "      <td>18</td>\n",
              "      <td>...</td>\n",
              "      <td>0</td>\n",
              "      <td>20.0</td>\n",
              "      <td>1</td>\n",
              "      <td>0</td>\n",
              "      <td>28</td>\n",
              "      <td>3</td>\n",
              "      <td>1</td>\n",
              "      <td>0</td>\n",
              "      <td>50.0</td>\n",
              "      <td>0</td>\n",
              "    </tr>\n",
              "    <tr>\n",
              "      <th>743</th>\n",
              "      <td>0</td>\n",
              "      <td>0</td>\n",
              "      <td>0</td>\n",
              "      <td>2</td>\n",
              "      <td>3</td>\n",
              "      <td>2</td>\n",
              "      <td>1</td>\n",
              "      <td>3</td>\n",
              "      <td>0</td>\n",
              "      <td>19</td>\n",
              "      <td>...</td>\n",
              "      <td>1</td>\n",
              "      <td>26.0</td>\n",
              "      <td>0</td>\n",
              "      <td>3</td>\n",
              "      <td>20</td>\n",
              "      <td>0</td>\n",
              "      <td>1</td>\n",
              "      <td>0</td>\n",
              "      <td>80.0</td>\n",
              "      <td>0</td>\n",
              "    </tr>\n",
              "    <tr>\n",
              "      <th>511</th>\n",
              "      <td>0</td>\n",
              "      <td>0</td>\n",
              "      <td>0</td>\n",
              "      <td>2</td>\n",
              "      <td>3</td>\n",
              "      <td>2</td>\n",
              "      <td>3</td>\n",
              "      <td>0</td>\n",
              "      <td>4</td>\n",
              "      <td>9</td>\n",
              "      <td>...</td>\n",
              "      <td>1</td>\n",
              "      <td>35.0</td>\n",
              "      <td>1</td>\n",
              "      <td>3</td>\n",
              "      <td>20</td>\n",
              "      <td>1</td>\n",
              "      <td>1</td>\n",
              "      <td>0</td>\n",
              "      <td>78.0</td>\n",
              "      <td>1</td>\n",
              "    </tr>\n",
              "    <tr>\n",
              "      <th>771</th>\n",
              "      <td>0</td>\n",
              "      <td>0</td>\n",
              "      <td>3</td>\n",
              "      <td>2</td>\n",
              "      <td>1</td>\n",
              "      <td>2</td>\n",
              "      <td>3</td>\n",
              "      <td>1</td>\n",
              "      <td>4</td>\n",
              "      <td>12</td>\n",
              "      <td>...</td>\n",
              "      <td>1</td>\n",
              "      <td>27.0</td>\n",
              "      <td>0</td>\n",
              "      <td>0</td>\n",
              "      <td>28</td>\n",
              "      <td>3</td>\n",
              "      <td>0</td>\n",
              "      <td>0</td>\n",
              "      <td>54.0</td>\n",
              "      <td>0</td>\n",
              "    </tr>\n",
              "    <tr>\n",
              "      <th>188</th>\n",
              "      <td>0</td>\n",
              "      <td>0</td>\n",
              "      <td>3</td>\n",
              "      <td>3</td>\n",
              "      <td>1</td>\n",
              "      <td>2</td>\n",
              "      <td>3</td>\n",
              "      <td>3</td>\n",
              "      <td>4</td>\n",
              "      <td>18</td>\n",
              "      <td>...</td>\n",
              "      <td>1</td>\n",
              "      <td>30.0</td>\n",
              "      <td>0</td>\n",
              "      <td>3</td>\n",
              "      <td>20</td>\n",
              "      <td>2</td>\n",
              "      <td>1</td>\n",
              "      <td>0</td>\n",
              "      <td>52.0</td>\n",
              "      <td>0</td>\n",
              "    </tr>\n",
              "  </tbody>\n",
              "</table>\n",
              "<p>80 rows × 25 columns</p>\n",
              "</div>\n",
              "      <button class=\"colab-df-convert\" onclick=\"convertToInteractive('df-ddf425c9-e179-4ba4-9cce-950938f38973')\"\n",
              "              title=\"Convert this dataframe to an interactive table.\"\n",
              "              style=\"display:none;\">\n",
              "        \n",
              "  <svg xmlns=\"http://www.w3.org/2000/svg\" height=\"24px\"viewBox=\"0 0 24 24\"\n",
              "       width=\"24px\">\n",
              "    <path d=\"M0 0h24v24H0V0z\" fill=\"none\"/>\n",
              "    <path d=\"M18.56 5.44l.94 2.06.94-2.06 2.06-.94-2.06-.94-.94-2.06-.94 2.06-2.06.94zm-11 1L8.5 8.5l.94-2.06 2.06-.94-2.06-.94L8.5 2.5l-.94 2.06-2.06.94zm10 10l.94 2.06.94-2.06 2.06-.94-2.06-.94-.94-2.06-.94 2.06-2.06.94z\"/><path d=\"M17.41 7.96l-1.37-1.37c-.4-.4-.92-.59-1.43-.59-.52 0-1.04.2-1.43.59L10.3 9.45l-7.72 7.72c-.78.78-.78 2.05 0 2.83L4 21.41c.39.39.9.59 1.41.59.51 0 1.02-.2 1.41-.59l7.78-7.78 2.81-2.81c.8-.78.8-2.07 0-2.86zM5.41 20L4 18.59l7.72-7.72 1.47 1.35L5.41 20z\"/>\n",
              "  </svg>\n",
              "      </button>\n",
              "      \n",
              "  <style>\n",
              "    .colab-df-container {\n",
              "      display:flex;\n",
              "      flex-wrap:wrap;\n",
              "      gap: 12px;\n",
              "    }\n",
              "\n",
              "    .colab-df-convert {\n",
              "      background-color: #E8F0FE;\n",
              "      border: none;\n",
              "      border-radius: 50%;\n",
              "      cursor: pointer;\n",
              "      display: none;\n",
              "      fill: #1967D2;\n",
              "      height: 32px;\n",
              "      padding: 0 0 0 0;\n",
              "      width: 32px;\n",
              "    }\n",
              "\n",
              "    .colab-df-convert:hover {\n",
              "      background-color: #E2EBFA;\n",
              "      box-shadow: 0px 1px 2px rgba(60, 64, 67, 0.3), 0px 1px 3px 1px rgba(60, 64, 67, 0.15);\n",
              "      fill: #174EA6;\n",
              "    }\n",
              "\n",
              "    [theme=dark] .colab-df-convert {\n",
              "      background-color: #3B4455;\n",
              "      fill: #D2E3FC;\n",
              "    }\n",
              "\n",
              "    [theme=dark] .colab-df-convert:hover {\n",
              "      background-color: #434B5C;\n",
              "      box-shadow: 0px 1px 3px 1px rgba(0, 0, 0, 0.15);\n",
              "      filter: drop-shadow(0px 1px 2px rgba(0, 0, 0, 0.3));\n",
              "      fill: #FFFFFF;\n",
              "    }\n",
              "  </style>\n",
              "\n",
              "      <script>\n",
              "        const buttonEl =\n",
              "          document.querySelector('#df-ddf425c9-e179-4ba4-9cce-950938f38973 button.colab-df-convert');\n",
              "        buttonEl.style.display =\n",
              "          google.colab.kernel.accessAllowed ? 'block' : 'none';\n",
              "\n",
              "        async function convertToInteractive(key) {\n",
              "          const element = document.querySelector('#df-ddf425c9-e179-4ba4-9cce-950938f38973');\n",
              "          const dataTable =\n",
              "            await google.colab.kernel.invokeFunction('convertToInteractive',\n",
              "                                                     [key], {});\n",
              "          if (!dataTable) return;\n",
              "\n",
              "          const docLinkHtml = 'Like what you see? Visit the ' +\n",
              "            '<a target=\"_blank\" href=https://colab.research.google.com/notebooks/data_table.ipynb>data table notebook</a>'\n",
              "            + ' to learn more about interactive tables.';\n",
              "          element.innerHTML = '';\n",
              "          dataTable['output_type'] = 'display_data';\n",
              "          await google.colab.output.renderOutput(dataTable, element);\n",
              "          const docLink = document.createElement('div');\n",
              "          docLink.innerHTML = docLinkHtml;\n",
              "          element.appendChild(docLink);\n",
              "        }\n",
              "      </script>\n",
              "    </div>\n",
              "  </div>\n",
              "  "
            ],
            "text/plain": [
              "     2. Which social media account do you use usually?  \\\n",
              "124                                                  0   \n",
              "384                                                  2   \n",
              "163                                                  8   \n",
              "52                                                   0   \n",
              "27                                                   0   \n",
              "..                                                 ...   \n",
              "64                                                   0   \n",
              "743                                                  0   \n",
              "511                                                  0   \n",
              "771                                                  0   \n",
              "188                                                  0   \n",
              "\n",
              "     4. Which type of internet connection do you use?  \\\n",
              "124                                                 0   \n",
              "384                                                 0   \n",
              "163                                                 0   \n",
              "52                                                  0   \n",
              "27                                                  0   \n",
              "..                                                ...   \n",
              "64                                                  0   \n",
              "743                                                 0   \n",
              "511                                                 0   \n",
              "771                                                 0   \n",
              "188                                                 0   \n",
              "\n",
              "     5. How long have you been using a social media account?  \\\n",
              "124                                                  1         \n",
              "384                                                  0         \n",
              "163                                                  0         \n",
              "52                                                   1         \n",
              "27                                                   0         \n",
              "..                                                 ...         \n",
              "64                                                   1         \n",
              "743                                                  0         \n",
              "511                                                  0         \n",
              "771                                                  3         \n",
              "188                                                  3         \n",
              "\n",
              "     6. How frequently do you post (upload status or add photos/videos) on social media?   \\\n",
              "124                                                  2                                      \n",
              "384                                                  1                                      \n",
              "163                                                  2                                      \n",
              "52                                                   2                                      \n",
              "27                                                   0                                      \n",
              "..                                                 ...                                      \n",
              "64                                                   0                                      \n",
              "743                                                  2                                      \n",
              "511                                                  2                                      \n",
              "771                                                  2                                      \n",
              "188                                                  3                                      \n",
              "\n",
              "     7. How much time do you spend daily in social media?  \\\n",
              "124                                                  3      \n",
              "384                                                  3      \n",
              "163                                                  2      \n",
              "52                                                   0      \n",
              "27                                                   0      \n",
              "..                                                 ...      \n",
              "64                                                   3      \n",
              "743                                                  3      \n",
              "511                                                  3      \n",
              "771                                                  1      \n",
              "188                                                  1      \n",
              "\n",
              "     8. When do you usually use social media?  \\\n",
              "124                                         2   \n",
              "384                                         1   \n",
              "163                                         4   \n",
              "52                                          2   \n",
              "27                                          3   \n",
              "..                                        ...   \n",
              "64                                          2   \n",
              "743                                         2   \n",
              "511                                         2   \n",
              "771                                         2   \n",
              "188                                         2   \n",
              "\n",
              "     10. How many friends do you know personally in social media?   \\\n",
              "124                                                  2               \n",
              "384                                                  1               \n",
              "163                                                  1               \n",
              "52                                                   2               \n",
              "27                                                   1               \n",
              "..                                                 ...               \n",
              "64                                                   3               \n",
              "743                                                  1               \n",
              "511                                                  3               \n",
              "771                                                  3               \n",
              "188                                                  3               \n",
              "\n",
              "     11. How many groups you are tagged in social media?  \\\n",
              "124                                                  1     \n",
              "384                                                  1     \n",
              "163                                                  2     \n",
              "52                                                   2     \n",
              "27                                                   2     \n",
              "..                                                 ...     \n",
              "64                                                   3     \n",
              "743                                                  3     \n",
              "511                                                  0     \n",
              "771                                                  1     \n",
              "188                                                  3     \n",
              "\n",
              "     12. What is your main purpose for using social media (e.g. Facebook)?  \\\n",
              "124                                                  1                       \n",
              "384                                                  4                       \n",
              "163                                                  4                       \n",
              "52                                                   4                       \n",
              "27                                                   4                       \n",
              "..                                                 ...                       \n",
              "64                                                   4                       \n",
              "743                                                  0                       \n",
              "511                                                  4                       \n",
              "771                                                  4                       \n",
              "188                                                  4                       \n",
              "\n",
              "     13. What contents do you mainly look for in your social media news feed?  \\\n",
              "124                                                  9                          \n",
              "384                                                 18                          \n",
              "163                                                 21                          \n",
              "52                                                   9                          \n",
              "27                                                  18                          \n",
              "..                                                 ...                          \n",
              "64                                                  18                          \n",
              "743                                                 19                          \n",
              "511                                                  9                          \n",
              "771                                                 12                          \n",
              "188                                                 18                          \n",
              "\n",
              "     ...  \\\n",
              "124  ...   \n",
              "384  ...   \n",
              "163  ...   \n",
              "52   ...   \n",
              "27   ...   \n",
              "..   ...   \n",
              "64   ...   \n",
              "743  ...   \n",
              "511  ...   \n",
              "771  ...   \n",
              "188  ...   \n",
              "\n",
              "     19. Do you think, your mental wellbeing would be better if you do not use social media?  \\\n",
              "124                                                  1                                         \n",
              "384                                                  1                                         \n",
              "163                                                  0                                         \n",
              "52                                                   0                                         \n",
              "27                                                   0                                         \n",
              "..                                                 ...                                         \n",
              "64                                                   0                                         \n",
              "743                                                  1                                         \n",
              "511                                                  1                                         \n",
              "771                                                  1                                         \n",
              "188                                                  1                                         \n",
              "\n",
              "     21. Please write your age in years (number).  22. Gender  25. Education  \\\n",
              "124                                          24.0           0              0   \n",
              "384                                          18.0           1              5   \n",
              "163                                          30.0           0              5   \n",
              "52                                           27.0           0              3   \n",
              "27                                           34.0           0              5   \n",
              "..                                            ...         ...            ...   \n",
              "64                                           20.0           1              0   \n",
              "743                                          26.0           0              3   \n",
              "511                                          35.0           1              3   \n",
              "771                                          27.0           0              0   \n",
              "188                                          30.0           0              3   \n",
              "\n",
              "     26. Profession  27. Monthly income  28. Area of residence  \\\n",
              "124              28                   3                      1   \n",
              "384              28                   3                      0   \n",
              "163              31                   3                      0   \n",
              "52               20                   0                      1   \n",
              "27               16                   3                      0   \n",
              "..              ...                 ...                    ...   \n",
              "64               28                   3                      1   \n",
              "743              20                   0                      1   \n",
              "511              20                   1                      1   \n",
              "771              28                   3                      0   \n",
              "188              20                   2                      1   \n",
              "\n",
              "     29. Living with-  30. Body weight (Kg)  32. Smoking habit  \n",
              "124                 0                  45.0                  0  \n",
              "384                 1                  66.0                  0  \n",
              "163                 0                  48.0                  0  \n",
              "52                  0                  45.0                  0  \n",
              "27                  0                  41.0                  0  \n",
              "..                ...                   ...                ...  \n",
              "64                  0                  50.0                  0  \n",
              "743                 0                  80.0                  0  \n",
              "511                 0                  78.0                  1  \n",
              "771                 0                  54.0                  0  \n",
              "188                 0                  52.0                  0  \n",
              "\n",
              "[80 rows x 25 columns]"
            ]
          },
          "execution_count": 59,
          "metadata": {},
          "output_type": "execute_result"
        }
      ],
      "source": [
        "xtest"
      ]
    },
    {
      "cell_type": "code",
      "execution_count": null,
      "metadata": {
        "colab": {
          "background_save": true
        },
        "id": "bbVzZfngbuj5",
        "outputId": "2ceab0b1-9535-4af6-ded9-a5bf3fa25269"
      },
      "outputs": [
        {
          "data": {
            "text/plain": [
              "124                 Mild\n",
              "384             Moderate\n",
              "163    Moderately severe\n",
              "52              Moderate\n",
              "27                  Mild\n",
              "             ...        \n",
              "64     Moderately severe\n",
              "743               Severe\n",
              "511    Moderately severe\n",
              "771    Moderately severe\n",
              "188                 Mild\n",
              "Name: Depression severity, Length: 80, dtype: object"
            ]
          },
          "execution_count": 60,
          "metadata": {},
          "output_type": "execute_result"
        }
      ],
      "source": [
        "ytest"
      ]
    },
    {
      "cell_type": "markdown",
      "metadata": {
        "id": "QWYi7djCb5NC"
      },
      "source": [
        "## **MACHINE LEARNING ALGORITHM**"
      ]
    },
    {
      "cell_type": "markdown",
      "metadata": {
        "id": "logsc6pnd26M"
      },
      "source": [
        "# **Decision tree**"
      ]
    },
    {
      "cell_type": "code",
      "execution_count": null,
      "metadata": {
        "colab": {
          "background_save": true
        },
        "id": "bsPt81KTd5Hg"
      },
      "outputs": [],
      "source": [
        "from sklearn.model_selection import train_test_split\n",
        "xtrain,xtest,ytrain,ytest = train_test_split(x,y,test_size=.10,random_state=10)"
      ]
    },
    {
      "cell_type": "code",
      "execution_count": null,
      "metadata": {
        "colab": {
          "background_save": true
        },
        "id": "-D5V1YNpeGn6"
      },
      "outputs": [],
      "source": [
        "from sklearn.tree import DecisionTreeClassifier\n",
        "clf = DecisionTreeClassifier()"
      ]
    },
    {
      "cell_type": "code",
      "execution_count": null,
      "metadata": {
        "colab": {
          "background_save": true
        },
        "id": "nEZj5WMbegcM",
        "outputId": "0ec0e7f6-1c10-4cba-b641-184e0e2f6d59"
      },
      "outputs": [
        {
          "data": {
            "text/plain": [
              "DecisionTreeClassifier()"
            ]
          },
          "execution_count": 63,
          "metadata": {},
          "output_type": "execute_result"
        }
      ],
      "source": [
        "clf.fit(xtrain,ytrain)"
      ]
    },
    {
      "cell_type": "code",
      "execution_count": null,
      "metadata": {
        "colab": {
          "background_save": true
        },
        "id": "tP2ONba4ev44",
        "outputId": "3685e85f-0c08-4f27-d7f4-9ad87d4bcbf7"
      },
      "outputs": [
        {
          "data": {
            "text/plain": [
              "array(['Moderate', 'Mild', 'None-minimal', 'Mild', 'Mild', 'None-minimal',\n",
              "       'Moderately severe', 'Mild', 'Severe', 'Mild', 'Mild',\n",
              "       'Moderately severe', 'Moderately severe', 'Moderately severe',\n",
              "       'Severe', 'Mild', 'Moderate', 'Mild', 'Mild', 'Moderate', 'Mild',\n",
              "       'Mild', 'Moderately severe', 'Moderate', 'Moderately severe',\n",
              "       'Moderate', 'Moderate', 'Mild', 'Mild', 'Mild', 'Severe', 'Mild',\n",
              "       'Moderately severe', 'Mild', 'Mild', 'Moderate', 'Mild', 'Mild',\n",
              "       'None-minimal', 'None-minimal', 'None-minimal', 'None-minimal',\n",
              "       'None-minimal', 'None-minimal', 'Mild', 'None-minimal', 'Moderate',\n",
              "       'None-minimal', 'Severe', 'Mild', 'Mild', 'Mild', 'Moderate',\n",
              "       'Mild', 'Mild', 'Severe', 'None-minimal', 'Mild', 'Mild',\n",
              "       'None-minimal', 'Severe', 'None-minimal', 'None-minimal', 'Mild',\n",
              "       'Mild', 'Moderate', 'Moderate', 'None-minimal', 'None-minimal',\n",
              "       'None-minimal', 'Moderate', 'Mild', 'Moderately severe', 'Mild',\n",
              "       'Mild', 'Mild', 'Severe', 'Moderately severe', 'Severe', 'Severe'],\n",
              "      dtype=object)"
            ]
          },
          "execution_count": 64,
          "metadata": {},
          "output_type": "execute_result"
        }
      ],
      "source": [
        "clf.predict(xtest)"
      ]
    },
    {
      "cell_type": "code",
      "execution_count": null,
      "metadata": {
        "colab": {
          "background_save": true
        },
        "id": "1HjUBapHe5Hd",
        "outputId": "bfcfcb4a-70d9-445e-dae5-dcf157816e0e"
      },
      "outputs": [
        {
          "data": {
            "text/plain": [
              "0.325"
            ]
          },
          "execution_count": 65,
          "metadata": {},
          "output_type": "execute_result"
        }
      ],
      "source": [
        "clf.score(xtest,ytest)"
      ]
    },
    {
      "cell_type": "code",
      "execution_count": null,
      "metadata": {
        "colab": {
          "background_save": true
        },
        "id": "KtQ0LW9A-owW"
      },
      "outputs": [],
      "source": [
        "pred_tree = clf.predict(xtest)"
      ]
    },
    {
      "cell_type": "code",
      "execution_count": null,
      "metadata": {
        "colab": {
          "background_save": true
        },
        "id": "2nxCXOCL_HG8",
        "outputId": "4e8d9f6b-c1d6-4f92-a612-7caa85ffc553"
      },
      "outputs": [
        {
          "data": {
            "text/plain": [
              "0.325"
            ]
          },
          "execution_count": 67,
          "metadata": {},
          "output_type": "execute_result"
        }
      ],
      "source": [
        "from sklearn.metrics import accuracy_score\n",
        "accuracy_score(ytest,pred_tree)"
      ]
    },
    {
      "cell_type": "code",
      "execution_count": null,
      "metadata": {
        "colab": {
          "background_save": true
        },
        "id": "MrwuhncM_d-e",
        "outputId": "a8972224-933f-4581-bd49-a4bda7663f7a"
      },
      "outputs": [
        {
          "data": {
            "text/plain": [
              "<sklearn.metrics._plot.confusion_matrix.ConfusionMatrixDisplay at 0x7f2f9dbbacd0>"
            ]
          },
          "execution_count": 68,
          "metadata": {},
          "output_type": "execute_result"
        },
        {
          "data": {
            "image/png": "[encoded data removed]",
            "text/plain": [
              "<Figure size 432x288 with 2 Axes>"
            ]
          },
          "metadata": {},
          "output_type": "display_data"
        },
        {
          "data": {
            "image/png": "[encoded data removed]",
            "text/plain": [
              "<Figure size 720x720 with 2 Axes>"
            ]
          },
          "metadata": {},
          "output_type": "display_data"
        }
      ],
      "source": [
        "from sklearn.metrics import confusion_matrix\n",
        "cm = confusion_matrix(ytest,pred_tree)\n",
        "from sklearn.metrics import ConfusionMatrixDisplay\n",
        "cmp = ConfusionMatrixDisplay.from_predictions(ytest,pred_tree)\n",
        "fig, ax = plt.subplots(figsize=(10,10))\n",
        "cmp.plot(ax=ax)"
      ]
    },
    {
      "cell_type": "code",
      "execution_count": null,
      "metadata": {
        "colab": {
          "background_save": true
        },
        "id": "pVemMGh0_6bx",
        "outputId": "f37bada8-4b79-4489-dc76-0181ca4c1e56"
      },
      "outputs": [
        {
          "name": "stdout",
          "output_type": "stream",
          "text": [
            "                   precision    recall  f1-score   support\n",
            "\n",
            "             Mild       0.39      0.48      0.43        27\n",
            "         Moderate       0.08      0.06      0.07        16\n",
            "Moderately severe       0.22      0.15      0.18        13\n",
            "     None-minimal       0.53      0.43      0.47        21\n",
            "           Severe       0.11      0.33      0.17         3\n",
            "\n",
            "         accuracy                           0.33        80\n",
            "        macro avg       0.27      0.29      0.27        80\n",
            "     weighted avg       0.33      0.33      0.32        80\n",
            "\n"
          ]
        }
      ],
      "source": [
        "from sklearn.metrics import classification_report\n",
        "print(classification_report(ytest,pred_tree))"
      ]
    },
    {
      "cell_type": "markdown",
      "metadata": {
        "id": "z50dko5qfUTo"
      },
      "source": [
        "# **Random forest**"
      ]
    },
    {
      "cell_type": "code",
      "execution_count": null,
      "metadata": {
        "colab": {
          "background_save": true
        },
        "id": "nhtFbSkQfYGa"
      },
      "outputs": [],
      "source": [
        "from sklearn.model_selection import train_test_split\n",
        "xtrain,xtest,ytrain,ytest = train_test_split(x,y,test_size=.1,random_state=10)"
      ]
    },
    {
      "cell_type": "code",
      "execution_count": null,
      "metadata": {
        "colab": {
          "background_save": true
        },
        "id": "h8mw8O5LfbeB"
      },
      "outputs": [],
      "source": [
        "from sklearn.ensemble import RandomForestClassifier\n",
        "rclf = RandomForestClassifier()"
      ]
    },
    {
      "cell_type": "code",
      "execution_count": null,
      "metadata": {
        "colab": {
          "background_save": true
        },
        "id": "eLTmOCDUuTij"
      },
      "outputs": [],
      "source": [
        "# n_estimators = [5,20,50,100] # number of trees in the random forest\n",
        "# max_features = ['auto'] # number of features in consideration at every split\n",
        "# max_depth = [int(x) for x in np.linspace(10, 120, num = 12)] # maximum number of levels allowed in each decision tree\n",
        "# min_samples_split = [2 ,4 ,6, 10 , 12] # minimum sample number to split a node\n",
        "# min_samples_leaf = [1, 3, 4 , 8 ,10 ] # minimum sample number that can be stored in a leaf node\n",
        "# bootstrap = [True, False] # method used to sample data points\n",
        "# random_grid = {'n_estimators': n_estimators,\n",
        "\n",
        "# 'max_features': max_features,\n",
        "\n",
        "# 'max_depth': max_depth,\n",
        "\n",
        "# 'min_samples_split': min_samples_split,\n",
        "\n",
        "# 'min_samples_leaf': min_samples_leaf,\n",
        "\n",
        "# 'bootstrap': bootstrap }"
      ]
    },
    {
      "cell_type": "code",
      "execution_count": null,
      "metadata": {
        "colab": {
          "background_save": true
        },
        "id": "uKi04ZnbuZ6b"
      },
      "outputs": [],
      "source": [
        "# from sklearn.model_selection import RandomizedSearchCV\n",
        "# rf_random = RandomizedSearchCV ( estimator = rclf,param_distributions = random_grid,\n",
        "#                n_iter = 100, cv = 7, verbose=2, random_state=35, n_jobs = -1)\n",
        "# rclf.fit(xtrain, ytrain)"
      ]
    },
    {
      "cell_type": "code",
      "execution_count": null,
      "metadata": {
        "colab": {
          "background_save": true
        },
        "id": "lUjZFxqYugFC"
      },
      "outputs": [],
      "source": [
        "# print ('Random grid: ', random_grid, '\\n')\n",
        "# # print the best parameters\n",
        "# print ('Best Parameters: ', rf_random.best_params_, ' \\n')"
      ]
    },
    {
      "cell_type": "code",
      "execution_count": null,
      "metadata": {
        "colab": {
          "background_save": true
        },
        "id": "QH7JXK1rfq8S",
        "outputId": "458cbb18-4140-415a-a609-54b753785257"
      },
      "outputs": [
        {
          "data": {
            "text/plain": [
              "RandomForestClassifier()"
            ]
          },
          "execution_count": 75,
          "metadata": {},
          "output_type": "execute_result"
        }
      ],
      "source": [
        "rclf.fit(xtrain,ytrain)"
      ]
    },
    {
      "cell_type": "code",
      "execution_count": null,
      "metadata": {
        "colab": {
          "background_save": true
        },
        "id": "LyumJ7d8ukP3"
      },
      "outputs": [],
      "source": [
        "# randmf = RandomForestClassifier(n_estimators = 100, min_samples_split = 6, min_samples_leaf= 4, max_features = 'sqrt', max_depth= 120, bootstrap=False) \n",
        "# randmf.fit( xtrain, ytrain) "
      ]
    },
    {
      "cell_type": "code",
      "execution_count": null,
      "metadata": {
        "colab": {
          "background_save": true
        },
        "id": "ZYBC51JnuqFO",
        "outputId": "9de4e450-06a8-4553-8d15-6abeb4fa306e"
      },
      "outputs": [
        {
          "data": {
            "text/html": [
              "\n",
              "  <div id=\"df-ef7d7e7d-019a-4029-9508-20aaee32136e\">\n",
              "    <div class=\"colab-df-container\">\n",
              "      <div>\n",
              "<style scoped>\n",
              "    .dataframe tbody tr th:only-of-type {\n",
              "        vertical-align: middle;\n",
              "    }\n",
              "\n",
              "    .dataframe tbody tr th {\n",
              "        vertical-align: top;\n",
              "    }\n",
              "\n",
              "    .dataframe thead th {\n",
              "        text-align: right;\n",
              "    }\n",
              "</style>\n",
              "<table border=\"1\" class=\"dataframe\">\n",
              "  <thead>\n",
              "    <tr style=\"text-align: right;\">\n",
              "      <th></th>\n",
              "      <th>actual</th>\n",
              "      <th>predicted_prob</th>\n",
              "    </tr>\n",
              "  </thead>\n",
              "  <tbody>\n",
              "    <tr>\n",
              "      <th>124</th>\n",
              "      <td>Mild</td>\n",
              "      <td>Moderate</td>\n",
              "    </tr>\n",
              "    <tr>\n",
              "      <th>384</th>\n",
              "      <td>Moderate</td>\n",
              "      <td>None-minimal</td>\n",
              "    </tr>\n",
              "    <tr>\n",
              "      <th>163</th>\n",
              "      <td>Moderately severe</td>\n",
              "      <td>Mild</td>\n",
              "    </tr>\n",
              "    <tr>\n",
              "      <th>52</th>\n",
              "      <td>Moderate</td>\n",
              "      <td>None-minimal</td>\n",
              "    </tr>\n",
              "    <tr>\n",
              "      <th>27</th>\n",
              "      <td>Mild</td>\n",
              "      <td>Mild</td>\n",
              "    </tr>\n",
              "    <tr>\n",
              "      <th>...</th>\n",
              "      <td>...</td>\n",
              "      <td>...</td>\n",
              "    </tr>\n",
              "    <tr>\n",
              "      <th>64</th>\n",
              "      <td>Moderately severe</td>\n",
              "      <td>Mild</td>\n",
              "    </tr>\n",
              "    <tr>\n",
              "      <th>743</th>\n",
              "      <td>Severe</td>\n",
              "      <td>Severe</td>\n",
              "    </tr>\n",
              "    <tr>\n",
              "      <th>511</th>\n",
              "      <td>Moderately severe</td>\n",
              "      <td>Moderate</td>\n",
              "    </tr>\n",
              "    <tr>\n",
              "      <th>771</th>\n",
              "      <td>Moderately severe</td>\n",
              "      <td>Moderate</td>\n",
              "    </tr>\n",
              "    <tr>\n",
              "      <th>188</th>\n",
              "      <td>Mild</td>\n",
              "      <td>Mild</td>\n",
              "    </tr>\n",
              "  </tbody>\n",
              "</table>\n",
              "<p>80 rows × 2 columns</p>\n",
              "</div>\n",
              "      <button class=\"colab-df-convert\" onclick=\"convertToInteractive('df-ef7d7e7d-019a-4029-9508-20aaee32136e')\"\n",
              "              title=\"Convert this dataframe to an interactive table.\"\n",
              "              style=\"display:none;\">\n",
              "        \n",
              "  <svg xmlns=\"http://www.w3.org/2000/svg\" height=\"24px\"viewBox=\"0 0 24 24\"\n",
              "       width=\"24px\">\n",
              "    <path d=\"M0 0h24v24H0V0z\" fill=\"none\"/>\n",
              "    <path d=\"M18.56 5.44l.94 2.06.94-2.06 2.06-.94-2.06-.94-.94-2.06-.94 2.06-2.06.94zm-11 1L8.5 8.5l.94-2.06 2.06-.94-2.06-.94L8.5 2.5l-.94 2.06-2.06.94zm10 10l.94 2.06.94-2.06 2.06-.94-2.06-.94-.94-2.06-.94 2.06-2.06.94z\"/><path d=\"M17.41 7.96l-1.37-1.37c-.4-.4-.92-.59-1.43-.59-.52 0-1.04.2-1.43.59L10.3 9.45l-7.72 7.72c-.78.78-.78 2.05 0 2.83L4 21.41c.39.39.9.59 1.41.59.51 0 1.02-.2 1.41-.59l7.78-7.78 2.81-2.81c.8-.78.8-2.07 0-2.86zM5.41 20L4 18.59l7.72-7.72 1.47 1.35L5.41 20z\"/>\n",
              "  </svg>\n",
              "      </button>\n",
              "      \n",
              "  <style>\n",
              "    .colab-df-container {\n",
              "      display:flex;\n",
              "      flex-wrap:wrap;\n",
              "      gap: 12px;\n",
              "    }\n",
              "\n",
              "    .colab-df-convert {\n",
              "      background-color: #E8F0FE;\n",
              "      border: none;\n",
              "      border-radius: 50%;\n",
              "      cursor: pointer;\n",
              "      display: none;\n",
              "      fill: #1967D2;\n",
              "      height: 32px;\n",
              "      padding: 0 0 0 0;\n",
              "      width: 32px;\n",
              "    }\n",
              "\n",
              "    .colab-df-convert:hover {\n",
              "      background-color: #E2EBFA;\n",
              "      box-shadow: 0px 1px 2px rgba(60, 64, 67, 0.3), 0px 1px 3px 1px rgba(60, 64, 67, 0.15);\n",
              "      fill: #174EA6;\n",
              "    }\n",
              "\n",
              "    [theme=dark] .colab-df-convert {\n",
              "      background-color: #3B4455;\n",
              "      fill: #D2E3FC;\n",
              "    }\n",
              "\n",
              "    [theme=dark] .colab-df-convert:hover {\n",
              "      background-color: #434B5C;\n",
              "      box-shadow: 0px 1px 3px 1px rgba(0, 0, 0, 0.15);\n",
              "      filter: drop-shadow(0px 1px 2px rgba(0, 0, 0, 0.3));\n",
              "      fill: #FFFFFF;\n",
              "    }\n",
              "  </style>\n",
              "\n",
              "      <script>\n",
              "        const buttonEl =\n",
              "          document.querySelector('#df-ef7d7e7d-019a-4029-9508-20aaee32136e button.colab-df-convert');\n",
              "        buttonEl.style.display =\n",
              "          google.colab.kernel.accessAllowed ? 'block' : 'none';\n",
              "\n",
              "        async function convertToInteractive(key) {\n",
              "          const element = document.querySelector('#df-ef7d7e7d-019a-4029-9508-20aaee32136e');\n",
              "          const dataTable =\n",
              "            await google.colab.kernel.invokeFunction('convertToInteractive',\n",
              "                                                     [key], {});\n",
              "          if (!dataTable) return;\n",
              "\n",
              "          const docLinkHtml = 'Like what you see? Visit the ' +\n",
              "            '<a target=\"_blank\" href=https://colab.research.google.com/notebooks/data_table.ipynb>data table notebook</a>'\n",
              "            + ' to learn more about interactive tables.';\n",
              "          element.innerHTML = '';\n",
              "          dataTable['output_type'] = 'display_data';\n",
              "          await google.colab.output.renderOutput(dataTable, element);\n",
              "          const docLink = document.createElement('div');\n",
              "          docLink.innerHTML = docLinkHtml;\n",
              "          element.appendChild(docLink);\n",
              "        }\n",
              "      </script>\n",
              "    </div>\n",
              "  </div>\n",
              "  "
            ],
            "text/plain": [
              "                actual predicted_prob\n",
              "124               Mild       Moderate\n",
              "384           Moderate   None-minimal\n",
              "163  Moderately severe           Mild\n",
              "52            Moderate   None-minimal\n",
              "27                Mild           Mild\n",
              "..                 ...            ...\n",
              "64   Moderately severe           Mild\n",
              "743             Severe         Severe\n",
              "511  Moderately severe       Moderate\n",
              "771  Moderately severe       Moderate\n",
              "188               Mild           Mild\n",
              "\n",
              "[80 rows x 2 columns]"
            ]
          },
          "execution_count": 77,
          "metadata": {},
          "output_type": "execute_result"
        }
      ],
      "source": [
        "y_pred_rf1 = pd.DataFrame( { \"actual\": ytest, \n",
        "\"predicted_prob\": rclf.predict( \n",
        "( xtest ) ) } ) \n",
        "y_pred_rf1 "
      ]
    },
    {
      "cell_type": "code",
      "execution_count": null,
      "metadata": {
        "colab": {
          "background_save": true
        },
        "id": "uEhLDUfNfwqp",
        "outputId": "ac4ba674-a341-4406-d54a-7443ccc080cd"
      },
      "outputs": [
        {
          "data": {
            "text/plain": [
              "array(['Moderate', 'None-minimal', 'Mild', 'None-minimal', 'Mild',\n",
              "       'None-minimal', 'Mild', 'Mild', 'Mild', 'Mild', 'Mild', 'Moderate',\n",
              "       'Moderate', 'Moderate', 'Mild', 'Mild', 'Mild', 'Mild',\n",
              "       'None-minimal', 'Mild', 'Mild', 'Mild', 'Moderate', 'None-minimal',\n",
              "       'Moderately severe', 'Moderate', 'Moderate', 'Mild', 'Moderate',\n",
              "       'Mild', 'Mild', 'Mild', 'Mild', 'Mild', 'Mild', 'Mild', 'Mild',\n",
              "       'None-minimal', 'None-minimal', 'Mild', 'Mild', 'None-minimal',\n",
              "       'None-minimal', 'Mild', 'Mild', 'Mild', 'Mild', 'Mild', 'Mild',\n",
              "       'Mild', 'Mild', 'Mild', 'Mild', 'Mild', 'Mild', 'Mild', 'Mild',\n",
              "       'None-minimal', 'Mild', 'None-minimal', 'Mild', 'Moderate', 'Mild',\n",
              "       'Mild', 'None-minimal', 'Mild', 'None-minimal', 'None-minimal',\n",
              "       'Moderate', 'Mild', 'Mild', 'Mild', 'None-minimal', 'Mild', 'Mild',\n",
              "       'Mild', 'Severe', 'Moderate', 'Moderate', 'Mild'], dtype=object)"
            ]
          },
          "execution_count": 78,
          "metadata": {},
          "output_type": "execute_result"
        }
      ],
      "source": [
        "rclf.predict(xtest)"
      ]
    },
    {
      "cell_type": "code",
      "execution_count": null,
      "metadata": {
        "colab": {
          "background_save": true
        },
        "id": "Dk1BZp-Ff2wN",
        "outputId": "68bbc9a3-02f1-4664-b81a-b06f348517b5"
      },
      "outputs": [
        {
          "data": {
            "text/plain": [
              "0.35"
            ]
          },
          "execution_count": 79,
          "metadata": {},
          "output_type": "execute_result"
        }
      ],
      "source": [
        "rclf.score(xtest,ytest)"
      ]
    },
    {
      "cell_type": "code",
      "execution_count": null,
      "metadata": {
        "colab": {
          "background_save": true
        },
        "id": "3QYhPk4SAYdz"
      },
      "outputs": [],
      "source": [
        "pred_tree = rclf.predict(xtest)"
      ]
    },
    {
      "cell_type": "code",
      "execution_count": null,
      "metadata": {
        "colab": {
          "background_save": true
        },
        "id": "9rZjHVHGAeYy",
        "outputId": "9763a5de-ae6e-4495-9345-e895c844cb21"
      },
      "outputs": [
        {
          "data": {
            "text/plain": [
              "0.35"
            ]
          },
          "execution_count": 81,
          "metadata": {},
          "output_type": "execute_result"
        }
      ],
      "source": [
        "from sklearn.metrics import accuracy_score\n",
        "accuracy_score(ytest,pred_tree)"
      ]
    },
    {
      "cell_type": "code",
      "execution_count": null,
      "metadata": {
        "colab": {
          "background_save": true
        },
        "id": "OfDhTzNCAfDi",
        "outputId": "838fae58-df3b-4327-f821-5b0ec2ae6ad6"
      },
      "outputs": [
        {
          "data": {
            "text/plain": [
              "<sklearn.metrics._plot.confusion_matrix.ConfusionMatrixDisplay at 0x7f2f9dbc0670>"
            ]
          },
          "execution_count": 82,
          "metadata": {},
          "output_type": "execute_result"
        },
        {
          "data": {
            "image/png": "[encoded data removed]",
            "text/plain": [
              "<Figure size 432x288 with 2 Axes>"
            ]
          },
          "metadata": {},
          "output_type": "display_data"
        },
        {
          "data": {
            "image/png": "[encoded data removed]",
            "text/plain": [
              "<Figure size 720x720 with 2 Axes>"
            ]
          },
          "metadata": {},
          "output_type": "display_data"
        }
      ],
      "source": [
        "from sklearn.metrics import confusion_matrix\n",
        "cm = confusion_matrix(ytest,pred_tree)\n",
        "from sklearn.metrics import ConfusionMatrixDisplay\n",
        "cmp = ConfusionMatrixDisplay.from_predictions(ytest,pred_tree)\n",
        "fig, ax = plt.subplots(figsize=(10,10))\n",
        "cmp.plot(ax=ax)"
      ]
    },
    {
      "cell_type": "code",
      "execution_count": null,
      "metadata": {
        "colab": {
          "background_save": true
        },
        "id": "Kpg4xiWuAhCx",
        "outputId": "ec3abd04-434b-4c8b-f46e-1e6c2d9174da"
      },
      "outputs": [
        {
          "name": "stdout",
          "output_type": "stream",
          "text": [
            "                   precision    recall  f1-score   support\n",
            "\n",
            "             Mild       0.35      0.67      0.46        27\n",
            "         Moderate       0.17      0.12      0.14        16\n",
            "Moderately severe       1.00      0.08      0.14        13\n",
            "     None-minimal       0.40      0.29      0.33        21\n",
            "           Severe       1.00      0.33      0.50         3\n",
            "\n",
            "         accuracy                           0.35        80\n",
            "        macro avg       0.58      0.30      0.32        80\n",
            "     weighted avg       0.46      0.35      0.31        80\n",
            "\n"
          ]
        }
      ],
      "source": [
        "from sklearn.metrics import classification_report\n",
        "print(classification_report(ytest,pred_tree))"
      ]
    },
    {
      "cell_type": "markdown",
      "metadata": {
        "id": "V3IlUD1vIm9a"
      },
      "source": [
        "# **SVM**"
      ]
    },
    {
      "cell_type": "code",
      "execution_count": null,
      "metadata": {
        "colab": {
          "background_save": true
        },
        "id": "fGodZJsZzBfG"
      },
      "outputs": [],
      "source": [
        "from sklearn.model_selection import train_test_split\n",
        "xtrain,xtest,ytrain,ytest = train_test_split(x,y,test_size=.1,random_state=50)"
      ]
    },
    {
      "cell_type": "code",
      "execution_count": null,
      "metadata": {
        "colab": {
          "background_save": true
        },
        "id": "UH05krYyCxko"
      },
      "outputs": [],
      "source": [
        "from sklearn.preprocessing import MinMaxScaler\n",
        "scaling = MinMaxScaler(feature_range=(-1,1)).fit(xtrain)\n",
        "xtrain = scaling.transform(xtrain)\n",
        "xtest = scaling.transform(xtest)\n",
        "\n",
        "from sklearn import svm"
      ]
    },
    {
      "cell_type": "code",
      "execution_count": null,
      "metadata": {
        "colab": {
          "background_save": true
        },
        "id": "D1nSfNDIC3He",
        "outputId": "b4cd8679-56f0-44cc-deb4-f282bef81e28"
      },
      "outputs": [
        {
          "data": {
            "text/plain": [
              "SVC(C=10)"
            ]
          },
          "execution_count": 86,
          "metadata": {},
          "output_type": "execute_result"
        }
      ],
      "source": [
        "classif = svm.SVC( kernel = 'rbf', gamma='scale' , C=10 )\n",
        "\n",
        "classif.fit(xtrain,ytrain)"
      ]
    },
    {
      "cell_type": "code",
      "execution_count": null,
      "metadata": {
        "colab": {
          "background_save": true
        },
        "id": "BTRH_t3yC8kB"
      },
      "outputs": [],
      "source": [
        "y_predict = classif.predict(xtest)"
      ]
    },
    {
      "cell_type": "code",
      "execution_count": null,
      "metadata": {
        "colab": {
          "background_save": true
        },
        "id": "gxO45e7IC_WS",
        "outputId": "9346d790-dcca-49cc-ba73-ee177e36b9d5"
      },
      "outputs": [
        {
          "data": {
            "text/plain": [
              "<sklearn.metrics._plot.confusion_matrix.ConfusionMatrixDisplay at 0x7f2f9d55a940>"
            ]
          },
          "execution_count": 88,
          "metadata": {},
          "output_type": "execute_result"
        },
        {
          "data": {
            "image/png": "[encoded data removed]",
            "text/plain": [
              "<Figure size 432x288 with 2 Axes>"
            ]
          },
          "metadata": {},
          "output_type": "display_data"
        },
        {
          "data": {
            "image/png": "[encoded data removed]",
            "text/plain": [
              "<Figure size 720x720 with 2 Axes>"
            ]
          },
          "metadata": {},
          "output_type": "display_data"
        }
      ],
      "source": [
        "from sklearn.metrics import confusion_matrix\n",
        "cm = confusion_matrix(ytest,pred_tree)\n",
        "from sklearn.metrics import ConfusionMatrixDisplay\n",
        "cmp = ConfusionMatrixDisplay.from_predictions(ytest,pred_tree)\n",
        "fig, ax = plt.subplots(figsize=(10,10))\n",
        "cmp.plot(ax=ax)"
      ]
    },
    {
      "cell_type": "code",
      "execution_count": null,
      "metadata": {
        "colab": {
          "background_save": true
        },
        "id": "Th1iDmfZDBrS",
        "outputId": "0ea354ff-2160-43f0-e7ae-0982fdad8af4"
      },
      "outputs": [
        {
          "name": "stdout",
          "output_type": "stream",
          "text": [
            "                   precision    recall  f1-score   support\n",
            "\n",
            "             Mild       0.41      0.55      0.47        33\n",
            "         Moderate       0.12      0.07      0.09        14\n",
            "Moderately severe       0.00      0.00      0.00         4\n",
            "     None-minimal       0.56      0.39      0.46        23\n",
            "           Severe       0.50      0.33      0.40         6\n",
            "\n",
            "         accuracy                           0.38        80\n",
            "        macro avg       0.32      0.27      0.28        80\n",
            "     weighted avg       0.39      0.38      0.37        80\n",
            "\n"
          ]
        }
      ],
      "source": [
        "from sklearn.metrics import classification_report\n",
        "print(classification_report(ytest,y_predict))"
      ]
    },
    {
      "cell_type": "code",
      "execution_count": null,
      "metadata": {
        "colab": {
          "background_save": true
        },
        "id": "aFx71L7PIl7J"
      },
      "outputs": [],
      "source": [
        "# from sklearn.model_selection import train_test_split\n",
        "# xtrain,xtest,ytrain,ytest = train_test_split(x,y,test_size=.1,random_state=50)\n",
        "\n",
        "# from sklearn.preprocessing import MinMaxScaler\n",
        "# scaling = MinMaxScaler(feature_range=(-1,1)).fit(xtrain)\n",
        "# xtrain = scaling.transform(xtrain)\n",
        "# xtest = scaling.transform(xtest)\n",
        "\n",
        "# from sklearn import svm\n",
        "\n",
        "# classif = svm.SVC( kernel = 'rbf', gamma='scale' , C=2 )\n",
        "\n",
        "# classif.fit(xtrain,ytrain)\n",
        "\n",
        "\n",
        "# pred_tree = classif.predict(xtest)\n",
        "\n",
        "# from sklearn.metrics import confusion_matrix\n",
        "# cm = confusion_matrix(ytest,pred_tree)\n",
        "# from sklearn.metrics import ConfusionMatrixDisplay\n",
        "# cmp = ConfusionMatrixDisplay.from_predictions(ytest,pred_tree)\n",
        "# fig, ax = plt.subplots(figsize=(10,10))\n",
        "# cmp.plot(ax=ax)\n",
        "\n",
        "\n",
        "# from sklearn.metrics import classification_report\n",
        "\n",
        "# print(classification_report(ytest,pred_tree))\n"
      ]
    },
    {
      "cell_type": "code",
      "execution_count": null,
      "metadata": {
        "colab": {
          "background_save": true
        },
        "id": "x0GswV1_1Z2a"
      },
      "outputs": [],
      "source": [
        "import matplotlib.pyplot as plt\n",
        "import numpy as np\n",
        "from sklearn.model_selection import validation_curve"
      ]
    },
    {
      "cell_type": "code",
      "execution_count": null,
      "metadata": {
        "colab": {
          "background_save": true
        },
        "id": "k8s3xjQY1boF"
      },
      "outputs": [],
      "source": [
        "param_range = np.logspace(-6, -1, 5)\n",
        "train_scores, test_scores = validation_curve(svm.SVC(),\n",
        "    x,\n",
        "    y,\n",
        "    param_name=\"gamma\",\n",
        "    param_range=param_range,\n",
        "    scoring=\"accuracy\",\n",
        "    n_jobs=2,\n",
        ")"
      ]
    },
    {
      "cell_type": "code",
      "execution_count": null,
      "metadata": {
        "colab": {
          "background_save": true
        },
        "id": "jNwkwLVv1cQh",
        "outputId": "105427c3-a436-4e75-8314-a9a8a863af2a"
      },
      "outputs": [
        {
          "data": {
            "image/png": "[encoded data removed]",
            "text/plain": [
              "<Figure size 504x504 with 1 Axes>"
            ]
          },
          "metadata": {},
          "output_type": "display_data"
        }
      ],
      "source": [
        "    # Calculating mean and standard deviation for training set scores\n",
        "    train_mean = np.mean(train_scores, axis=1)\n",
        "    train_std = np.std(train_scores, axis=1)\n",
        "\n",
        "    # Calculating mean and standard deviation for test set scores\n",
        "    test_mean = np.mean(test_scores, axis=1)\n",
        "    test_std = np.std(test_scores, axis=1)\n",
        "\n",
        "    # Plotting mean accuracy scores for training and test sets\n",
        "    plt.subplots(1, figsize=(7,7))\n",
        "    plt.plot(param_range, train_mean, label=\"Training score\", color = 'b')\n",
        "    plt.plot(param_range, test_mean, label=\"Cross-validation score\", color = 'g')\n",
        "\n",
        "    # Plotting accurancy bands for training and test sets\n",
        "    #plt.fill_between(param_range, train_mean - train_std, train_mean + train_std, color=\"gray\")\n",
        "    # plt.fill_between(param_range, test_mean - test_std, test_mean + test_std, color=\"gainsboro\")\n",
        "\n",
        "    # Creating plot    \n",
        "    plt.title(\"Validation Curve With SVM\")\n",
        "    plt.xlabel(\"Number Of Trees\")\n",
        "    plt.ylabel(\"Accuracy Score\")\n",
        "    plt.tight_layout()\n",
        "    plt.legend(loc=\"best\")\n",
        "    plt.show()"
      ]
    },
    {
      "cell_type": "code",
      "execution_count": null,
      "metadata": {
        "colab": {
          "background_save": true
        },
        "id": "BY1MhGpO1eok"
      },
      "outputs": [],
      "source": [
        "from sklearn.ensemble import RandomForestClassifier\n",
        "from sklearn.preprocessing import LabelEncoder, OrdinalEncoder\n",
        "from sklearn.model_selection import train_test_split as tts\n",
        "from yellowbrick.classifier import PrecisionRecallCurve\n",
        "from yellowbrick.datasets import load_game"
      ]
    },
    {
      "cell_type": "code",
      "execution_count": null,
      "metadata": {
        "colab": {
          "background_save": true
        },
        "id": "vhP4S4SM1hyV"
      },
      "outputs": [],
      "source": [
        "X = OrdinalEncoder().fit_transform(x)\n",
        "encoder = LabelEncoder()\n",
        "Y = encoder.fit_transform(y)\n",
        "\n",
        "X_train, X_test, y_train, y_test = tts(X, Y, test_size=0.2, shuffle=True)"
      ]
    },
    {
      "cell_type": "code",
      "execution_count": null,
      "metadata": {
        "colab": {
          "background_save": true
        },
        "id": "ZX4C4d1g1iQv",
        "outputId": "ea941e9f-ac27-4123-d863-4ba6f3ab2e35"
      },
      "outputs": [
        {
          "data": {
            "image/png": "[encoded data removed]",
            "text/plain": [
              "<Figure size 576x396 with 1 Axes>"
            ]
          },
          "metadata": {},
          "output_type": "display_data"
        },
        {
          "data": {
            "text/plain": [
              "<matplotlib.axes._subplots.AxesSubplot at 0x7f2f9d633220>"
            ]
          },
          "execution_count": 96,
          "metadata": {},
          "output_type": "execute_result"
        }
      ],
      "source": [
        "viz = PrecisionRecallCurve(\n",
        "    svm.SVC(),\n",
        "classes=encoder.classes_,\n",
        "    colors=[\"purple\", \"cyan\", \"blue\"],\n",
        "    iso_f1_curves=True,\n",
        "    per_class=True,\n",
        "    micro=False\n",
        ")\n",
        "viz.fit(X_train, y_train)\n",
        "viz.score(X_test, y_test)\n",
        "viz.show()"
      ]
    },
    {
      "cell_type": "markdown",
      "metadata": {
        "id": "Aj7Lf2d-J9Vc"
      },
      "source": [
        "# **ADA Boost**"
      ]
    },
    {
      "cell_type": "code",
      "execution_count": null,
      "metadata": {
        "colab": {
          "background_save": true
        },
        "id": "ggITFE-JHwDA"
      },
      "outputs": [],
      "source": [
        "from sklearn.model_selection import train_test_split\n",
        "xtrain,xtest,ytrain,ytest = train_test_split(x,y,test_size=.10,random_state=10)"
      ]
    },
    {
      "cell_type": "code",
      "execution_count": null,
      "metadata": {
        "colab": {
          "background_save": true
        },
        "id": "I7K38jJjHtLw"
      },
      "outputs": [],
      "source": [
        "from sklearn.ensemble import AdaBoostClassifier\n",
        "from sklearn.datasets import make_classification"
      ]
    },
    {
      "cell_type": "code",
      "execution_count": null,
      "metadata": {
        "colab": {
          "background_save": true
        },
        "id": "DvkRTG07ILtj"
      },
      "outputs": [],
      "source": [
        "ada = AdaBoostClassifier(n_estimators=100, random_state=0)"
      ]
    },
    {
      "cell_type": "code",
      "execution_count": null,
      "metadata": {
        "colab": {
          "background_save": true
        },
        "id": "DY4rzEPsIZRe",
        "outputId": "c876d6be-3049-4c6e-ce95-b271c9b1abf3"
      },
      "outputs": [
        {
          "data": {
            "text/plain": [
              "AdaBoostClassifier(n_estimators=100, random_state=0)"
            ]
          },
          "execution_count": 100,
          "metadata": {},
          "output_type": "execute_result"
        }
      ],
      "source": [
        "ada.fit(xtrain,ytrain)"
      ]
    },
    {
      "cell_type": "code",
      "execution_count": null,
      "metadata": {
        "colab": {
          "background_save": true
        },
        "id": "GSBnNWW-IgsQ",
        "outputId": "2f830a46-04c2-44b5-f288-f8808ee238e7"
      },
      "outputs": [
        {
          "data": {
            "text/plain": [
              "array(['Moderate', 'Mild', 'Moderately severe', 'None-minimal',\n",
              "       'Moderate', 'None-minimal', 'None-minimal', 'Mild', 'Mild',\n",
              "       'Severe', 'Mild', 'Severe', 'Moderate', 'None-minimal',\n",
              "       'None-minimal', 'Mild', 'None-minimal', 'Moderate', 'None-minimal',\n",
              "       'None-minimal', 'Mild', 'Mild', 'Moderate', 'None-minimal',\n",
              "       'Moderately severe', 'None-minimal', 'None-minimal',\n",
              "       'None-minimal', 'Moderate', 'Moderate', 'Mild', 'Mild', 'Mild',\n",
              "       'Mild', 'None-minimal', 'Mild', 'Mild', 'None-minimal', 'Mild',\n",
              "       'Moderately severe', 'Moderately severe', 'None-minimal',\n",
              "       'None-minimal', 'Moderate', 'None-minimal', 'Moderate', 'Mild',\n",
              "       'None-minimal', 'Severe', 'Mild', 'None-minimal', 'Mild',\n",
              "       'Moderate', 'None-minimal', 'Mild', 'None-minimal', 'Mild',\n",
              "       'Moderately severe', 'Mild', 'None-minimal', 'Mild',\n",
              "       'None-minimal', 'None-minimal', 'Mild', 'None-minimal', 'Severe',\n",
              "       'Mild', 'None-minimal', 'Moderate', 'Mild', 'Mild',\n",
              "       'Moderately severe', 'Moderate', 'Moderate', 'Mild', 'Mild',\n",
              "       'Severe', 'None-minimal', 'Moderate', 'Mild'], dtype=object)"
            ]
          },
          "execution_count": 101,
          "metadata": {},
          "output_type": "execute_result"
        }
      ],
      "source": [
        "ada.predict(xtest)"
      ]
    },
    {
      "cell_type": "code",
      "execution_count": null,
      "metadata": {
        "colab": {
          "background_save": true
        },
        "id": "DHwvGwoRIraO",
        "outputId": "6fde8337-fa23-460c-f47d-8bb6fdede7de"
      },
      "outputs": [
        {
          "data": {
            "text/plain": [
              "0.275"
            ]
          },
          "execution_count": 102,
          "metadata": {},
          "output_type": "execute_result"
        }
      ],
      "source": [
        "ada.score(xtest,ytest)"
      ]
    },
    {
      "cell_type": "code",
      "execution_count": null,
      "metadata": {
        "colab": {
          "background_save": true
        },
        "id": "AOovx-hXI_R_",
        "outputId": "d518bcdd-737b-46d8-8eb9-f0439f870b0d"
      },
      "outputs": [
        {
          "data": {
            "text/plain": [
              "0.275"
            ]
          },
          "execution_count": 103,
          "metadata": {},
          "output_type": "execute_result"
        }
      ],
      "source": [
        "pred_tree = ada.predict(xtest)\n",
        "from sklearn.metrics import accuracy_score\n",
        "accuracy_score(ytest,pred_tree)"
      ]
    },
    {
      "cell_type": "code",
      "execution_count": null,
      "metadata": {
        "colab": {
          "background_save": true
        },
        "id": "HWWmwFsCClzj",
        "outputId": "43f35ad0-7389-4126-c958-f7ff5955d9c5"
      },
      "outputs": [
        {
          "data": {
            "text/plain": [
              "<sklearn.metrics._plot.confusion_matrix.ConfusionMatrixDisplay at 0x7f2f9daeadc0>"
            ]
          },
          "execution_count": 104,
          "metadata": {},
          "output_type": "execute_result"
        },
        {
          "data": {
            "image/png": "[encoded data removed]",
            "text/plain": [
              "<Figure size 576x396 with 2 Axes>"
            ]
          },
          "metadata": {},
          "output_type": "display_data"
        },
        {
          "data": {
            "image/png": "[encoded data removed]",
            "text/plain": [
              "<Figure size 720x720 with 2 Axes>"
            ]
          },
          "metadata": {},
          "output_type": "display_data"
        }
      ],
      "source": [
        "from sklearn.metrics import confusion_matrix\n",
        "cm = confusion_matrix(ytest,pred_tree)\n",
        "from sklearn.metrics import ConfusionMatrixDisplay\n",
        "cmp = ConfusionMatrixDisplay.from_predictions(ytest,pred_tree)\n",
        "fig, ax = plt.subplots(figsize=(10,10))\n",
        "cmp.plot(ax=ax)"
      ]
    },
    {
      "cell_type": "code",
      "execution_count": null,
      "metadata": {
        "colab": {
          "background_save": true
        },
        "id": "n2lWEr-EJGWW",
        "outputId": "470dc585-201c-473f-a85e-1e31ebc8c2af"
      },
      "outputs": [
        {
          "name": "stdout",
          "output_type": "stream",
          "text": [
            "                   precision    recall  f1-score   support\n",
            "\n",
            "             Mild       0.32      0.33      0.33        27\n",
            "         Moderate       0.14      0.12      0.13        16\n",
            "Moderately severe       0.33      0.15      0.21        13\n",
            "     None-minimal       0.30      0.38      0.33        21\n",
            "           Severe       0.20      0.33      0.25         3\n",
            "\n",
            "         accuracy                           0.28        80\n",
            "        macro avg       0.26      0.27      0.25        80\n",
            "     weighted avg       0.28      0.28      0.27        80\n",
            "\n"
          ]
        }
      ],
      "source": [
        "from sklearn.metrics import classification_report\n",
        "print(classification_report(ytest,pred_tree))"
      ]
    },
    {
      "cell_type": "markdown",
      "metadata": {
        "id": "m6XLOjNGJ7D_"
      },
      "source": [
        "# **KNN**"
      ]
    },
    {
      "cell_type": "code",
      "execution_count": null,
      "metadata": {
        "colab": {
          "background_save": true
        },
        "id": "epl6Z9rDJ1R0"
      },
      "outputs": [],
      "source": [
        "from sklearn.model_selection import train_test_split\n",
        "xtrain,xtest,ytrain,ytest = train_test_split(x,y,test_size=.10,random_state=10)"
      ]
    },
    {
      "cell_type": "code",
      "execution_count": null,
      "metadata": {
        "colab": {
          "background_save": true
        },
        "id": "de6HwvFeCLjl"
      },
      "outputs": [],
      "source": [
        "from sklearn.neighbors import KNeighborsClassifier"
      ]
    },
    {
      "cell_type": "code",
      "execution_count": null,
      "metadata": {
        "colab": {
          "background_save": true
        },
        "id": "NIyXuYNI_NUy",
        "outputId": "786604d2-fe5c-4fab-b47f-7b690861299d"
      },
      "outputs": [
        {
          "name": "stdout",
          "output_type": "stream",
          "text": [
            "Minimum error:- 0.6625 at K = 6\n"
          ]
        },
        {
          "data": {
            "image/png": "[encoded data removed]",
            "text/plain": [
              "<Figure size 720x432 with 1 Axes>"
            ]
          },
          "metadata": {},
          "output_type": "display_data"
        }
      ],
      "source": [
        "error_rate = []\n",
        "for i in range(1,40):\n",
        " knn = KNeighborsClassifier(n_neighbors=i)\n",
        " knn.fit(xtrain,ytrain)\n",
        " pred_i = knn.predict(xtest)\n",
        " error_rate.append(np.mean(pred_i != ytest))\n",
        "\n",
        "plt.figure(figsize=(10,6))\n",
        "plt.plot(range(1,40),error_rate,color='blue', linestyle='dashed', \n",
        "         marker='o',markerfacecolor='red', markersize=10)\n",
        "plt.title('Error Rate vs. K Value')\n",
        "plt.xlabel('K')\n",
        "plt.ylabel('Error Rate')\n",
        "print(\"Minimum error:-\",min(error_rate),\"at K =\",error_rate.index(min(error_rate)))"
      ]
    },
    {
      "cell_type": "code",
      "execution_count": null,
      "metadata": {
        "colab": {
          "background_save": true
        },
        "id": "o_l-TiqZ_fNJ",
        "outputId": "1488769f-7a82-4e44-86a0-087970cd4689"
      },
      "outputs": [
        {
          "name": "stdout",
          "output_type": "stream",
          "text": [
            "Maximum accuracy:- 0.3375 at K = 6\n"
          ]
        },
        {
          "data": {
            "image/png": "[encoded data removed]",
            "text/plain": [
              "<Figure size 720x432 with 1 Axes>"
            ]
          },
          "metadata": {},
          "output_type": "display_data"
        }
      ],
      "source": [
        "acc = []\n",
        "from sklearn import metrics\n",
        "for i in range(1,40):\n",
        "    neigh = KNeighborsClassifier(n_neighbors = i).fit(xtrain,ytrain)\n",
        "    yhat = neigh.predict(xtest)\n",
        "    acc.append(metrics.accuracy_score(ytest, yhat))\n",
        "    \n",
        "plt.figure(figsize=(10,6))\n",
        "plt.plot(range(1,40),acc,color = 'blue',linestyle='dashed', \n",
        "         marker='o',markerfacecolor='red', markersize=10)\n",
        "plt.title('accuracy vs. K Value')\n",
        "plt.xlabel('K')\n",
        "plt.ylabel('Accuracy')\n",
        "print(\"Maximum accuracy:-\",max(acc),\"at K =\",acc.index(max(acc)))\n",
        "n = acc.index(max(acc))"
      ]
    },
    {
      "cell_type": "code",
      "execution_count": null,
      "metadata": {
        "colab": {
          "background_save": true
        },
        "id": "STg1yBqAJ_a9"
      },
      "outputs": [],
      "source": [
        "neigh = KNeighborsClassifier(n_neighbors=n)"
      ]
    },
    {
      "cell_type": "code",
      "execution_count": null,
      "metadata": {
        "colab": {
          "background_save": true
        },
        "id": "EcH0qYyrKIWf",
        "outputId": "107bdad4-51d5-4afe-c770-3c904773d06b"
      },
      "outputs": [
        {
          "data": {
            "text/plain": [
              "KNeighborsClassifier(n_neighbors=6)"
            ]
          },
          "execution_count": 111,
          "metadata": {},
          "output_type": "execute_result"
        }
      ],
      "source": [
        "neigh.fit(xtrain,ytrain)"
      ]
    },
    {
      "cell_type": "code",
      "execution_count": null,
      "metadata": {
        "colab": {
          "background_save": true
        },
        "id": "xN9yUO-7KQnX",
        "outputId": "08cfa3c1-303e-477a-de4a-3a54f876bb83"
      },
      "outputs": [
        {
          "data": {
            "text/plain": [
              "array(['Moderate', 'Mild', 'Mild', 'None-minimal', 'Mild', 'None-minimal',\n",
              "       'Moderate', 'Mild', 'None-minimal', 'Mild', 'Mild',\n",
              "       'Moderately severe', 'Mild', 'Moderate', 'Mild', 'Mild', 'Mild',\n",
              "       'Mild', 'Moderately severe', 'Moderate', 'Mild', 'Mild', 'Mild',\n",
              "       'Mild', 'Moderate', 'Mild', 'None-minimal', 'Mild', 'Moderate',\n",
              "       'Mild', 'Mild', 'Moderate', 'Mild', 'Mild', 'Mild', 'Mild', 'Mild',\n",
              "       'None-minimal', 'Mild', 'None-minimal', 'None-minimal', 'Mild',\n",
              "       'Mild', 'None-minimal', 'Mild', 'Moderate', 'Mild', 'Moderate',\n",
              "       'Mild', 'Mild', 'Mild', 'Moderate', 'Moderate', 'Mild', 'Mild',\n",
              "       'Mild', 'Moderate', 'Mild', 'Mild', 'Moderately severe', 'Mild',\n",
              "       'None-minimal', 'Mild', 'Mild', 'None-minimal', 'Mild',\n",
              "       'None-minimal', 'Mild', 'None-minimal', 'None-minimal', 'Mild',\n",
              "       'Moderately severe', 'Mild', 'Mild', 'None-minimal', 'Mild',\n",
              "       'Mild', 'None-minimal', 'Mild', 'Mild'], dtype=object)"
            ]
          },
          "execution_count": 112,
          "metadata": {},
          "output_type": "execute_result"
        }
      ],
      "source": [
        "neigh.predict(xtest)"
      ]
    },
    {
      "cell_type": "code",
      "execution_count": null,
      "metadata": {
        "colab": {
          "background_save": true
        },
        "id": "bOV-IpX_KW3T",
        "outputId": "c83eda49-41a2-4be0-cf8e-5a1e01ea8ad2"
      },
      "outputs": [
        {
          "data": {
            "text/plain": [
              "0.325"
            ]
          },
          "execution_count": 113,
          "metadata": {},
          "output_type": "execute_result"
        }
      ],
      "source": [
        "pred_tree = neigh.predict(xtest)\n",
        "from sklearn.metrics import accuracy_score\n",
        "accuracy_score(ytest,pred_tree)"
      ]
    },
    {
      "cell_type": "code",
      "execution_count": null,
      "metadata": {
        "colab": {
          "background_save": true
        },
        "id": "rWhaQQ5PCpft",
        "outputId": "a12b407b-de67-44ff-d2ee-3778dfe776a2"
      },
      "outputs": [
        {
          "data": {
            "text/plain": [
              "<sklearn.metrics._plot.confusion_matrix.ConfusionMatrixDisplay at 0x7f2f99b82c40>"
            ]
          },
          "execution_count": 114,
          "metadata": {},
          "output_type": "execute_result"
        },
        {
          "data": {
            "image/png": "[encoded data removed]",
            "text/plain": [
              "<Figure size 576x396 with 2 Axes>"
            ]
          },
          "metadata": {},
          "output_type": "display_data"
        },
        {
          "data": {
            "image/png": "[encoded data removed]",
            "text/plain": [
              "<Figure size 720x720 with 2 Axes>"
            ]
          },
          "metadata": {},
          "output_type": "display_data"
        }
      ],
      "source": [
        "from sklearn.metrics import confusion_matrix\n",
        "cm = confusion_matrix(ytest,pred_tree)\n",
        "from sklearn.metrics import ConfusionMatrixDisplay\n",
        "cmp = ConfusionMatrixDisplay.from_predictions(ytest,pred_tree)\n",
        "fig, ax = plt.subplots(figsize=(10,10))\n",
        "cmp.plot(ax=ax)"
      ]
    },
    {
      "cell_type": "code",
      "execution_count": null,
      "metadata": {
        "colab": {
          "background_save": true
        },
        "id": "2NBDiMyxKYqm",
        "outputId": "1b7f7c86-e5c7-4a67-b14d-9fac9a8b7866"
      },
      "outputs": [
        {
          "name": "stdout",
          "output_type": "stream",
          "text": [
            "                   precision    recall  f1-score   support\n",
            "\n",
            "             Mild       0.37      0.67      0.47        27\n",
            "         Moderate       0.17      0.12      0.14        16\n",
            "Moderately severe       0.00      0.00      0.00        13\n",
            "     None-minimal       0.40      0.29      0.33        21\n",
            "           Severe       0.00      0.00      0.00         3\n",
            "\n",
            "         accuracy                           0.33        80\n",
            "        macro avg       0.19      0.22      0.19        80\n",
            "     weighted avg       0.26      0.33      0.28        80\n",
            "\n"
          ]
        },
        {
          "name": "stderr",
          "output_type": "stream",
          "text": [
            "/usr/local/lib/python3.8/dist-packages/sklearn/metrics/_classification.py:1318: UndefinedMetricWarning: Precision and F-score are ill-defined and being set to 0.0 in labels with no predicted samples. Use `zero_division` parameter to control this behavior.\n",
            "  _warn_prf(average, modifier, msg_start, len(result))\n",
            "/usr/local/lib/python3.8/dist-packages/sklearn/metrics/_classification.py:1318: UndefinedMetricWarning: Precision and F-score are ill-defined and being set to 0.0 in labels with no predicted samples. Use `zero_division` parameter to control this behavior.\n",
            "  _warn_prf(average, modifier, msg_start, len(result))\n",
            "/usr/local/lib/python3.8/dist-packages/sklearn/metrics/_classification.py:1318: UndefinedMetricWarning: Precision and F-score are ill-defined and being set to 0.0 in labels with no predicted samples. Use `zero_division` parameter to control this behavior.\n",
            "  _warn_prf(average, modifier, msg_start, len(result))\n"
          ]
        }
      ],
      "source": [
        "from sklearn.metrics import classification_report\n",
        "print(classification_report(ytest,pred_tree))"
      ]
    },
    {
      "cell_type": "markdown",
      "metadata": {
        "id": "SHw8-U_FEFYn"
      },
      "source": [
        "# **Gaussian Naive bayes**\n"
      ]
    },
    {
      "cell_type": "code",
      "execution_count": null,
      "metadata": {
        "colab": {
          "background_save": true
        },
        "id": "6JoveZXiAoh1"
      },
      "outputs": [],
      "source": [
        "from sklearn.model_selection import train_test_split\n",
        "xtrain,xtest,ytrain,ytest = train_test_split(x,y,test_size=.10,random_state=10)"
      ]
    },
    {
      "cell_type": "code",
      "execution_count": null,
      "metadata": {
        "colab": {
          "background_save": true
        },
        "id": "g2T78HcvAvaK"
      },
      "outputs": [],
      "source": [
        "from sklearn.preprocessing import StandardScaler\n",
        "sc = StandardScaler()\n",
        "X_train = sc.fit_transform(xtrain)\n",
        "X_test = sc.transform(xtest)\n",
        "# X_train = xtrain\n",
        "# X_test = xtest"
      ]
    },
    {
      "cell_type": "code",
      "execution_count": null,
      "metadata": {
        "colab": {
          "background_save": true
        },
        "id": "LYzOCDSNA1k2",
        "outputId": "b6d8e670-b889-4d64-f023-9252a84988bf"
      },
      "outputs": [
        {
          "data": {
            "text/plain": [
              "GaussianNB()"
            ]
          },
          "execution_count": 118,
          "metadata": {},
          "output_type": "execute_result"
        }
      ],
      "source": [
        "from sklearn.naive_bayes import GaussianNB\n",
        "gs = GaussianNB()\n",
        "gs.fit(X_train, ytrain)"
      ]
    },
    {
      "cell_type": "code",
      "execution_count": null,
      "metadata": {
        "colab": {
          "background_save": true
        },
        "id": "Pk2YMQtmA4bl",
        "outputId": "cd8329e5-bee3-40a6-fdce-6e1027a0ea3c"
      },
      "outputs": [
        {
          "data": {
            "text/plain": [
              "array(['Severe', 'Mild', 'Mild', 'Mild', 'Mild', 'Moderately severe',\n",
              "       'Mild', 'Mild', 'Severe', 'Severe', 'Mild', 'Severe',\n",
              "       'Moderately severe', 'Mild', 'Severe', 'Mild', 'Mild', 'Mild',\n",
              "       'Severe', 'Severe', 'Mild', 'Mild', 'Mild', 'Mild',\n",
              "       'Moderately severe', 'Mild', 'Mild', 'Mild', 'Mild', 'Mild',\n",
              "       'Severe', 'Mild', 'Moderately severe', 'Mild', 'Mild',\n",
              "       'Moderately severe', 'Mild', 'Mild', 'Mild', 'Mild',\n",
              "       'Moderately severe', 'Mild', 'Severe', 'Mild', 'Mild', 'Severe',\n",
              "       'Moderately severe', 'Moderately severe', 'Severe', 'Mild', 'Mild',\n",
              "       'Moderately severe', 'Mild', 'Mild', 'Severe', 'Mild',\n",
              "       'Moderately severe', 'Mild', 'Moderately severe',\n",
              "       'Moderately severe', 'Mild', 'Mild', 'Mild', 'Mild', 'Mild',\n",
              "       'Severe', 'Mild', 'Mild', 'Mild', 'Moderately severe', 'Mild',\n",
              "       'Moderately severe', 'Mild', 'Severe', 'Mild', 'Mild', 'Severe',\n",
              "       'Moderately severe', 'Severe', 'Severe'], dtype='<U17')"
            ]
          },
          "execution_count": 119,
          "metadata": {},
          "output_type": "execute_result"
        }
      ],
      "source": [
        "gs.predict(X_test)"
      ]
    },
    {
      "cell_type": "code",
      "execution_count": null,
      "metadata": {
        "colab": {
          "background_save": true
        },
        "id": "RL7V7M3-BlxF",
        "outputId": "2857c0ae-1ced-418d-94ca-2b6ccbd49c96"
      },
      "outputs": [
        {
          "data": {
            "text/plain": [
              "0.2375"
            ]
          },
          "execution_count": 120,
          "metadata": {},
          "output_type": "execute_result"
        }
      ],
      "source": [
        "gs.score(X_test,ytest)"
      ]
    },
    {
      "cell_type": "code",
      "execution_count": null,
      "metadata": {
        "colab": {
          "background_save": true
        },
        "id": "Gifg6t2JBmbV",
        "outputId": "39ea02a3-fd4f-4082-e475-652cdb969bd0"
      },
      "outputs": [
        {
          "data": {
            "text/plain": [
              "0.2375"
            ]
          },
          "execution_count": 121,
          "metadata": {},
          "output_type": "execute_result"
        }
      ],
      "source": [
        "pred_tree = gs.predict(X_test)\n",
        "from sklearn.metrics import accuracy_score\n",
        "accuracy_score(ytest,pred_tree)"
      ]
    },
    {
      "cell_type": "code",
      "execution_count": null,
      "metadata": {
        "colab": {
          "background_save": true
        },
        "id": "DPW2e9okCq-k",
        "outputId": "7069e1cb-8b81-4c64-c362-0b478eae68e4"
      },
      "outputs": [
        {
          "data": {
            "text/plain": [
              "<sklearn.metrics._plot.confusion_matrix.ConfusionMatrixDisplay at 0x7f2f9999fc70>"
            ]
          },
          "execution_count": 122,
          "metadata": {},
          "output_type": "execute_result"
        },
        {
          "data": {
            "image/png": "[encoded data removed]",
            "text/plain": [
              "<Figure size 576x396 with 2 Axes>"
            ]
          },
          "metadata": {},
          "output_type": "display_data"
        },
        {
          "data": {
            "image/png": "[encoded data removed]",
            "text/plain": [
              "<Figure size 720x720 with 2 Axes>"
            ]
          },
          "metadata": {},
          "output_type": "display_data"
        }
      ],
      "source": [
        "from sklearn.metrics import confusion_matrix\n",
        "cm = confusion_matrix(ytest,pred_tree)\n",
        "from sklearn.metrics import ConfusionMatrixDisplay\n",
        "cmp = ConfusionMatrixDisplay.from_predictions(ytest,pred_tree)\n",
        "fig, ax = plt.subplots(figsize=(10,10))\n",
        "cmp.plot(ax=ax)"
      ]
    },
    {
      "cell_type": "code",
      "execution_count": null,
      "metadata": {
        "colab": {
          "background_save": true
        },
        "id": "GXuC6J6eBtQI",
        "outputId": "d205cf8f-ba8b-4581-eb30-11ed62f7c7fe"
      },
      "outputs": [
        {
          "name": "stdout",
          "output_type": "stream",
          "text": [
            "                   precision    recall  f1-score   support\n",
            "\n",
            "             Mild       0.31      0.56      0.40        27\n",
            "         Moderate       0.00      0.00      0.00        16\n",
            "Moderately severe       0.20      0.23      0.21        13\n",
            "     None-minimal       0.00      0.00      0.00        21\n",
            "           Severe       0.06      0.33      0.10         3\n",
            "\n",
            "         accuracy                           0.24        80\n",
            "        macro avg       0.11      0.22      0.14        80\n",
            "     weighted avg       0.14      0.24      0.17        80\n",
            "\n"
          ]
        },
        {
          "name": "stderr",
          "output_type": "stream",
          "text": [
            "/usr/local/lib/python3.8/dist-packages/sklearn/metrics/_classification.py:1318: UndefinedMetricWarning: Precision and F-score are ill-defined and being set to 0.0 in labels with no predicted samples. Use `zero_division` parameter to control this behavior.\n",
            "  _warn_prf(average, modifier, msg_start, len(result))\n",
            "/usr/local/lib/python3.8/dist-packages/sklearn/metrics/_classification.py:1318: UndefinedMetricWarning: Precision and F-score are ill-defined and being set to 0.0 in labels with no predicted samples. Use `zero_division` parameter to control this behavior.\n",
            "  _warn_prf(average, modifier, msg_start, len(result))\n",
            "/usr/local/lib/python3.8/dist-packages/sklearn/metrics/_classification.py:1318: UndefinedMetricWarning: Precision and F-score are ill-defined and being set to 0.0 in labels with no predicted samples. Use `zero_division` parameter to control this behavior.\n",
            "  _warn_prf(average, modifier, msg_start, len(result))\n"
          ]
        }
      ],
      "source": [
        "from sklearn.metrics import classification_report\n",
        "print(classification_report(ytest,pred_tree))"
      ]
    },
    {
      "cell_type": "code",
      "execution_count": null,
      "metadata": {
        "colab": {
          "background_save": true
        },
        "id": "xqDddkhUTMmO"
      },
      "outputs": [],
      "source": []
    },
    {
      "cell_type": "markdown",
      "metadata": {
        "id": "_mqXXcNtL8v8"
      },
      "source": [
        "# **VotingClassifier**"
      ]
    },
    {
      "cell_type": "code",
      "execution_count": null,
      "metadata": {
        "colab": {
          "background_save": true
        },
        "id": "3YEVUB20L5S1"
      },
      "outputs": [],
      "source": [
        "from sklearn.model_selection import train_test_split\n",
        "xtrain,xtest,ytrain,ytest = train_test_split(x,y,test_size=.15,random_state=10)"
      ]
    },
    {
      "cell_type": "code",
      "execution_count": null,
      "metadata": {
        "colab": {
          "background_save": true
        },
        "id": "3ilDrEJAKoCJ",
        "outputId": "2cb38efe-669e-4a68-8315-aa751b738ef1"
      },
      "outputs": [
        {
          "data": {
            "text/plain": [
              "VotingClassifier(estimators=[('Decision tree',\n",
              "                              DecisionTreeClassifier(random_state=42)),\n",
              "                             ('random forest',\n",
              "                              RandomForestClassifier(bootstrap=False,\n",
              "                                                     max_depth=120,\n",
              "                                                     max_features='sqrt',\n",
              "                                                     min_samples_leaf=4,\n",
              "                                                     min_samples_split=6)),\n",
              "                             ('svm', SVC(C=10))])"
            ]
          },
          "execution_count": 125,
          "metadata": {},
          "output_type": "execute_result"
        }
      ],
      "source": [
        "from sklearn.ensemble import VotingClassifier\n",
        "\n",
        "clf1 = DecisionTreeClassifier(random_state=42)\n",
        "clf2 = RandomForestClassifier(n_estimators = 100, min_samples_split = 6, min_samples_leaf= 4, max_features = 'sqrt', max_depth= 120, bootstrap=False)\n",
        "clf3 = svm.SVC( kernel = 'rbf', gamma='scale' , C=10 )\n",
        "\n",
        "\n",
        "eclf1 = VotingClassifier ( estimators=[('Decision tree',clf1),('random forest',clf2),('svm',clf3)] , voting ='hard' )\n",
        "eclf1.fit(xtrain,ytrain)"
      ]
    },
    {
      "cell_type": "code",
      "execution_count": null,
      "metadata": {
        "colab": {
          "background_save": true
        },
        "id": "HIVZRNBKMHDq",
        "outputId": "d236e960-ddaf-4d55-d202-8cdc38e3b46f"
      },
      "outputs": [
        {
          "data": {
            "text/plain": [
              "array(['Mild', 'Mild', 'Mild', 'Mild', 'Mild', 'Mild', 'Mild', 'Mild',\n",
              "       'Mild', 'Mild', 'Mild', 'Mild', 'Moderate', 'Mild', 'Mild', 'Mild',\n",
              "       'Mild', 'Mild', 'Mild', 'Mild', 'Mild', 'Mild', 'Mild', 'Mild',\n",
              "       'Moderately severe', 'Mild', 'Mild', 'Mild', 'Mild', 'Mild',\n",
              "       'Mild', 'Mild', 'Mild', 'Mild', 'Mild', 'Moderate', 'Mild',\n",
              "       'None-minimal', 'Mild', 'Mild', 'Mild', 'Mild', 'None-minimal',\n",
              "       'Mild', 'Mild', 'Mild', 'Mild', 'Mild', 'Mild', 'Mild', 'Mild',\n",
              "       'Mild', 'Mild', 'Mild', 'Mild', 'Mild', 'Mild', 'None-minimal',\n",
              "       'Mild', 'Mild', 'Mild', 'Mild', 'Mild', 'Mild', 'Mild', 'Mild',\n",
              "       'Mild', 'Mild', 'Mild', 'Mild', 'Mild', 'Mild', 'Mild', 'Moderate',\n",
              "       'Mild', 'Mild', 'Severe', 'Mild', 'Mild', 'Mild', 'Mild', 'Mild',\n",
              "       'Mild', 'Mild', 'Mild', 'Mild', 'None-minimal', 'Mild', 'Mild',\n",
              "       'Mild', 'Mild', 'Mild', 'Mild', 'Severe', 'Mild', 'Mild', 'Mild',\n",
              "       'Mild', 'Mild', 'Mild', 'None-minimal', 'Mild', 'Mild', 'Mild',\n",
              "       'Mild', 'Mild', 'Mild', 'Mild', 'Mild', 'Moderate', 'Mild',\n",
              "       'None-minimal', 'Moderate', 'Mild', 'Mild', 'Mild', 'None-minimal',\n",
              "       'Mild', 'Mild'], dtype=object)"
            ]
          },
          "execution_count": 126,
          "metadata": {},
          "output_type": "execute_result"
        }
      ],
      "source": [
        "eclf1.predict(xtest)"
      ]
    },
    {
      "cell_type": "code",
      "execution_count": null,
      "metadata": {
        "colab": {
          "background_save": true
        },
        "id": "gQ_s9jWaMJJc",
        "outputId": "300cc620-3fd6-40dd-c230-e2bc8573a5bc"
      },
      "outputs": [
        {
          "data": {
            "text/plain": [
              "0.35294117647058826"
            ]
          },
          "execution_count": 127,
          "metadata": {},
          "output_type": "execute_result"
        }
      ],
      "source": [
        "pred_tree = eclf1.predict(xtest)\n",
        "from sklearn.metrics import accuracy_score\n",
        "accuracy_score(ytest,pred_tree)"
      ]
    },
    {
      "cell_type": "code",
      "execution_count": null,
      "metadata": {
        "colab": {
          "background_save": true
        },
        "id": "P6aATGZ3MSs3",
        "outputId": "587a9a43-33ca-41b9-ac96-012a24ecdc33"
      },
      "outputs": [
        {
          "data": {
            "text/plain": [
              "<sklearn.metrics._plot.confusion_matrix.ConfusionMatrixDisplay at 0x7f2f997d5b80>"
            ]
          },
          "execution_count": 128,
          "metadata": {},
          "output_type": "execute_result"
        },
        {
          "data": {
            "image/png": "[encoded data removed]",
            "text/plain": [
              "<Figure size 576x396 with 2 Axes>"
            ]
          },
          "metadata": {},
          "output_type": "display_data"
        },
        {
          "data": {
            "image/png": "[encoded data removed]",
            "text/plain": [
              "<Figure size 720x720 with 2 Axes>"
            ]
          },
          "metadata": {},
          "output_type": "display_data"
        }
      ],
      "source": [
        "from sklearn.metrics import confusion_matrix\n",
        "cm = confusion_matrix(ytest,pred_tree)\n",
        "from sklearn.metrics import ConfusionMatrixDisplay\n",
        "cmp = ConfusionMatrixDisplay.from_predictions(ytest,pred_tree)\n",
        "fig, ax = plt.subplots(figsize=(10,10))\n",
        "cmp.plot(ax=ax)"
      ]
    },
    {
      "cell_type": "code",
      "execution_count": null,
      "metadata": {
        "colab": {
          "background_save": true
        },
        "id": "qTR41HwMMTRp",
        "outputId": "005f1125-37ed-40dd-c74f-0e16e441030c"
      },
      "outputs": [
        {
          "name": "stdout",
          "output_type": "stream",
          "text": [
            "                   precision    recall  f1-score   support\n",
            "\n",
            "             Mild       0.34      0.85      0.48        41\n",
            "         Moderate       0.00      0.00      0.00        24\n",
            "Moderately severe       1.00      0.06      0.11        17\n",
            "     None-minimal       0.57      0.13      0.21        31\n",
            "           Severe       1.00      0.33      0.50         6\n",
            "\n",
            "         accuracy                           0.35       119\n",
            "        macro avg       0.58      0.27      0.26       119\n",
            "     weighted avg       0.46      0.35      0.26       119\n",
            "\n"
          ]
        }
      ],
      "source": [
        "from sklearn.metrics import classification_report\n",
        "print(classification_report(ytest,pred_tree))"
      ]
    }
  ],
  "metadata": {
    "colab": {
      "provenance": []
    },
    "kernelspec": {
      "display_name": "Python 3",
      "name": "python3"
    },
    "language_info": {
      "name": "python"
    }
  },
  "nbformat": 4,
  "nbformat_minor": 0
}